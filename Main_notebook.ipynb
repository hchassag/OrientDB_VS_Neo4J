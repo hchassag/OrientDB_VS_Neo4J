{
 "cells": [
  {
   "cell_type": "markdown",
   "metadata": {},
   "source": [
    "# <center>**OrientDB VS Neo4J : la guerre des graphes**<u></center> "
   ]
  },
  {
   "cell_type": "markdown",
   "metadata": {},
   "source": [
    "### <center>Auteurs : Chassagnon - Fischer - Sow </center> "
   ]
  },
  {
   "cell_type": "markdown",
   "metadata": {},
   "source": [
    "<img src=\"pilotes_img.jpg\" width=\"1100\" height=\"400\">"
   ]
  },
  {
   "cell_type": "markdown",
   "metadata": {},
   "source": [
    "### Outline\n",
    "####  Introduction\n",
    "#### 1. OrientDB une base de donnée multimodèle \n",
    "  > ##### a. Présentation de la base de donnée \n",
    "  > ##### b. Installation et premiers pas \n",
    "#### 2. Comparaison avec Neo4J\n",
    "  > ##### a. Notre approche (présenter le dataset ici)\n",
    "  > ##### b. Création des bases de données\n",
    "  > ##### c. Requêtes\n",
    "#### 3. Conclusion sur la comparaison et Limites de notre approche\n",
    "####  Conclusion générale "
   ]
  },
  {
   "cell_type": "markdown",
   "metadata": {},
   "source": [
    "# <u>**Introduction**<u>"
   ]
  },
  {
   "cell_type": "markdown",
   "metadata": {},
   "source": [
    "<div style=\"text-align: justify\"> Le big data, cette technologie révolutionnaire qui va changer nos vies. C'est en ces termes qu'est présenté ce concept né fin des années 90 aux États-unis. Ce terme est en effet maintenant devenu un \"buzz word\" utilisé à tout va dans les sphères médiatiques et dans le marketing pour attirer l'attention ou susciter l'engouement autour de technologies qui dans la majorité des cas ne sont pas totalement maîtrisées. Cependant, derrière ce terme se cache des solutions certes innovantes mais qui dépassent la simple traduction littérale de \"grosses masses de données\" qu'on lui attribue. Elle n'est en réalité pas seulement liée au volume de données mais aussi et surtout à la variété de celles-ci (leur hétérogénéité), la vélocité à laquelle elle nous parviennent, leur valeur et véracité. On parle des cinq V du big data. \n",
    "L'écosystème du big data a notamment fait sa révolution grâce à l'évolution des architectures informatiques et à la création de la technique de MapReduce par google (dans le framework Hadoop). Mais aussi au changement de paradigme que représente le passage des bases de données relationnées utilisant le language SQL (Structured query Language) aux systèmes NoSQL (Not Only SQL). Malgré la domination du SQL qui reste le type de base de donnée prépondérant, nous assistons à l'émergence du NoSQL propulsé notamment par la dynamique de nouvelles start-up qui sont souvent rachetés par les géants \"traditionnels\" du big data que sont Oracle, IBM, Google. \n",
    "Parmi ces technologies NoSQL, nous distinguons notamment les bases de données de type graphes qui stockent la donnée sous forme de graphes en liant des neouds (Nodes - Vertex) grâce à des relations (Links - Edges). Elle sont très utilisées par les géants du net comme Facebook ou Twitter pour représenter les relations qui existent entre les utilisateurs. \n",
    "Dans cet exposé, nous allons présenter un système de gestion de base de données (SGBD) de type graphe OrientDB en le comparant notamment à un SGBD orienté graphe concurrant Neo4J. Nous utiliserons leurs \"drivers\" python que sont respectivement pyrorient and py2neo. </div>"
   ]
  },
  {
   "cell_type": "markdown",
   "metadata": {},
   "source": [
    "## 1. <u>**OrientDB une base de donnée multimodèle**<u>"
   ]
  },
  {
   "cell_type": "markdown",
   "metadata": {},
   "source": [
    "### a. Présentation de la base de donnée "
   ]
  },
  {
   "cell_type": "markdown",
   "metadata": {},
   "source": [
    "OrientDB a vu le jour en 2010 grâce à Luca Garulli. OrientDB a très vite revendiqué le titre de premier SGBD multimodèle marquant, selon son créateur, la nouvelle révolution du NoSQL. Multimodèle ici se référe au fait que OrientDB a été réfléchie pour pouvoir notamment gérer à la fois des données de type graphes, documents et clés-valeurs. Ce qui marque une certaine révolution. \n",
    "Sa particularité est qu'elle inclue une couche du language SQL. Cependant, au lieu de parcourir les relations (edges) grâce à des jointures (une des plus importante feature du SQL), des liens (Links) sont utilisés. Il s'agit de liaisons directes par enregistrement d’un pointeur vers l’objet. Ce qui la différencie des SGBD relationnels. Cela conduit à une récupération rapide de données reliées par rapport aux jointures dans un Système de Gestion de Base de Données (SGBD) qui pour nous est un hybride Relationnel-Graphe. Nous évoquerons dans la suite de l'exposé cette dernière comme une SGBD-G. \n",
    "De tous les types de stockage de données évoqués ci-dessus, le type graphe utilisé aussi par Neo4J est décrit dans la littérature comme le plus structurant en NoSQL (VERGNES, 2015). L'essence même de la donnée est ici conservée. "
   ]
  },
  {
   "cell_type": "markdown",
   "metadata": {},
   "source": [
    "<img src=\"graph_eg.png\" width=\"800\" height=\"400\">"
   ]
  },
  {
   "cell_type": "markdown",
   "metadata": {},
   "source": [
    "<center> Figure 1 : Exemple de SGBD orienté graphe </center> "
   ]
  },
  {
   "cell_type": "markdown",
   "metadata": {},
   "source": [
    "Les SGBD graphes ont comme évoquée une gestion des données basée sur des nœuds (les individus divers), possédant un certain nombre de propriétés (informations), reliés entre eux par des arêtes (edges). Les graphes peuvent gérer des modèles très connectés avec une grande quantité de données en gardant leur structure au niveau du réseau ainsi formé. Elles utilisent les propriétées de la théorie des graphes ..................\n",
    "\n",
    "Écrite en Java, OrientDB s’appuie sur une communauté open source pour se développer, dirigée par OrientDB LTD qui est une filiale de SAP. Cette dernière l'a acquise après le rachat de CallidusCloud en 2018. La stratégie de SAP concernant OrientDB a été claire dès le rachat. La structure resterait assez indépendante, l'équipe maintenue et le développement open source. Ainsi, vous pouvez contribuer facilement à OrientDB et dialoguer avec l'équipe [ici](https://github.com/orientechnologies/orientdb).\n",
    "Elle possède toutes les fonctions natives d’un graph data base avec la flexibilité et la rapidité d’un document store (OrientDB).\n",
    "Plusieurs versions d’OrientDB existent, une version entreprise et une autre communautaire. Nous traiterons ici seulement de cette dernière, gratuite."
   ]
  },
  {
   "cell_type": "markdown",
   "metadata": {},
   "source": [
    "### b. Installation et premiers pas "
   ]
  },
  {
   "cell_type": "markdown",
   "metadata": {},
   "source": [
    "#### Installation"
   ]
  },
  {
   "cell_type": "markdown",
   "metadata": {},
   "source": [
    "Nous détaillerons dans cette partie l'installation et la mise en place de la base de donnée. Nous utiliserons de la documentation issues principalement de notre expérience personnelle avec OrientDB, ainsi que le [MOOC de Udemy sur OrientDB](https://www.udemy.com/join/login-popup/?next=/course/orientdb-getting-started/learn/lecture/1726168#overview) et le [site officiel d’OrientDB](www.orientdb.org). Toutes ces étapes ne concernent de plus que la version gratuite (appelée Community Edition) disponible sous licence Apache2 (utilisation et distribution à des fins personnels, académiques et commerciales sans restriction). "
   ]
  },
  {
   "cell_type": "markdown",
   "metadata": {},
   "source": [
    "Prérequis : OrientDB nécessite de posséder les systèmes d'exploitation qui peuvent implémenter une machine virtuelle Java : \n",
    "- Microsoft Windows 95/NT et versions postérieures, \n",
    "- Mac OS X, \n",
    "- Linux,\n",
    "- Solaris...\n",
    "Mais aussi d'avoir une version de Java ultérieure à 1.7. Lors de notre première prise en main, nous avons constaté que même certaines versions ultérieures avaient du mal a être supporté par OrientDB. Nous conseillons si vous rencontrez des problèmes d'execution du fichier orientDB de désinstaller complétement Java et de réinstaller l'ensemble du JDK 8.  "
   ]
  },
  {
   "cell_type": "markdown",
   "metadata": {},
   "source": [
    "L’installation est très simple et comporte 3 étapes principales : \n",
    "Téléchargement // Décompression - Unzip // Lancement\n",
    " \n",
    "-          Télécharger et installer Java :  https://www.java.com/fr/ (version offline) s’il n’est pas déjà présent sur la machine\n",
    "-          Télécharger OrientDB selon le système d’exploitation : https://www.orientdb.org/download\n",
    "-          Décompresser/unzip le dossier, renommer le dossier de version en orientdb\n",
    "\n",
    "Pour obtenir le JDK 8 vous pouvez directement consulter le [site d'Oracle](https://www.oracle.com/fr/java/technologies/javase/javase-jdk8-downloads.html). Aussi, si vous désirez installer le Code source, vous pouvez le faire [ici](https://orientdb.com/docs/2.2.x/Tutorial-Installation.html). "
   ]
  },
  {
   "cell_type": "markdown",
   "metadata": {},
   "source": [
    "Après avoir téléchargé sur votre ordinateur OrientDB et bien vérifié avoir la version de Java, vous pourrez suivre les instructions suivantes pour finaliser votre installation. \n",
    "### <center><font color='red'>Mac OS X </font> - <font color='orange'>Windows</font> - <font color='red'>Linux </font> </center> \n"
   ]
  },
  {
   "cell_type": "markdown",
   "metadata": {},
   "source": [
    "-  Ouvrir l’invite de commande :<br>\n",
    " > <font color='orange'>Démarrer et rechercher l’invite de commande </font> <br>\n",
    " > <font color='red'>Clic droit sur le fichier server.sh du dossier orientdb et l’ouvrir avec Terminal </font> \n",
    " \n",
    "-  Changer le répertoire de travail au sous dossier bin du dossier orientdb. <br>\n",
    "Pour le dossier sur le bureau : <br>\n",
    " > <font color='orange'>C:\\Users\\Axel>cd Desktop\\orientdb\\bin </font> <br>\n",
    " > <font color='red'> MacBook-Pro-de-Ibrahima:bin ibrahimasow$  ~/Desktop/orientdb/bin</font> \n",
    " \n",
    "- Lancer le serveur OrientDB : <br>\n",
    " > <font color='orange'> C:\\Users\\Axel\\Desktop\\orientdb\\bin>server.bat </font> <br>\n",
    " > <font color='red'> MacBook-Pro-de-Ibrahima:bin ibrahimasow$ ./server.sh </font> \n",
    "\n",
    "\n"
   ]
  },
  {
   "cell_type": "markdown",
   "metadata": {},
   "source": [
    "<img src=\"orient-terminal.png\" width=\"1100\" height=\"400\">"
   ]
  },
  {
   "cell_type": "markdown",
   "metadata": {},
   "source": [
    "<center> Figure 2 : Lancement du server OrientDB à partir du terminal </center> "
   ]
  },
  {
   "cell_type": "markdown",
   "metadata": {},
   "source": [
    "#### Lancer le serveur"
   ]
  },
  {
   "cell_type": "markdown",
   "metadata": {},
   "source": [
    "Si besoin, autorisez l’accès aux réseaux à Java. Lorsque cela est demandé saisissez votre mot de passe pour autoriser l'installation de la base de donnéee. <br>\n",
    "Pour lancer le serveur OrientDB, il vous faut :\n",
    "   - lancer le fichier ./server.sh depuis votre invite de commande (terminal sur mac ou linux)\n",
    "   - sur votre navigateur ouvrir votre localhost sur le 2480. Vous pouvez faire cela à l'adresse suivante : http://localhost:2480/studio/index.html#/ <br>\n",
    "   \n",
    "<u>**Remarque**</u> : Notez que OrientDB Studio (le desktop de la base de donnée) se trouve au niveau du port 2480. Nous verrons plus tard que pour se connecter avec le driver Python il faudra utiliser le port 2424. \n",
    "Vous tomberez sur la page d'accueuil de votre base de donnée. Vous êtes prêt, à vous maintenant de changer le monde avec de magnifiques graphes."
   ]
  },
  {
   "cell_type": "markdown",
   "metadata": {},
   "source": [
    "<img src=\"lp_orientdb.png\" width=\"1100\" height=\"400\">"
   ]
  },
  {
   "cell_type": "markdown",
   "metadata": {},
   "source": [
    "<center> Figure 3 : Vue de la page de connexion du serveur local d'OrientDB Desktop </center> "
   ]
  },
  {
   "cell_type": "markdown",
   "metadata": {},
   "source": [
    "Vous pourrer vérifier à l'aide de requête simple si tout est OK en accédant à la base de donnée créée par défaut (demodb). Vous pourrez par exemple requêter toute la table Profiles grâce à la commande suivante: **SELECT * FROM Profiles**.\n",
    "Notez que 3 utilisateurs (admin, reader et writer) sont créés par défaut par OrientDB à chaque création de base de donnée. Veuillez de plus à garder précieusement votre code de connexion, il est unique pour l'ensemble de les bases de données que vous administrerez. En cas d'oublie, il vous faudra suivre une procédure assez fastidieuse qui implique d'altérer les fichiers configurations (nous vous conseillons de ne pas tenter ces opérations qui peuvent aboutir à une défection de certaines fonctions importantes).  "
   ]
  },
  {
   "cell_type": "markdown",
   "metadata": {},
   "source": [
    "#### Utiliser un driver"
   ]
  },
  {
   "cell_type": "markdown",
   "metadata": {},
   "source": [
    "OrientDB a comme évoqué été pensée et construire avec du Java pur, elle utilise SQL comme language de requête (mais aussi XXX) mais ce qui en fait un outil assez apprécié dans la communauté est qu'elle a dès ses débuts permis le développement de \"drivers\" (des programmes informatiques qui implémentent un protocole pour se connecter à une base de donnée). Ainsi, plusieurs développeurs extérieurs au projet ont programmé des interfaces de connection avec les langagues les plus populaires. On retrouve un driver Java (le plus actif et maintenu) mais aussi et surtout un driver Python appelé [Pyorient](https://github.com/mogui/pyorient). \n",
    "Pyorient s'installe facilement avec l'outil de gestion de packages de python pip. Il est nécessaire d'avoir une version de Python ultérieure au 2.7 (la plupart des ordinateurs étant déjà équipé de Python 2.7. Nous vous conseillons cependant d'utiliser Python 3 (>=3.7 étant l'idéal) pour pouvoir pleinement des possibilités de ce driver. \n",
    "- Installation de Pyorient : sur votre invite de commande (terminal) : <font color='pink'> **pip install pyorient** </font> <br>\n",
    "- pour importer pyorient dans votre IDE :  <font color='pink'> **import pyorient**</font> <br>"
   ]
  },
  {
   "cell_type": "markdown",
   "metadata": {},
   "source": [
    "## 2. <u> **Comparaison avec Neo4J**"
   ]
  },
  {
   "cell_type": "markdown",
   "metadata": {},
   "source": [
    "#### <center> @versions : Python : 3.7  //  Pyorient = 1.5.5  // Py2neo = 2020.0.0  //   OrientDB = 3.1.4 //   Neo4J : 4.1.1 // Sous Mac Catalina et Windows 7</center> "
   ]
  },
  {
   "cell_type": "markdown",
   "metadata": {},
   "source": [
    "<center> Disclaimer : Notre travail porte sur les versions citées ci-dessus, nos conclusions peuvent donc différer de celles d'autres travaux.</center> "
   ]
  },
  {
   "cell_type": "markdown",
   "metadata": {},
   "source": [
    "> #### a. Notre approche"
   ]
  },
  {
   "cell_type": "markdown",
   "metadata": {},
   "source": [
    " > #### - Stratégie"
   ]
  },
  {
   "cell_type": "markdown",
   "metadata": {},
   "source": [
    "Afin de présenter au mieux OrientDB et de le comparer à Neo4J, nous avons choisi de le faire sur une stratégie comparative bien définie. Nous avons effet, chosii de travailler à deux sur cette partie. Un de nous à travailler uniquement avec OrientDB/pyOrient et un autre uniquement avec Neo4J/py2neo. Le but étant de partir d'un même jeu de donnée (  celui des Championnats du monde de Formule 1 de 1950 à 2020), construire pour chacun la base de donnéee de son côté avec PyOrient pour l'un et Py2neo pour l'autre. Ensuite, les mêmes requêtes sont faites pour chacune des bases de donnéee. Enfin, chacun partage son expèrience à l'autre et essaie de comprendre en quoi la technologie qu'il a utilisé est meilleure ou moins performant par rapport à l'autre. \n",
    "Nous avons de plus décidé d'un nombre de critères bien défini qui nous semble pertinent pour une bonne utilisation d'une base de donnée orientée graphe. "
   ]
  },
  {
   "cell_type": "markdown",
   "metadata": {},
   "source": [
    " > #### - Jeu de données "
   ]
  },
  {
   "cell_type": "markdown",
   "metadata": {},
   "source": [
    "Le jeu de données, disponible sur [kaggle](https://www.kaggle.com/rohanrao/formula-1-world-championship-1950-2020), regroupe l'ensemble des informations relatives au déroulé et aux résultats des Grands Prix de Formule 1 depuis 1950. On y retrouve des informations sur les écuries (constructors), les épreuves de qualification (qualifying), les pilotes (drivers), les courses (races), les temps (laps stops)… Dans un soucis de cohérence avec les questions qui nous intéresse et d'adaptation de ce jeu de données aux capacités de nos ordinateurs, nous avons choisi de ne travailler que sur les tables suivantes : Constructors - Drivers - Races - Circuits - Results. Ces tables sont à elles seules suffisantes pour prendre en main OrientDB et Neo4J et réaliser au mieux la comparaison. Aussi, parce qu'il s'agit de données assez importantes, toutes ces tables sont reliées entre elles par des clés étrangers très pertinent dans les bases de données relationnelles. Nous allons voir qu'elles servent aussi énormément en NoSQL. La figure 4 présente contenu de chaque table. Aussi, dans un souci de simplification et de focalisation sur l'essentiel, nous n'allons extraire de chaque table que des variables qui nous semblent pertinentes e.g : Pour Drivers code et dob (date-of-birth) ne seront pas utilisées pour construire nos bases de données. "
   ]
  },
  {
   "cell_type": "markdown",
   "metadata": {},
   "source": [
    "<img src=\"dtst.png\" width=\"1100\" height=\"400\">"
   ]
  },
  {
   "cell_type": "markdown",
   "metadata": {},
   "source": [
    "<center> Figure 4 : Overview de notre jeu de donnée </center> "
   ]
  },
  {
   "cell_type": "markdown",
   "metadata": {},
   "source": [
    "> #### b. Création des bases de données"
   ]
  },
  {
   "cell_type": "markdown",
   "metadata": {},
   "source": [
    "Dans cette partie, nous détaillons la création et de XXX de notre base de donnée. En accord avec l'approche que nous avons adopté et présenté en 2.a chacun de nous va réalise cette étape l'étudiant 1 avec OrientDB et le 2 avec Neo4J. Pour chacune de cees deux technologies le même cheminement est suivi à savoir la création des noeuds (Nodes, Vertex) et celle des relations (Edges). "
   ]
  },
  {
   "cell_type": "markdown",
   "metadata": {},
   "source": [
    "   > - ## Sur OrientDB"
   ]
  },
  {
   "cell_type": "markdown",
   "metadata": {},
   "source": [
    "Nous procédons d'abord à l'importation de l'ensemble des librairies nécessaires. Le driver Pyorient se décline dans sa forme usuelle qui utilise pour dialoguer avec le serveur Orientdb en tant que client. Il existe aussi un module PyOrient OGM pour \"Object-Graph Mapper for PyOrient\" qui offre une interface de haut niveau (par rapport au dialogue avec la machine) pour les bases de données de type Graphe. Nous n'utiliserons ici que le module Pyorient. Nous importons de même les packages qui nous permettrons de mener à bien nos process de \"data wrangling\". "
   ]
  },
  {
   "cell_type": "code",
   "execution_count": 52,
   "metadata": {},
   "outputs": [],
   "source": [
    "import pyorient \n",
    "from pyorient.ogm import *\n",
    "from csv import *\n",
    "import pandas as pd\n",
    "import numpy as np\n",
    "import time as tm\n",
    "import seaborn as sns\n",
    "import psutil "
   ]
  },
  {
   "cell_type": "markdown",
   "metadata": {},
   "source": [
    "Sur Pyorient avec de dialoguer avec le serveur il est nécessaire de créer un client (une sorte de session). "
   ]
  },
  {
   "cell_type": "code",
   "execution_count": 53,
   "metadata": {},
   "outputs": [],
   "source": [
    "client = pyorient.OrientDB(\"localhost\", 2424)\n",
    "sessionToken = client.get_session_token()\n",
    "client.set_session_token(True)\n",
    "session_id = client.connect(\"root\", \"merlin\") # root correspond ici à notre id admin et merlin le mot de passe pour accéder au serveur"
   ]
  },
  {
   "cell_type": "markdown",
   "metadata": {},
   "source": [
    "A partir de ce client nous créer notre base de données Formula1."
   ]
  },
  {
   "cell_type": "code",
   "execution_count": 54,
   "metadata": {},
   "outputs": [],
   "source": [
    "#client.db_create(\n",
    " # \"Formula1\",\n",
    "  # pyorient.DB_TYPE_GRAPH,\n",
    "   # pyorient.STORAGE_TYPE_PLOCAL)"
   ]
  },
  {
   "cell_type": "code",
   "execution_count": 55,
   "metadata": {},
   "outputs": [],
   "source": [
    "client.db_open(\"Formula1\", \"root\", \"merlin\");"
   ]
  },
  {
   "cell_type": "markdown",
   "metadata": {},
   "source": [
    "Pyorient offre plusieurs commandes très simples et intuitives pour vérifier sa connexion, avoir quelques infos auprès du serveur. vous pouvez les retrouver [ici](https://orientdb.com/docs/2.2.x/PyOrient-Client.html). Nous affichons ci-dessous la liste des bases de données disponibles côté serveur ainsi que la taille de celle que  nous venons d'ouvrir. "
   ]
  },
  {
   "cell_type": "code",
   "execution_count": 56,
   "metadata": {},
   "outputs": [
    {
     "data": {
      "text/plain": [
       "<pyorient.otypes.OrientRecord at 0x11f3a8050>"
      ]
     },
     "execution_count": 56,
     "metadata": {},
     "output_type": "execute_result"
    }
   ],
   "source": [
    "dblist = client.db_list()\n",
    "dblist"
   ]
  },
  {
   "cell_type": "code",
   "execution_count": 57,
   "metadata": {},
   "outputs": [
    {
     "data": {
      "text/plain": [
       "18570079"
      ]
     },
     "execution_count": 57,
     "metadata": {},
     "output_type": "execute_result"
    }
   ],
   "source": [
    "client.db_size()"
   ]
  },
  {
   "cell_type": "markdown",
   "metadata": {},
   "source": [
    "Nous procédons ci-dessous à la création des noeuds de notre de données. Dans le vocabulaire d'OrientDB un noeud correspond à un VERTEX. Mathématiquement cela est très logique vu que cela correspond à un sommet en géométrie. Python étant un language orienté objet, nous utiliserons dans la partie ci-dessous plusieurs attributs et méthodes. Cette caractéristique de python fait qu'il soit très adapté à une base de donnée orienté graphe. En effet, ici aussi on parle de classes et d'objets. "
   ]
  },
  {
   "cell_type": "markdown",
   "metadata": {},
   "source": [
    "#### Création des noeuds "
   ]
  },
  {
   "cell_type": "markdown",
   "metadata": {},
   "source": [
    " > ####  Données écuries :  Constructors"
   ]
  },
  {
   "cell_type": "code",
   "execution_count": 8,
   "metadata": {},
   "outputs": [
    {
     "data": {
      "text/html": [
       "<div>\n",
       "<style scoped>\n",
       "    .dataframe tbody tr th:only-of-type {\n",
       "        vertical-align: middle;\n",
       "    }\n",
       "\n",
       "    .dataframe tbody tr th {\n",
       "        vertical-align: top;\n",
       "    }\n",
       "\n",
       "    .dataframe thead th {\n",
       "        text-align: right;\n",
       "    }\n",
       "</style>\n",
       "<table border=\"1\" class=\"dataframe\">\n",
       "  <thead>\n",
       "    <tr style=\"text-align: right;\">\n",
       "      <th></th>\n",
       "      <th>constructorId</th>\n",
       "      <th>constructorRef</th>\n",
       "      <th>cons_name</th>\n",
       "      <th>cons_nationality</th>\n",
       "      <th>url</th>\n",
       "    </tr>\n",
       "  </thead>\n",
       "  <tbody>\n",
       "    <tr>\n",
       "      <td>0</td>\n",
       "      <td>1</td>\n",
       "      <td>mclaren</td>\n",
       "      <td>McLaren</td>\n",
       "      <td>British</td>\n",
       "      <td>http://en.wikipedia.org/wiki/McLaren</td>\n",
       "    </tr>\n",
       "    <tr>\n",
       "      <td>1</td>\n",
       "      <td>2</td>\n",
       "      <td>bmw_sauber</td>\n",
       "      <td>BMW Sauber</td>\n",
       "      <td>German</td>\n",
       "      <td>http://en.wikipedia.org/wiki/BMW_Sauber</td>\n",
       "    </tr>\n",
       "    <tr>\n",
       "      <td>2</td>\n",
       "      <td>3</td>\n",
       "      <td>williams</td>\n",
       "      <td>Williams</td>\n",
       "      <td>British</td>\n",
       "      <td>http://en.wikipedia.org/wiki/Williams_Grand_Pr...</td>\n",
       "    </tr>\n",
       "    <tr>\n",
       "      <td>3</td>\n",
       "      <td>4</td>\n",
       "      <td>renault</td>\n",
       "      <td>Renault</td>\n",
       "      <td>French</td>\n",
       "      <td>http://en.wikipedia.org/wiki/Renault_in_Formul...</td>\n",
       "    </tr>\n",
       "    <tr>\n",
       "      <td>4</td>\n",
       "      <td>5</td>\n",
       "      <td>toro_rosso</td>\n",
       "      <td>Toro Rosso</td>\n",
       "      <td>Italian</td>\n",
       "      <td>http://en.wikipedia.org/wiki/Scuderia_Toro_Rosso</td>\n",
       "    </tr>\n",
       "    <tr>\n",
       "      <td>...</td>\n",
       "      <td>...</td>\n",
       "      <td>...</td>\n",
       "      <td>...</td>\n",
       "      <td>...</td>\n",
       "      <td>...</td>\n",
       "    </tr>\n",
       "    <tr>\n",
       "      <td>206</td>\n",
       "      <td>209</td>\n",
       "      <td>manor</td>\n",
       "      <td>Manor Marussia</td>\n",
       "      <td>British</td>\n",
       "      <td>http://en.wikipedia.org/wiki/Manor_Motorsport</td>\n",
       "    </tr>\n",
       "    <tr>\n",
       "      <td>207</td>\n",
       "      <td>210</td>\n",
       "      <td>haas</td>\n",
       "      <td>Haas F1 Team</td>\n",
       "      <td>American</td>\n",
       "      <td>http://en.wikipedia.org/wiki/Haas_F1_Team</td>\n",
       "    </tr>\n",
       "    <tr>\n",
       "      <td>208</td>\n",
       "      <td>211</td>\n",
       "      <td>racing_point</td>\n",
       "      <td>Racing Point</td>\n",
       "      <td>British</td>\n",
       "      <td>http://en.wikipedia.org/wiki/Racing_Point_F1_Team</td>\n",
       "    </tr>\n",
       "    <tr>\n",
       "      <td>209</td>\n",
       "      <td>212</td>\n",
       "      <td>alpha_tauri</td>\n",
       "      <td>Scuderia Alpha Tauri</td>\n",
       "      <td>Italian</td>\n",
       "      <td>http://en.wikipedia.org/wiki/Scuderia_Alpha_Tauri</td>\n",
       "    </tr>\n",
       "    <tr>\n",
       "      <td>210</td>\n",
       "      <td>213</td>\n",
       "      <td>alphatauri</td>\n",
       "      <td>AlphaTauri</td>\n",
       "      <td>Italian</td>\n",
       "      <td>http://en.wikipedia.org/wiki/Scuderia_AlphaTauri</td>\n",
       "    </tr>\n",
       "  </tbody>\n",
       "</table>\n",
       "<p>211 rows × 5 columns</p>\n",
       "</div>"
      ],
      "text/plain": [
       "     constructorId constructorRef             cons_name cons_nationality  \\\n",
       "0                1        mclaren               McLaren          British   \n",
       "1                2     bmw_sauber            BMW Sauber           German   \n",
       "2                3       williams              Williams          British   \n",
       "3                4        renault               Renault           French   \n",
       "4                5     toro_rosso            Toro Rosso          Italian   \n",
       "..             ...            ...                   ...              ...   \n",
       "206            209          manor        Manor Marussia          British   \n",
       "207            210           haas          Haas F1 Team         American   \n",
       "208            211   racing_point          Racing Point          British   \n",
       "209            212    alpha_tauri  Scuderia Alpha Tauri          Italian   \n",
       "210            213     alphatauri            AlphaTauri          Italian   \n",
       "\n",
       "                                                   url  \n",
       "0                 http://en.wikipedia.org/wiki/McLaren  \n",
       "1              http://en.wikipedia.org/wiki/BMW_Sauber  \n",
       "2    http://en.wikipedia.org/wiki/Williams_Grand_Pr...  \n",
       "3    http://en.wikipedia.org/wiki/Renault_in_Formul...  \n",
       "4     http://en.wikipedia.org/wiki/Scuderia_Toro_Rosso  \n",
       "..                                                 ...  \n",
       "206      http://en.wikipedia.org/wiki/Manor_Motorsport  \n",
       "207          http://en.wikipedia.org/wiki/Haas_F1_Team  \n",
       "208  http://en.wikipedia.org/wiki/Racing_Point_F1_Team  \n",
       "209  http://en.wikipedia.org/wiki/Scuderia_Alpha_Tauri  \n",
       "210   http://en.wikipedia.org/wiki/Scuderia_AlphaTauri  \n",
       "\n",
       "[211 rows x 5 columns]"
      ]
     },
     "execution_count": 8,
     "metadata": {},
     "output_type": "execute_result"
    }
   ],
   "source": [
    "debut = tm.time()\n",
    "path_to_data = \"/Users/ibrahimasow/Desktop/formula_1/\"\n",
    "file= open(path_to_data+'constructors.csv','r')\n",
    "constructors = pd.read_csv(file)\n",
    "constructors = constructors.rename(columns={\"name\": \"cons_name\", \"nationality\": \"cons_nationality\"})\n",
    "constructors "
   ]
  },
  {
   "cell_type": "code",
   "execution_count": 8,
   "metadata": {},
   "outputs": [],
   "source": [
    "constructorId = constructors['constructorId'].to_list()\n",
    "constructorRef = constructors['constructorRef'].to_list()\n",
    "cons_name = constructors['cons_name'].to_list()\n",
    "cons_nationality = constructors['cons_nationality'].to_list()"
   ]
  },
  {
   "cell_type": "markdown",
   "metadata": {},
   "source": [
    "La méthode command() permet d'écrire et d'éxécuter des requêtes qui sont comme il est possible de le constater ci-dessous du SQL. Une alternative à command est query : \n",
    "    client.query(\"CREATE Class Constructors EXTENDS V\")"
   ]
  },
  {
   "cell_type": "code",
   "execution_count": 9,
   "metadata": {},
   "outputs": [
    {
     "data": {
      "text/plain": [
       "[22]"
      ]
     },
     "execution_count": 9,
     "metadata": {},
     "output_type": "execute_result"
    }
   ],
   "source": [
    "client.command(\"CREATE Class Constructors EXTENDS V\")"
   ]
  },
  {
   "cell_type": "markdown",
   "metadata": {},
   "source": [
    "Nous avons constaté avec l'utilisation de Pyorient que le client avit tendance à se déconnecter du serveur en perdant ainsi son token (traduction littérale : jeton; comme une clef donnant l'autorisation à notre client de se connecter). Nous avons donc décidé avant chaque grosse requête de set (mettre) notre token. "
   ]
  },
  {
   "cell_type": "code",
   "execution_count": 177,
   "metadata": {},
   "outputs": [],
   "source": [
    "client.set_session_token(True); # ; pour ne pas voir l'output dans notre notebook"
   ]
  },
  {
   "cell_type": "markdown",
   "metadata": {},
   "source": [
    "Nous avons aussi constaté que pour certaines requêtes le temps de dialogue minimal (de 30s) instauré par les développeurs du package ne suffisait pas. Nous avons donc décider d'outre-passer cette limite temporelle en la fixant à 150s. Si vous utilisez ce feature évitez par contre de mettre un temps beaucoup trop long; cela risquerait de vous envoyer dans des infinite loops (des itérations à l'infini de votre programmation et un crash de votre ordinateur)."
   ]
  },
  {
   "cell_type": "code",
   "execution_count": null,
   "metadata": {},
   "outputs": [],
   "source": [
    "import socket\n",
    "socks = socket.socket(socket.AF_INET, socket.SOCK_STREAM)\n",
    "socks.settimeout(150.0) # set timeout is the attr of socks."
   ]
  },
  {
   "cell_type": "markdown",
   "metadata": {},
   "source": [
    "Afin d'envoyer notre neoud au serveur nous avons choisi d'utiliser l'une des fonctionalités les plus intéressantes d'OrientDB que repréesente le Batch. Le Batch en informatique est une technique qui permet une automatisation d'une suite de commandes exécutées en série sur un ordinateur sans qu'il soit nécessaire qu'un opérateur intervienne pour réaliser cette opération ([JDN, 2020](https://www.journaldunet.fr/web-tech/dictionnaire-du-webmastering/1203563-batch-definition-traduction/#:~:text=Le%20terme%20batch%20d%C3%A9signe%20en,expression%20%22traitement%20par%20lots%22.)). Les process Batch permettent ainsi en Big data d'optimiser la performance lorsque des tâches répétitives comme présentées ci-dessous sont à réaliser. Dans notre, plus commandes SQL ne différant que d'un charactère (les Id) est à réaliser. Nous initialisons donc notre commande batch. "
   ]
  },
  {
   "cell_type": "code",
   "execution_count": 21,
   "metadata": {},
   "outputs": [],
   "source": [
    "# Initialize Batch Commands Array\n",
    "batch_cmds = ['begin']"
   ]
  },
  {
   "cell_type": "markdown",
   "metadata": {},
   "source": [
    "Nous réalisons les itérations nécessaires et affectons les commandes SQL unitaires à la liste précédemment initialisée.  "
   ]
  },
  {
   "cell_type": "code",
   "execution_count": 22,
   "metadata": {},
   "outputs": [],
   "source": [
    "for a, b in zip(range(len(cons_name)), constructorId):\n",
    "    command = (\"CREATE VERTEX Constructors \"\n",
    "               \"SET constructorId = '%s', constructorRef = '%s', cons_name ='%s', cons_nationality ='%s'\"\n",
    "          % (b,\n",
    "             constructorRef[a],\n",
    "             cons_name[a],\n",
    "             cons_nationality[a]\n",
    "            ))\n",
    "    batch_cmds.append(command)\n",
    "# Add Batch Commit\n",
    "batch_cmds.append('commit retry 100;')"
   ]
  },
  {
   "cell_type": "markdown",
   "metadata": {},
   "source": [
    "Nous séparons chaque commande unitaire par un ; (séparateur de commande usuel en SQL)."
   ]
  },
  {
   "cell_type": "code",
   "execution_count": 24,
   "metadata": {},
   "outputs": [],
   "source": [
    "# Join with Semicolons\n",
    "cmd = ';'.join(batch_cmds)"
   ]
  },
  {
   "cell_type": "markdown",
   "metadata": {},
   "source": [
    "Et exécutons la commande Batch. "
   ]
  },
  {
   "cell_type": "code",
   "execution_count": 25,
   "metadata": {},
   "outputs": [],
   "source": [
    "# Execute Commands\n",
    "results = client.batch(cmd)"
   ]
  },
  {
   "cell_type": "markdown",
   "metadata": {},
   "source": [
    "Sans ce procédé, la tâche que nous venons d'éxécuter n'aurait pas pu se faire (crash répétitifs de notre connexion client-serveur) "
   ]
  },
  {
   "cell_type": "markdown",
   "metadata": {},
   "source": [
    "Nous répétons cette technique pour chacune des autres jeu de données à notre disposition. "
   ]
  },
  {
   "cell_type": "markdown",
   "metadata": {},
   "source": [
    "> #### Données circuit :  Circuits"
   ]
  },
  {
   "cell_type": "code",
   "execution_count": 9,
   "metadata": {},
   "outputs": [
    {
     "data": {
      "text/html": [
       "<div>\n",
       "<style scoped>\n",
       "    .dataframe tbody tr th:only-of-type {\n",
       "        vertical-align: middle;\n",
       "    }\n",
       "\n",
       "    .dataframe tbody tr th {\n",
       "        vertical-align: top;\n",
       "    }\n",
       "\n",
       "    .dataframe thead th {\n",
       "        text-align: right;\n",
       "    }\n",
       "</style>\n",
       "<table border=\"1\" class=\"dataframe\">\n",
       "  <thead>\n",
       "    <tr style=\"text-align: right;\">\n",
       "      <th></th>\n",
       "      <th>circuitId</th>\n",
       "      <th>circuitRef</th>\n",
       "      <th>circuits_name</th>\n",
       "      <th>location</th>\n",
       "      <th>country</th>\n",
       "      <th>lat</th>\n",
       "      <th>lng</th>\n",
       "      <th>alt</th>\n",
       "      <th>url</th>\n",
       "    </tr>\n",
       "  </thead>\n",
       "  <tbody>\n",
       "    <tr>\n",
       "      <td>0</td>\n",
       "      <td>1</td>\n",
       "      <td>albert_park</td>\n",
       "      <td>Albert Park Grand Prix Circuit</td>\n",
       "      <td>Melbourne</td>\n",
       "      <td>Australia</td>\n",
       "      <td>-37.84970</td>\n",
       "      <td>144.96800</td>\n",
       "      <td>10</td>\n",
       "      <td>http://en.wikipedia.org/wiki/Melbourne_Grand_P...</td>\n",
       "    </tr>\n",
       "    <tr>\n",
       "      <td>1</td>\n",
       "      <td>2</td>\n",
       "      <td>sepang</td>\n",
       "      <td>Sepang International Circuit</td>\n",
       "      <td>Kuala Lumpur</td>\n",
       "      <td>Malaysia</td>\n",
       "      <td>2.76083</td>\n",
       "      <td>101.73800</td>\n",
       "      <td>\\N</td>\n",
       "      <td>http://en.wikipedia.org/wiki/Sepang_Internatio...</td>\n",
       "    </tr>\n",
       "    <tr>\n",
       "      <td>2</td>\n",
       "      <td>3</td>\n",
       "      <td>bahrain</td>\n",
       "      <td>Bahrain International Circuit</td>\n",
       "      <td>Sakhir</td>\n",
       "      <td>Bahrain</td>\n",
       "      <td>26.03250</td>\n",
       "      <td>50.51060</td>\n",
       "      <td>\\N</td>\n",
       "      <td>http://en.wikipedia.org/wiki/Bahrain_Internati...</td>\n",
       "    </tr>\n",
       "    <tr>\n",
       "      <td>3</td>\n",
       "      <td>4</td>\n",
       "      <td>catalunya</td>\n",
       "      <td>Circuit de Barcelona-Catalunya</td>\n",
       "      <td>Montmeló</td>\n",
       "      <td>Spain</td>\n",
       "      <td>41.57000</td>\n",
       "      <td>2.26111</td>\n",
       "      <td>\\N</td>\n",
       "      <td>http://en.wikipedia.org/wiki/Circuit_de_Barcel...</td>\n",
       "    </tr>\n",
       "    <tr>\n",
       "      <td>4</td>\n",
       "      <td>5</td>\n",
       "      <td>istanbul</td>\n",
       "      <td>Istanbul Park</td>\n",
       "      <td>Istanbul</td>\n",
       "      <td>Turkey</td>\n",
       "      <td>40.95170</td>\n",
       "      <td>29.40500</td>\n",
       "      <td>\\N</td>\n",
       "      <td>http://en.wikipedia.org/wiki/Istanbul_Park</td>\n",
       "    </tr>\n",
       "    <tr>\n",
       "      <td>...</td>\n",
       "      <td>...</td>\n",
       "      <td>...</td>\n",
       "      <td>...</td>\n",
       "      <td>...</td>\n",
       "      <td>...</td>\n",
       "      <td>...</td>\n",
       "      <td>...</td>\n",
       "      <td>...</td>\n",
       "      <td>...</td>\n",
       "    </tr>\n",
       "    <tr>\n",
       "      <td>71</td>\n",
       "      <td>72</td>\n",
       "      <td>port_imperial</td>\n",
       "      <td>Port Imperial Street Circuit</td>\n",
       "      <td>New Jersey</td>\n",
       "      <td>USA</td>\n",
       "      <td>40.77690</td>\n",
       "      <td>-74.01110</td>\n",
       "      <td>\\N</td>\n",
       "      <td>http://en.wikipedia.org/wiki/Port_Imperial_Str...</td>\n",
       "    </tr>\n",
       "    <tr>\n",
       "      <td>72</td>\n",
       "      <td>73</td>\n",
       "      <td>BAK</td>\n",
       "      <td>Baku City Circuit</td>\n",
       "      <td>Baku</td>\n",
       "      <td>Azerbaijan</td>\n",
       "      <td>40.37250</td>\n",
       "      <td>49.85330</td>\n",
       "      <td>\\N</td>\n",
       "      <td>http://en.wikipedia.org/wiki/Baku_City_Circuit</td>\n",
       "    </tr>\n",
       "    <tr>\n",
       "      <td>73</td>\n",
       "      <td>74</td>\n",
       "      <td>hanoi</td>\n",
       "      <td>Hanoi Street Circuit</td>\n",
       "      <td>Hanoi</td>\n",
       "      <td>Vietnam</td>\n",
       "      <td>21.01660</td>\n",
       "      <td>105.76600</td>\n",
       "      <td>\\N</td>\n",
       "      <td>http://en.wikipedia.org/wiki/Hanoi_Street_Circuit</td>\n",
       "    </tr>\n",
       "    <tr>\n",
       "      <td>74</td>\n",
       "      <td>75</td>\n",
       "      <td>portimao</td>\n",
       "      <td>Autódromo Internacional do Algarve</td>\n",
       "      <td>Portimão</td>\n",
       "      <td>Portugal</td>\n",
       "      <td>37.22700</td>\n",
       "      <td>-8.62670</td>\n",
       "      <td>\\N</td>\n",
       "      <td>http://en.wikipedia.org/wiki/Algarve_Internati...</td>\n",
       "    </tr>\n",
       "    <tr>\n",
       "      <td>75</td>\n",
       "      <td>76</td>\n",
       "      <td>mugello</td>\n",
       "      <td>Autodromo Internazionale del Mugello</td>\n",
       "      <td>Mugello</td>\n",
       "      <td>Italy</td>\n",
       "      <td>43.99750</td>\n",
       "      <td>11.37190</td>\n",
       "      <td>\\N</td>\n",
       "      <td>http://en.wikipedia.org/wiki/Mugello_Circuit</td>\n",
       "    </tr>\n",
       "  </tbody>\n",
       "</table>\n",
       "<p>76 rows × 9 columns</p>\n",
       "</div>"
      ],
      "text/plain": [
       "    circuitId     circuitRef                         circuits_name  \\\n",
       "0           1    albert_park        Albert Park Grand Prix Circuit   \n",
       "1           2         sepang          Sepang International Circuit   \n",
       "2           3        bahrain         Bahrain International Circuit   \n",
       "3           4      catalunya        Circuit de Barcelona-Catalunya   \n",
       "4           5       istanbul                         Istanbul Park   \n",
       "..        ...            ...                                   ...   \n",
       "71         72  port_imperial          Port Imperial Street Circuit   \n",
       "72         73            BAK                     Baku City Circuit   \n",
       "73         74          hanoi                  Hanoi Street Circuit   \n",
       "74         75       portimao    Autódromo Internacional do Algarve   \n",
       "75         76        mugello  Autodromo Internazionale del Mugello   \n",
       "\n",
       "        location     country       lat        lng alt  \\\n",
       "0      Melbourne   Australia -37.84970  144.96800  10   \n",
       "1   Kuala Lumpur    Malaysia   2.76083  101.73800  \\N   \n",
       "2         Sakhir     Bahrain  26.03250   50.51060  \\N   \n",
       "3       Montmeló       Spain  41.57000    2.26111  \\N   \n",
       "4       Istanbul      Turkey  40.95170   29.40500  \\N   \n",
       "..           ...         ...       ...        ...  ..   \n",
       "71    New Jersey         USA  40.77690  -74.01110  \\N   \n",
       "72          Baku  Azerbaijan  40.37250   49.85330  \\N   \n",
       "73         Hanoi     Vietnam  21.01660  105.76600  \\N   \n",
       "74      Portimão    Portugal  37.22700   -8.62670  \\N   \n",
       "75       Mugello       Italy  43.99750   11.37190  \\N   \n",
       "\n",
       "                                                  url  \n",
       "0   http://en.wikipedia.org/wiki/Melbourne_Grand_P...  \n",
       "1   http://en.wikipedia.org/wiki/Sepang_Internatio...  \n",
       "2   http://en.wikipedia.org/wiki/Bahrain_Internati...  \n",
       "3   http://en.wikipedia.org/wiki/Circuit_de_Barcel...  \n",
       "4          http://en.wikipedia.org/wiki/Istanbul_Park  \n",
       "..                                                ...  \n",
       "71  http://en.wikipedia.org/wiki/Port_Imperial_Str...  \n",
       "72     http://en.wikipedia.org/wiki/Baku_City_Circuit  \n",
       "73  http://en.wikipedia.org/wiki/Hanoi_Street_Circuit  \n",
       "74  http://en.wikipedia.org/wiki/Algarve_Internati...  \n",
       "75       http://en.wikipedia.org/wiki/Mugello_Circuit  \n",
       "\n",
       "[76 rows x 9 columns]"
      ]
     },
     "execution_count": 9,
     "metadata": {},
     "output_type": "execute_result"
    }
   ],
   "source": [
    "file= open(path_to_data+'circuits.csv','r')\n",
    "circuits = pd.read_csv(file)\n",
    "circuits = circuits.rename(columns={\"name\": \"circuits_name\"})\n",
    "circuits"
   ]
  },
  {
   "cell_type": "code",
   "execution_count": 10,
   "metadata": {},
   "outputs": [],
   "source": [
    "circuitId = circuits['circuitId'].to_list()\n",
    "circuits_name = circuits['circuits_name'].to_list()\n",
    "location = circuits['location'].to_list()\n",
    "country = circuits['country'].to_list()\n",
    "lat = circuits['lat'].to_list()\n",
    "lng = circuits['lng'].to_list()"
   ]
  },
  {
   "cell_type": "code",
   "execution_count": 12,
   "metadata": {},
   "outputs": [
    {
     "data": {
      "text/plain": [
       "<pyorient.orient.OrientDB at 0x112141250>"
      ]
     },
     "execution_count": 12,
     "metadata": {},
     "output_type": "execute_result"
    }
   ],
   "source": [
    "client.set_session_token(True)"
   ]
  },
  {
   "cell_type": "code",
   "execution_count": 31,
   "metadata": {},
   "outputs": [],
   "source": [
    "client.command(\"CREATE Class Circuits EXTENDS V\")\n",
    "# Initialize Batch Commands Array\n",
    "batch_cmds = ['begin']\n",
    "for a, b in zip(range(len(circuitId)), circuitId):\n",
    "    command = (\"CREATE VERTEX Circuits \"\n",
    "               \"SET circuitId = '%s',name ='%s', location ='%s', country='%s', lat='%s', lng='%s'\"\n",
    "          % (b,\n",
    "             circuits_name[a],\n",
    "             location[a],\n",
    "             country[a],\n",
    "             lat[a],\n",
    "             lng[a]\n",
    "            ))\n",
    "    batch_cmds.append(command)\n",
    "    # Add Batch Commit\n",
    "batch_cmds.append('commit retry 100;')\n",
    "# Join with Semicolons\n",
    "cmd = ';'.join(batch_cmds)\n",
    "# Execute Commands\n",
    "results = client.batch(cmd)"
   ]
  },
  {
   "cell_type": "markdown",
   "metadata": {},
   "source": [
    "> #### Données courses :  Races"
   ]
  },
  {
   "cell_type": "code",
   "execution_count": 11,
   "metadata": {},
   "outputs": [
    {
     "data": {
      "text/html": [
       "<div>\n",
       "<style scoped>\n",
       "    .dataframe tbody tr th:only-of-type {\n",
       "        vertical-align: middle;\n",
       "    }\n",
       "\n",
       "    .dataframe tbody tr th {\n",
       "        vertical-align: top;\n",
       "    }\n",
       "\n",
       "    .dataframe thead th {\n",
       "        text-align: right;\n",
       "    }\n",
       "</style>\n",
       "<table border=\"1\" class=\"dataframe\">\n",
       "  <thead>\n",
       "    <tr style=\"text-align: right;\">\n",
       "      <th></th>\n",
       "      <th>raceId</th>\n",
       "      <th>year</th>\n",
       "      <th>round</th>\n",
       "      <th>circuitId</th>\n",
       "      <th>races_name</th>\n",
       "      <th>date</th>\n",
       "      <th>time</th>\n",
       "      <th>url</th>\n",
       "    </tr>\n",
       "  </thead>\n",
       "  <tbody>\n",
       "    <tr>\n",
       "      <td>0</td>\n",
       "      <td>1</td>\n",
       "      <td>2009</td>\n",
       "      <td>1</td>\n",
       "      <td>1</td>\n",
       "      <td>Australian Grand Prix</td>\n",
       "      <td>2009-03-29</td>\n",
       "      <td>06:00:00</td>\n",
       "      <td>http://en.wikipedia.org/wiki/2009_Australian_G...</td>\n",
       "    </tr>\n",
       "    <tr>\n",
       "      <td>1</td>\n",
       "      <td>2</td>\n",
       "      <td>2009</td>\n",
       "      <td>2</td>\n",
       "      <td>2</td>\n",
       "      <td>Malaysian Grand Prix</td>\n",
       "      <td>2009-04-05</td>\n",
       "      <td>09:00:00</td>\n",
       "      <td>http://en.wikipedia.org/wiki/2009_Malaysian_Gr...</td>\n",
       "    </tr>\n",
       "    <tr>\n",
       "      <td>2</td>\n",
       "      <td>3</td>\n",
       "      <td>2009</td>\n",
       "      <td>3</td>\n",
       "      <td>17</td>\n",
       "      <td>Chinese Grand Prix</td>\n",
       "      <td>2009-04-19</td>\n",
       "      <td>07:00:00</td>\n",
       "      <td>http://en.wikipedia.org/wiki/2009_Chinese_Gran...</td>\n",
       "    </tr>\n",
       "    <tr>\n",
       "      <td>3</td>\n",
       "      <td>4</td>\n",
       "      <td>2009</td>\n",
       "      <td>4</td>\n",
       "      <td>3</td>\n",
       "      <td>Bahrain Grand Prix</td>\n",
       "      <td>2009-04-26</td>\n",
       "      <td>12:00:00</td>\n",
       "      <td>http://en.wikipedia.org/wiki/2009_Bahrain_Gran...</td>\n",
       "    </tr>\n",
       "    <tr>\n",
       "      <td>4</td>\n",
       "      <td>5</td>\n",
       "      <td>2009</td>\n",
       "      <td>5</td>\n",
       "      <td>4</td>\n",
       "      <td>Spanish Grand Prix</td>\n",
       "      <td>2009-05-10</td>\n",
       "      <td>12:00:00</td>\n",
       "      <td>http://en.wikipedia.org/wiki/2009_Spanish_Gran...</td>\n",
       "    </tr>\n",
       "    <tr>\n",
       "      <td>...</td>\n",
       "      <td>...</td>\n",
       "      <td>...</td>\n",
       "      <td>...</td>\n",
       "      <td>...</td>\n",
       "      <td>...</td>\n",
       "      <td>...</td>\n",
       "      <td>...</td>\n",
       "      <td>...</td>\n",
       "    </tr>\n",
       "    <tr>\n",
       "      <td>1030</td>\n",
       "      <td>1043</td>\n",
       "      <td>2020</td>\n",
       "      <td>13</td>\n",
       "      <td>21</td>\n",
       "      <td>Emilia Romagna Grand Prix</td>\n",
       "      <td>2020-11-01</td>\n",
       "      <td>12:10:00</td>\n",
       "      <td>https://en.wikipedia.org/wiki/2020_Emilia_Roma...</td>\n",
       "    </tr>\n",
       "    <tr>\n",
       "      <td>1031</td>\n",
       "      <td>1044</td>\n",
       "      <td>2020</td>\n",
       "      <td>14</td>\n",
       "      <td>5</td>\n",
       "      <td>Turkish Grand Prix</td>\n",
       "      <td>2020-11-15</td>\n",
       "      <td>10:10:00</td>\n",
       "      <td>https://en.wikipedia.org/wiki/2020_Turkish_Gra...</td>\n",
       "    </tr>\n",
       "    <tr>\n",
       "      <td>1032</td>\n",
       "      <td>1045</td>\n",
       "      <td>2020</td>\n",
       "      <td>15</td>\n",
       "      <td>3</td>\n",
       "      <td>Bahrain Grand Prix</td>\n",
       "      <td>2020-11-29</td>\n",
       "      <td>15:10:00</td>\n",
       "      <td>https://en.wikipedia.org/wiki/2020_Bahrain_Gra...</td>\n",
       "    </tr>\n",
       "    <tr>\n",
       "      <td>1033</td>\n",
       "      <td>1046</td>\n",
       "      <td>2020</td>\n",
       "      <td>16</td>\n",
       "      <td>3</td>\n",
       "      <td>Sakhir Grand Prix</td>\n",
       "      <td>2020-12-06</td>\n",
       "      <td>17:10:00</td>\n",
       "      <td>https://en.wikipedia.org/wiki/2020_Sakhir_Gran...</td>\n",
       "    </tr>\n",
       "    <tr>\n",
       "      <td>1034</td>\n",
       "      <td>1047</td>\n",
       "      <td>2020</td>\n",
       "      <td>17</td>\n",
       "      <td>24</td>\n",
       "      <td>Abu Dhabi Grand Prix</td>\n",
       "      <td>2020-12-13</td>\n",
       "      <td>13:10:00</td>\n",
       "      <td>https://en.wikipedia.org/wiki/2020_Abu_Dhabi_G...</td>\n",
       "    </tr>\n",
       "  </tbody>\n",
       "</table>\n",
       "<p>1035 rows × 8 columns</p>\n",
       "</div>"
      ],
      "text/plain": [
       "      raceId  year  round  circuitId                 races_name        date  \\\n",
       "0          1  2009      1          1      Australian Grand Prix  2009-03-29   \n",
       "1          2  2009      2          2       Malaysian Grand Prix  2009-04-05   \n",
       "2          3  2009      3         17         Chinese Grand Prix  2009-04-19   \n",
       "3          4  2009      4          3         Bahrain Grand Prix  2009-04-26   \n",
       "4          5  2009      5          4         Spanish Grand Prix  2009-05-10   \n",
       "...      ...   ...    ...        ...                        ...         ...   \n",
       "1030    1043  2020     13         21  Emilia Romagna Grand Prix  2020-11-01   \n",
       "1031    1044  2020     14          5         Turkish Grand Prix  2020-11-15   \n",
       "1032    1045  2020     15          3         Bahrain Grand Prix  2020-11-29   \n",
       "1033    1046  2020     16          3          Sakhir Grand Prix  2020-12-06   \n",
       "1034    1047  2020     17         24       Abu Dhabi Grand Prix  2020-12-13   \n",
       "\n",
       "          time                                                url  \n",
       "0     06:00:00  http://en.wikipedia.org/wiki/2009_Australian_G...  \n",
       "1     09:00:00  http://en.wikipedia.org/wiki/2009_Malaysian_Gr...  \n",
       "2     07:00:00  http://en.wikipedia.org/wiki/2009_Chinese_Gran...  \n",
       "3     12:00:00  http://en.wikipedia.org/wiki/2009_Bahrain_Gran...  \n",
       "4     12:00:00  http://en.wikipedia.org/wiki/2009_Spanish_Gran...  \n",
       "...        ...                                                ...  \n",
       "1030  12:10:00  https://en.wikipedia.org/wiki/2020_Emilia_Roma...  \n",
       "1031  10:10:00  https://en.wikipedia.org/wiki/2020_Turkish_Gra...  \n",
       "1032  15:10:00  https://en.wikipedia.org/wiki/2020_Bahrain_Gra...  \n",
       "1033  17:10:00  https://en.wikipedia.org/wiki/2020_Sakhir_Gran...  \n",
       "1034  13:10:00  https://en.wikipedia.org/wiki/2020_Abu_Dhabi_G...  \n",
       "\n",
       "[1035 rows x 8 columns]"
      ]
     },
     "execution_count": 11,
     "metadata": {},
     "output_type": "execute_result"
    }
   ],
   "source": [
    "file= open(path_to_data+'races.csv','r')\n",
    "races = pd.read_csv(file)\n",
    "races = races.rename(columns={\"name\": \"races_name\"})\n",
    "races"
   ]
  },
  {
   "cell_type": "code",
   "execution_count": 12,
   "metadata": {},
   "outputs": [],
   "source": [
    "raceId = races['raceId'].to_list()\n",
    "year = races['year'].to_list()\n",
    "round = races['round'].to_list()\n",
    "circuitId = races['circuitId'].to_list()\n",
    "races_name = races['races_name'].to_list()\n",
    "date = races['date'].to_list()"
   ]
  },
  {
   "cell_type": "code",
   "execution_count": 60,
   "metadata": {},
   "outputs": [
    {
     "data": {
      "text/plain": [
       "<pyorient.orient.OrientDB at 0x10e111450>"
      ]
     },
     "execution_count": 60,
     "metadata": {},
     "output_type": "execute_result"
    }
   ],
   "source": [
    "client.set_session_token(True)"
   ]
  },
  {
   "cell_type": "code",
   "execution_count": 42,
   "metadata": {},
   "outputs": [],
   "source": [
    "client.command(\"CREATE Class Races EXTENDS V\")\n",
    "# Initialize Batch Commands Array\n",
    "batch_cmds = ['begin']\n",
    "for a, b, c, d, e in zip(range(len(raceId)), raceId, year, round, circuitId):\n",
    "    command = (\"CREATE VERTEX Races \"\n",
    "               \"SET raceId = '%s', year = '%s', round ='%s', circuitId ='%s', races_name='%s', date='%s'\"\n",
    "          % (b, c, d, e,\n",
    "             races_name[a],\n",
    "             date[a]\n",
    "            ))\n",
    "    batch_cmds.append(command)\n",
    "# Add Batch Commit\n",
    "batch_cmds.append('commit retry 100;')\n",
    "# Join with Semicolons\n",
    "cmd = ';'.join(batch_cmds)\n",
    "# Execute Commands\n",
    "results = client.batch(cmd)"
   ]
  },
  {
   "cell_type": "markdown",
   "metadata": {},
   "source": [
    "> #### Données pilotes : Drivers"
   ]
  },
  {
   "cell_type": "code",
   "execution_count": 13,
   "metadata": {},
   "outputs": [
    {
     "data": {
      "text/html": [
       "<div>\n",
       "<style scoped>\n",
       "    .dataframe tbody tr th:only-of-type {\n",
       "        vertical-align: middle;\n",
       "    }\n",
       "\n",
       "    .dataframe tbody tr th {\n",
       "        vertical-align: top;\n",
       "    }\n",
       "\n",
       "    .dataframe thead th {\n",
       "        text-align: right;\n",
       "    }\n",
       "</style>\n",
       "<table border=\"1\" class=\"dataframe\">\n",
       "  <thead>\n",
       "    <tr style=\"text-align: right;\">\n",
       "      <th></th>\n",
       "      <th>driverId</th>\n",
       "      <th>driverRef</th>\n",
       "      <th>number</th>\n",
       "      <th>code</th>\n",
       "      <th>forename</th>\n",
       "      <th>surname</th>\n",
       "      <th>dob</th>\n",
       "      <th>nationality</th>\n",
       "      <th>url</th>\n",
       "    </tr>\n",
       "  </thead>\n",
       "  <tbody>\n",
       "    <tr>\n",
       "      <td>0</td>\n",
       "      <td>1</td>\n",
       "      <td>hamilton</td>\n",
       "      <td>44</td>\n",
       "      <td>HAM</td>\n",
       "      <td>Lewis</td>\n",
       "      <td>Hamilton</td>\n",
       "      <td>1985-01-07</td>\n",
       "      <td>British</td>\n",
       "      <td>http://en.wikipedia.org/wiki/Lewis_Hamilton</td>\n",
       "    </tr>\n",
       "    <tr>\n",
       "      <td>1</td>\n",
       "      <td>2</td>\n",
       "      <td>heidfeld</td>\n",
       "      <td>\\N</td>\n",
       "      <td>HEI</td>\n",
       "      <td>Nick</td>\n",
       "      <td>Heidfeld</td>\n",
       "      <td>1977-05-10</td>\n",
       "      <td>German</td>\n",
       "      <td>http://en.wikipedia.org/wiki/Nick_Heidfeld</td>\n",
       "    </tr>\n",
       "    <tr>\n",
       "      <td>2</td>\n",
       "      <td>3</td>\n",
       "      <td>rosberg</td>\n",
       "      <td>6</td>\n",
       "      <td>ROS</td>\n",
       "      <td>Nico</td>\n",
       "      <td>Rosberg</td>\n",
       "      <td>1985-06-27</td>\n",
       "      <td>German</td>\n",
       "      <td>http://en.wikipedia.org/wiki/Nico_Rosberg</td>\n",
       "    </tr>\n",
       "    <tr>\n",
       "      <td>3</td>\n",
       "      <td>4</td>\n",
       "      <td>alonso</td>\n",
       "      <td>14</td>\n",
       "      <td>ALO</td>\n",
       "      <td>Fernando</td>\n",
       "      <td>Alonso</td>\n",
       "      <td>1981-07-29</td>\n",
       "      <td>Spanish</td>\n",
       "      <td>http://en.wikipedia.org/wiki/Fernando_Alonso</td>\n",
       "    </tr>\n",
       "    <tr>\n",
       "      <td>4</td>\n",
       "      <td>5</td>\n",
       "      <td>kovalainen</td>\n",
       "      <td>\\N</td>\n",
       "      <td>KOV</td>\n",
       "      <td>Heikki</td>\n",
       "      <td>Kovalainen</td>\n",
       "      <td>1981-10-19</td>\n",
       "      <td>Finnish</td>\n",
       "      <td>http://en.wikipedia.org/wiki/Heikki_Kovalainen</td>\n",
       "    </tr>\n",
       "    <tr>\n",
       "      <td>...</td>\n",
       "      <td>...</td>\n",
       "      <td>...</td>\n",
       "      <td>...</td>\n",
       "      <td>...</td>\n",
       "      <td>...</td>\n",
       "      <td>...</td>\n",
       "      <td>...</td>\n",
       "      <td>...</td>\n",
       "      <td>...</td>\n",
       "    </tr>\n",
       "    <tr>\n",
       "      <td>843</td>\n",
       "      <td>845</td>\n",
       "      <td>sirotkin</td>\n",
       "      <td>35</td>\n",
       "      <td>SIR</td>\n",
       "      <td>Sergey</td>\n",
       "      <td>Sirotkin</td>\n",
       "      <td>1995-08-27</td>\n",
       "      <td>Russian</td>\n",
       "      <td>http://en.wikipedia.org/wiki/Sergey_Sirotkin_(...</td>\n",
       "    </tr>\n",
       "    <tr>\n",
       "      <td>844</td>\n",
       "      <td>846</td>\n",
       "      <td>norris</td>\n",
       "      <td>4</td>\n",
       "      <td>NOR</td>\n",
       "      <td>Lando</td>\n",
       "      <td>Norris</td>\n",
       "      <td>1999-11-13</td>\n",
       "      <td>British</td>\n",
       "      <td>http://en.wikipedia.org/wiki/Lando_Norris</td>\n",
       "    </tr>\n",
       "    <tr>\n",
       "      <td>845</td>\n",
       "      <td>847</td>\n",
       "      <td>russell</td>\n",
       "      <td>63</td>\n",
       "      <td>RUS</td>\n",
       "      <td>George</td>\n",
       "      <td>Russell</td>\n",
       "      <td>1998-02-15</td>\n",
       "      <td>British</td>\n",
       "      <td>http://en.wikipedia.org/wiki/George_Russell_%2...</td>\n",
       "    </tr>\n",
       "    <tr>\n",
       "      <td>846</td>\n",
       "      <td>848</td>\n",
       "      <td>albon</td>\n",
       "      <td>23</td>\n",
       "      <td>ALB</td>\n",
       "      <td>Alexander</td>\n",
       "      <td>Albon</td>\n",
       "      <td>1996-03-23</td>\n",
       "      <td>Thai</td>\n",
       "      <td>http://en.wikipedia.org/wiki/Alexander_Albon</td>\n",
       "    </tr>\n",
       "    <tr>\n",
       "      <td>847</td>\n",
       "      <td>849</td>\n",
       "      <td>latifi</td>\n",
       "      <td>6</td>\n",
       "      <td>LAT</td>\n",
       "      <td>Nicholas</td>\n",
       "      <td>Latifi</td>\n",
       "      <td>1995-06-29</td>\n",
       "      <td>Canadian</td>\n",
       "      <td>http://en.wikipedia.org/wiki/Nicholas_Latifi</td>\n",
       "    </tr>\n",
       "  </tbody>\n",
       "</table>\n",
       "<p>848 rows × 9 columns</p>\n",
       "</div>"
      ],
      "text/plain": [
       "     driverId   driverRef number code   forename     surname         dob  \\\n",
       "0           1    hamilton     44  HAM      Lewis    Hamilton  1985-01-07   \n",
       "1           2    heidfeld     \\N  HEI       Nick    Heidfeld  1977-05-10   \n",
       "2           3     rosberg      6  ROS       Nico     Rosberg  1985-06-27   \n",
       "3           4      alonso     14  ALO   Fernando      Alonso  1981-07-29   \n",
       "4           5  kovalainen     \\N  KOV     Heikki  Kovalainen  1981-10-19   \n",
       "..        ...         ...    ...  ...        ...         ...         ...   \n",
       "843       845    sirotkin     35  SIR     Sergey    Sirotkin  1995-08-27   \n",
       "844       846      norris      4  NOR      Lando      Norris  1999-11-13   \n",
       "845       847     russell     63  RUS     George     Russell  1998-02-15   \n",
       "846       848       albon     23  ALB  Alexander       Albon  1996-03-23   \n",
       "847       849      latifi      6  LAT   Nicholas      Latifi  1995-06-29   \n",
       "\n",
       "    nationality                                                url  \n",
       "0       British        http://en.wikipedia.org/wiki/Lewis_Hamilton  \n",
       "1        German         http://en.wikipedia.org/wiki/Nick_Heidfeld  \n",
       "2        German          http://en.wikipedia.org/wiki/Nico_Rosberg  \n",
       "3       Spanish       http://en.wikipedia.org/wiki/Fernando_Alonso  \n",
       "4       Finnish     http://en.wikipedia.org/wiki/Heikki_Kovalainen  \n",
       "..          ...                                                ...  \n",
       "843     Russian  http://en.wikipedia.org/wiki/Sergey_Sirotkin_(...  \n",
       "844     British          http://en.wikipedia.org/wiki/Lando_Norris  \n",
       "845     British  http://en.wikipedia.org/wiki/George_Russell_%2...  \n",
       "846        Thai       http://en.wikipedia.org/wiki/Alexander_Albon  \n",
       "847    Canadian       http://en.wikipedia.org/wiki/Nicholas_Latifi  \n",
       "\n",
       "[848 rows x 9 columns]"
      ]
     },
     "execution_count": 13,
     "metadata": {},
     "output_type": "execute_result"
    }
   ],
   "source": [
    "file= open(path_to_data+'drivers.csv','r')\n",
    "drivers = pd.read_csv(file)\n",
    "drivers"
   ]
  },
  {
   "cell_type": "code",
   "execution_count": 14,
   "metadata": {},
   "outputs": [],
   "source": [
    "drivers['surname'] = drivers['surname'].str.replace(\"d'Orey\",'dOrey')\n",
    "drivers['surname'] = drivers['surname'].str.replace(\"d'Ambrosio\",'dAmbrosio')\n",
    "drivers['surname'] = drivers['surname'].str.replace(\"O'Connor\",'OConnor')\n",
    "drivers['surname'] = drivers['surname'].str.replace(\"O'Brien\",'OBrien')\n",
    "\n",
    "drivers = drivers.replace(to_replace =r\"\\N\", \n",
    "                 value =\"NA\") \n",
    "driverId = drivers['driverId'].to_list()\n",
    "driverRef = drivers['driverRef'].to_list()\n",
    "number = drivers['number'].to_list()\n",
    "code = drivers['code'].to_list()\n",
    "forename = drivers['forename'].to_list()\n",
    "surname = drivers['surname'].to_list()\n",
    "nationality = drivers['nationality'].to_list()"
   ]
  },
  {
   "cell_type": "code",
   "execution_count": 52,
   "metadata": {},
   "outputs": [],
   "source": [
    "client.command(\"CREATE Class Drivers EXTENDS V\")\n",
    "# Initialize Batch Commands Array\n",
    "batch_cmds = ['begin']\n",
    "for a, b in zip(range(len(driverId)), driverId):\n",
    "    command = (\"CREATE VERTEX Drivers \"\n",
    "               \"SET driverId = '%s', driverRef = '%s', forename ='%s', surname= '%s', nationality= '%s'\"\n",
    "          % (b,\n",
    "             driverRef[a],\n",
    "             forename[a],\n",
    "             surname[a],\n",
    "             nationality[a]\n",
    "            ))\n",
    "    batch_cmds.append(command)\n",
    "# Add Batch Commit\n",
    "batch_cmds.append('commit retry 100;')\n",
    "# Join with Semicolons\n",
    "cmd = ';'.join(batch_cmds)\n",
    "# Execute Commands\n",
    "results = client.batch(cmd)"
   ]
  },
  {
   "cell_type": "markdown",
   "metadata": {},
   "source": [
    "> #### Données résultats : Results"
   ]
  },
  {
   "cell_type": "code",
   "execution_count": 17,
   "metadata": {},
   "outputs": [
    {
     "data": {
      "text/html": [
       "<div>\n",
       "<style scoped>\n",
       "    .dataframe tbody tr th:only-of-type {\n",
       "        vertical-align: middle;\n",
       "    }\n",
       "\n",
       "    .dataframe tbody tr th {\n",
       "        vertical-align: top;\n",
       "    }\n",
       "\n",
       "    .dataframe thead th {\n",
       "        text-align: right;\n",
       "    }\n",
       "</style>\n",
       "<table border=\"1\" class=\"dataframe\">\n",
       "  <thead>\n",
       "    <tr style=\"text-align: right;\">\n",
       "      <th></th>\n",
       "      <th>resultId</th>\n",
       "      <th>raceId</th>\n",
       "      <th>driverId</th>\n",
       "      <th>constructorId</th>\n",
       "      <th>number</th>\n",
       "      <th>grid</th>\n",
       "      <th>position</th>\n",
       "      <th>positionText</th>\n",
       "      <th>positionOrder</th>\n",
       "      <th>points</th>\n",
       "      <th>laps</th>\n",
       "      <th>time</th>\n",
       "      <th>milliseconds</th>\n",
       "      <th>fastestLap</th>\n",
       "      <th>rank</th>\n",
       "      <th>fastestLapTime</th>\n",
       "      <th>fastestLapSpeed</th>\n",
       "      <th>statusId</th>\n",
       "    </tr>\n",
       "  </thead>\n",
       "  <tbody>\n",
       "    <tr>\n",
       "      <td>0</td>\n",
       "      <td>1</td>\n",
       "      <td>18</td>\n",
       "      <td>1</td>\n",
       "      <td>1</td>\n",
       "      <td>22</td>\n",
       "      <td>1</td>\n",
       "      <td>1</td>\n",
       "      <td>1</td>\n",
       "      <td>1</td>\n",
       "      <td>10.0</td>\n",
       "      <td>58</td>\n",
       "      <td>1:34:50.616</td>\n",
       "      <td>5690616</td>\n",
       "      <td>39</td>\n",
       "      <td>2</td>\n",
       "      <td>1:27.452</td>\n",
       "      <td>218.300</td>\n",
       "      <td>1</td>\n",
       "    </tr>\n",
       "    <tr>\n",
       "      <td>1</td>\n",
       "      <td>2</td>\n",
       "      <td>18</td>\n",
       "      <td>2</td>\n",
       "      <td>2</td>\n",
       "      <td>3</td>\n",
       "      <td>5</td>\n",
       "      <td>2</td>\n",
       "      <td>2</td>\n",
       "      <td>2</td>\n",
       "      <td>8.0</td>\n",
       "      <td>58</td>\n",
       "      <td>+5.478</td>\n",
       "      <td>5696094</td>\n",
       "      <td>41</td>\n",
       "      <td>3</td>\n",
       "      <td>1:27.739</td>\n",
       "      <td>217.586</td>\n",
       "      <td>1</td>\n",
       "    </tr>\n",
       "    <tr>\n",
       "      <td>2</td>\n",
       "      <td>3</td>\n",
       "      <td>18</td>\n",
       "      <td>3</td>\n",
       "      <td>3</td>\n",
       "      <td>7</td>\n",
       "      <td>7</td>\n",
       "      <td>3</td>\n",
       "      <td>3</td>\n",
       "      <td>3</td>\n",
       "      <td>6.0</td>\n",
       "      <td>58</td>\n",
       "      <td>+8.163</td>\n",
       "      <td>5698779</td>\n",
       "      <td>41</td>\n",
       "      <td>5</td>\n",
       "      <td>1:28.090</td>\n",
       "      <td>216.719</td>\n",
       "      <td>1</td>\n",
       "    </tr>\n",
       "    <tr>\n",
       "      <td>3</td>\n",
       "      <td>4</td>\n",
       "      <td>18</td>\n",
       "      <td>4</td>\n",
       "      <td>4</td>\n",
       "      <td>5</td>\n",
       "      <td>11</td>\n",
       "      <td>4</td>\n",
       "      <td>4</td>\n",
       "      <td>4</td>\n",
       "      <td>5.0</td>\n",
       "      <td>58</td>\n",
       "      <td>+17.181</td>\n",
       "      <td>5707797</td>\n",
       "      <td>58</td>\n",
       "      <td>7</td>\n",
       "      <td>1:28.603</td>\n",
       "      <td>215.464</td>\n",
       "      <td>1</td>\n",
       "    </tr>\n",
       "    <tr>\n",
       "      <td>4</td>\n",
       "      <td>5</td>\n",
       "      <td>18</td>\n",
       "      <td>5</td>\n",
       "      <td>1</td>\n",
       "      <td>23</td>\n",
       "      <td>3</td>\n",
       "      <td>5</td>\n",
       "      <td>5</td>\n",
       "      <td>5</td>\n",
       "      <td>4.0</td>\n",
       "      <td>58</td>\n",
       "      <td>+18.014</td>\n",
       "      <td>5708630</td>\n",
       "      <td>43</td>\n",
       "      <td>1</td>\n",
       "      <td>1:27.418</td>\n",
       "      <td>218.385</td>\n",
       "      <td>1</td>\n",
       "    </tr>\n",
       "    <tr>\n",
       "      <td>...</td>\n",
       "      <td>...</td>\n",
       "      <td>...</td>\n",
       "      <td>...</td>\n",
       "      <td>...</td>\n",
       "      <td>...</td>\n",
       "      <td>...</td>\n",
       "      <td>...</td>\n",
       "      <td>...</td>\n",
       "      <td>...</td>\n",
       "      <td>...</td>\n",
       "      <td>...</td>\n",
       "      <td>...</td>\n",
       "      <td>...</td>\n",
       "      <td>...</td>\n",
       "      <td>...</td>\n",
       "      <td>...</td>\n",
       "      <td>...</td>\n",
       "      <td>...</td>\n",
       "    </tr>\n",
       "    <tr>\n",
       "      <td>24855</td>\n",
       "      <td>24861</td>\n",
       "      <td>1042</td>\n",
       "      <td>825</td>\n",
       "      <td>210</td>\n",
       "      <td>20</td>\n",
       "      <td>19</td>\n",
       "      <td>16</td>\n",
       "      <td>16</td>\n",
       "      <td>16</td>\n",
       "      <td>0.0</td>\n",
       "      <td>65</td>\n",
       "      <td>\\N</td>\n",
       "      <td>\\N</td>\n",
       "      <td>63</td>\n",
       "      <td>16</td>\n",
       "      <td>1:21.460</td>\n",
       "      <td>205.632</td>\n",
       "      <td>11</td>\n",
       "    </tr>\n",
       "    <tr>\n",
       "      <td>24856</td>\n",
       "      <td>24862</td>\n",
       "      <td>1042</td>\n",
       "      <td>154</td>\n",
       "      <td>210</td>\n",
       "      <td>8</td>\n",
       "      <td>18</td>\n",
       "      <td>17</td>\n",
       "      <td>17</td>\n",
       "      <td>17</td>\n",
       "      <td>0.0</td>\n",
       "      <td>65</td>\n",
       "      <td>\\N</td>\n",
       "      <td>\\N</td>\n",
       "      <td>59</td>\n",
       "      <td>17</td>\n",
       "      <td>1:21.664</td>\n",
       "      <td>205.118</td>\n",
       "      <td>11</td>\n",
       "    </tr>\n",
       "    <tr>\n",
       "      <td>24857</td>\n",
       "      <td>24863</td>\n",
       "      <td>1042</td>\n",
       "      <td>849</td>\n",
       "      <td>3</td>\n",
       "      <td>6</td>\n",
       "      <td>20</td>\n",
       "      <td>18</td>\n",
       "      <td>18</td>\n",
       "      <td>18</td>\n",
       "      <td>0.0</td>\n",
       "      <td>64</td>\n",
       "      <td>\\N</td>\n",
       "      <td>\\N</td>\n",
       "      <td>53</td>\n",
       "      <td>19</td>\n",
       "      <td>1:21.859</td>\n",
       "      <td>204.629</td>\n",
       "      <td>12</td>\n",
       "    </tr>\n",
       "    <tr>\n",
       "      <td>24858</td>\n",
       "      <td>24864</td>\n",
       "      <td>1042</td>\n",
       "      <td>826</td>\n",
       "      <td>213</td>\n",
       "      <td>26</td>\n",
       "      <td>13</td>\n",
       "      <td>19</td>\n",
       "      <td>19</td>\n",
       "      <td>19</td>\n",
       "      <td>0.0</td>\n",
       "      <td>64</td>\n",
       "      <td>\\N</td>\n",
       "      <td>\\N</td>\n",
       "      <td>59</td>\n",
       "      <td>8</td>\n",
       "      <td>1:20.449</td>\n",
       "      <td>208.216</td>\n",
       "      <td>12</td>\n",
       "    </tr>\n",
       "    <tr>\n",
       "      <td>24859</td>\n",
       "      <td>24865</td>\n",
       "      <td>1042</td>\n",
       "      <td>840</td>\n",
       "      <td>211</td>\n",
       "      <td>18</td>\n",
       "      <td>12</td>\n",
       "      <td>\\N</td>\n",
       "      <td>R</td>\n",
       "      <td>20</td>\n",
       "      <td>0.0</td>\n",
       "      <td>51</td>\n",
       "      <td>\\N</td>\n",
       "      <td>\\N</td>\n",
       "      <td>45</td>\n",
       "      <td>18</td>\n",
       "      <td>1:21.694</td>\n",
       "      <td>205.043</td>\n",
       "      <td>130</td>\n",
       "    </tr>\n",
       "  </tbody>\n",
       "</table>\n",
       "<p>24860 rows × 18 columns</p>\n",
       "</div>"
      ],
      "text/plain": [
       "       resultId  raceId  driverId  constructorId number  grid position  \\\n",
       "0             1      18         1              1     22     1        1   \n",
       "1             2      18         2              2      3     5        2   \n",
       "2             3      18         3              3      7     7        3   \n",
       "3             4      18         4              4      5    11        4   \n",
       "4             5      18         5              1     23     3        5   \n",
       "...         ...     ...       ...            ...    ...   ...      ...   \n",
       "24855     24861    1042       825            210     20    19       16   \n",
       "24856     24862    1042       154            210      8    18       17   \n",
       "24857     24863    1042       849              3      6    20       18   \n",
       "24858     24864    1042       826            213     26    13       19   \n",
       "24859     24865    1042       840            211     18    12       \\N   \n",
       "\n",
       "      positionText  positionOrder  points  laps         time milliseconds  \\\n",
       "0                1              1    10.0    58  1:34:50.616      5690616   \n",
       "1                2              2     8.0    58       +5.478      5696094   \n",
       "2                3              3     6.0    58       +8.163      5698779   \n",
       "3                4              4     5.0    58      +17.181      5707797   \n",
       "4                5              5     4.0    58      +18.014      5708630   \n",
       "...            ...            ...     ...   ...          ...          ...   \n",
       "24855           16             16     0.0    65           \\N           \\N   \n",
       "24856           17             17     0.0    65           \\N           \\N   \n",
       "24857           18             18     0.0    64           \\N           \\N   \n",
       "24858           19             19     0.0    64           \\N           \\N   \n",
       "24859            R             20     0.0    51           \\N           \\N   \n",
       "\n",
       "      fastestLap rank fastestLapTime fastestLapSpeed  statusId  \n",
       "0             39    2       1:27.452         218.300         1  \n",
       "1             41    3       1:27.739         217.586         1  \n",
       "2             41    5       1:28.090         216.719         1  \n",
       "3             58    7       1:28.603         215.464         1  \n",
       "4             43    1       1:27.418         218.385         1  \n",
       "...          ...  ...            ...             ...       ...  \n",
       "24855         63   16       1:21.460         205.632        11  \n",
       "24856         59   17       1:21.664         205.118        11  \n",
       "24857         53   19       1:21.859         204.629        12  \n",
       "24858         59    8       1:20.449         208.216        12  \n",
       "24859         45   18       1:21.694         205.043       130  \n",
       "\n",
       "[24860 rows x 18 columns]"
      ]
     },
     "execution_count": 17,
     "metadata": {},
     "output_type": "execute_result"
    }
   ],
   "source": [
    "file= open(path_to_data+'results.csv','r')\n",
    "results = pd.read_csv(file)\n",
    "results"
   ]
  },
  {
   "cell_type": "code",
   "execution_count": 19,
   "metadata": {},
   "outputs": [],
   "source": [
    "results = results.replace(to_replace =r\"\\N\", \n",
    "                 value =\"NA\") \n",
    "\n",
    "resultId = results['resultId'].to_list()\n",
    "raceId = results['raceId'].to_list()\n",
    "driverId = results['driverId'].to_list()\n",
    "constructorId = results['constructorId'].to_list()\n",
    "grid = results['grid'].to_list()\n",
    "position = results['position'].to_list()\n",
    "positionOrder = results['positionOrder'].to_list()\n",
    "points = results['points'].to_list()\n",
    "laps = results['laps'].to_list()\n",
    "time = results['time'].to_list()\n",
    "rank = results['rank'].to_list()\n",
    "statusId = results['statusId'].to_list()"
   ]
  },
  {
   "cell_type": "code",
   "execution_count": 64,
   "metadata": {},
   "outputs": [],
   "source": [
    "client.command(\"CREATE Class Results EXTENDS V\")\n",
    "batch_cmds = ['begin']\n",
    "for a, b, c,d, e, f,g,h,i, in zip(resultId, raceId, driverId, constructorId, position, positionOrder, points, rank, statusId):\n",
    "    command = (\"CREATE VERTEX Results \"\n",
    "               \"SET resultId = '%s', raceId = '%s', driverId ='%s', constructorId ='%s',position= '%s', positionOrder='%s', points= '%s',rank='%s' , statusId= '%s'\"\n",
    "          % (a,b,c,d,e,f,g,h,i\n",
    "            ))\n",
    "    batch_cmds.append(command)\n",
    "    \n",
    "batch_cmds.append('commit retry 100;')\n",
    "# Join with Semicolons\n",
    "cmd = ';'.join(batch_cmds)\n",
    "# Execute Commands\n",
    "results = client.batch(cmd)"
   ]
  },
  {
   "cell_type": "markdown",
   "metadata": {},
   "source": [
    "### Création des relations"
   ]
  },
  {
   "cell_type": "markdown",
   "metadata": {},
   "source": [
    "Après avoir créée nos noeuds, il est maintenant temps de les relier les uns aux autres grâce à des relations. Pour ce jeu de données nous avons réfléchi aux relations les plus pertinentes possibles et avons défini les suivantes : \n",
    "-  Races <font color='red'>**took_place_on** </font> Circuits : Relation course s'est passé dans circuit\n",
    "-  Results <font color='red'>**results_of**</font> Races : Relation résultat de la course\n",
    "-  Driver result on Race; <font color='red'>**d_results**</font> : Relation résultat du pilote \n",
    "-  Constructor result on Race; <font color='red'>**c_results**</font> : Relation résultat de l'écurie \n",
    "-  Pilote <font color='red'>**participated_to**</font> Race : Relation pilote a participité à la course "
   ]
  },
  {
   "cell_type": "markdown",
   "metadata": {},
   "source": [
    "La création de relations entre noeuds dans orientdb n'est cependant à notre avis pas très intuitif. En effet, comme évoqué dans la présentation du SGBD bien qu'OrientDB accpete SQL comme language de requête, elle ne permet pas de faire des jointures de tables (ce qui est très utilise lorsque le dataset est constitué de plusieurs tables liées les unes aux autres par des clés étrangers). A la place, des \"LINKS\" sont proposés (ce serait selon l'équipe de développement plus en phase avec l'esprit NoSQL :( . \n",
    "Afin de créer ces liens entre tables (noeuds) nous avons donc opté pour une stratégie assez peu orthodoxe mais très logique au vu de notre dataset. Nous avons en effet le caractère central de la table Results (où on retrouve tous les clés étrangers) et avons bouclé sur l'ensemble de ces données afin de crééer nos relations. \n",
    "Nous avons de plus dans un soucis d'optimisation utilisé la méthode Batch avec le même principe évoqué précédemment. \n",
    "La création de ces fameuses \"edges\" nécessite en SQL de créer des liens du type : <font color='orange'> ..FROM Vertex X To Vertex Y... </font> <br>\n",
    "Dans les chunks ci-dessous vous trouverez les codes correspondant à la création de relations entres nodes. "
   ]
  },
  {
   "cell_type": "markdown",
   "metadata": {},
   "source": [
    "> #### Relation course s'est passé dans circuit : Races took_place_on Circuits"
   ]
  },
  {
   "cell_type": "code",
   "execution_count": 373,
   "metadata": {},
   "outputs": [
    {
     "data": {
      "text/plain": [
       "[29]"
      ]
     },
     "execution_count": 373,
     "metadata": {},
     "output_type": "execute_result"
    }
   ],
   "source": [
    "client.command(\"CREATE Class took_place_on EXTENDS E\") # Course s'est passé au Circuit "
   ]
  },
  {
   "cell_type": "code",
   "execution_count": 69,
   "metadata": {},
   "outputs": [],
   "source": [
    "# Initialize Batch Commands Array\n",
    "batch_cmds = ['begin']"
   ]
  },
  {
   "cell_type": "code",
   "execution_count": 70,
   "metadata": {},
   "outputs": [],
   "source": [
    "for i, j in zip(races[\"raceId\"], races[\"circuitId\"]):\n",
    "    command = (\"CREATE EDGE took_place_on FROM (SELECT * FROM Races WHERE raceId = %s) TO \" \n",
    "          \"(SELECT * FROM Circuits WHERE circuitId = %s)\"\n",
    "    %(i,\n",
    "      j\n",
    "    ))\n",
    "    batch_cmds.append(command)"
   ]
  },
  {
   "cell_type": "code",
   "execution_count": 71,
   "metadata": {},
   "outputs": [],
   "source": [
    "# Add Batch Commit\n",
    "batch_cmds.append('commit retry 100;')"
   ]
  },
  {
   "cell_type": "code",
   "execution_count": 72,
   "metadata": {},
   "outputs": [],
   "source": [
    "# Join with Semicolons\n",
    "cmd = ';'.join(batch_cmds)"
   ]
  },
  {
   "cell_type": "code",
   "execution_count": 73,
   "metadata": {},
   "outputs": [],
   "source": [
    "# Execute Commands\n",
    "results = client.batch(cmd)"
   ]
  },
  {
   "cell_type": "markdown",
   "metadata": {},
   "source": [
    "> #### Relation result de la course : Results results_of Races"
   ]
  },
  {
   "cell_type": "code",
   "execution_count": 22,
   "metadata": {},
   "outputs": [],
   "source": [
    "client.command(\"CREATE Class results_of EXTENDS E\") # Driver/Constructeur result for a Course\n",
    "# Initialize Batch Commands Array\n",
    "batch_cmds = ['begin']\n",
    "for i, j in zip(results[\"resultId\"], results[\"raceId\"]):\n",
    "    command = (\"CREATE EDGE results_of FROM (SELECT * FROM Results WHERE resultId = %s) TO \" \n",
    "          \"(SELECT * FROM Races WHERE raceId = %s)\"\n",
    "    %(i,\n",
    "      j\n",
    "    ))\n",
    "    batch_cmds.append(command)\n",
    "    # Add Batch Commit\n",
    "batch_cmds.append('commit retry 100;')\n",
    "# Join with Semicolons\n",
    "cmd = ';'.join(batch_cmds)\n",
    "# Execute Commands\n",
    "results = client.batch(cmd)"
   ]
  },
  {
   "cell_type": "markdown",
   "metadata": {},
   "source": [
    "> #### Relation résultat du pilote : Driver result on Race; d_results"
   ]
  },
  {
   "cell_type": "code",
   "execution_count": null,
   "metadata": {},
   "outputs": [],
   "source": [
    "client.command(\"CREATE Class d_results EXTENDS E\") # Driver result for a Race\n",
    "batch_cmds = ['begin']\n",
    "for i, j in zip(results[\"driverId\"], results[\"resultId\"]):\n",
    "    command = (\"CREATE EDGE d_results FROM (SELECT * FROM Drivers WHERE driverId = %s) TO \" \n",
    "          \"(SELECT * FROM Results WHERE resultId = %s)\"\n",
    "    %(i,\n",
    "      j\n",
    "    ))\n",
    "    batch_cmds.append(command)\n",
    "# Add Batch Commit\n",
    "batch_cmds.append('commit retry 100;')\n",
    "# Join with Semicolons\n",
    "cmd = ';'.join(batch_cmds)\n",
    "# Execute Commands\n",
    "results = client.batch(cmd)"
   ]
  },
  {
   "cell_type": "markdown",
   "metadata": {},
   "source": [
    "> #### Relation résultat de l'écurie : Constructor result on Race; c_results "
   ]
  },
  {
   "cell_type": "code",
   "execution_count": null,
   "metadata": {},
   "outputs": [],
   "source": [
    "client.command(\"CREATE Class c_results EXTENDS E\") # Constructeur result for a Race\n",
    "batch_cmds = ['begin']\n",
    "for i, j in zip(results[\"constructorId\"], results[\"resultId\"]):\n",
    "    command = (\"CREATE EDGE c_results FROM (SELECT * FROM Constructors WHERE constructorId = %s) TO \" \n",
    "          \"(SELECT * FROM Results WHERE resultId = %s)\"\n",
    "    %(i,\n",
    "      j\n",
    "    ))\n",
    "    batch_cmds.append(command)\n",
    "# Add Batch Commit\n",
    "batch_cmds.append('commit retry 100;')\n",
    "# Join with Semicolons\n",
    "cmd = ';'.join(batch_cmds)\n",
    "# Execute Commands\n",
    "results = client.batch(cmd)"
   ]
  },
  {
   "cell_type": "markdown",
   "metadata": {},
   "source": [
    "> #### Relation pilote a participité à la course : Pilote participated to Race"
   ]
  },
  {
   "cell_type": "code",
   "execution_count": 21,
   "metadata": {},
   "outputs": [],
   "source": [
    "client.command(\"CREATE Class participated_to EXTENDS E\") # Driver/Constructeur a participé à Course\n",
    "batch_cmds = ['begin']\n",
    "for i, j in zip(results[\"driverId\"], results[\"raceId\"]):\n",
    "    command = (\"CREATE EDGE participated_to FROM (SELECT * FROM Drivers WHERE driverId = %s) TO \" \n",
    "          \"(SELECT * FROM Races WHERE raceId = %s)\"\n",
    "    %(i,\n",
    "      j\n",
    "    ))\n",
    "    batch_cmds.append(command)\n",
    "# Add Batch Commit\n",
    "batch_cmds.append('commit retry 100;')\n",
    "# Join with Semicolons\n",
    "cmd = ';'.join(batch_cmds)\n",
    "# Execute Commands\n",
    "results = client.batch(cmd)"
   ]
  },
  {
   "cell_type": "code",
   "execution_count": null,
   "metadata": {
    "collapsed": true,
    "jupyter": {
     "outputs_hidden": true
    }
   },
   "outputs": [],
   "source": [
    "end = time.time()\n",
    "print(\"La création de la base de donnée avec pyOrient a nécessité\" + \" \" + str(round(end - start, 2)) + \"s\")"
   ]
  },
  {
   "cell_type": "markdown",
   "metadata": {},
   "source": [
    "Orientdb propose une alternative pour crééer une base de donnée. Il est effet possible d'utiliser la méthode ETL. Le principe est créer sa base de base à partir d'un fichier JSON en trois étapes : Extract - Transform - Load. Dans la première étape, le jeu de donnée est extraite à partir de sa source, dans la deuxième les données sont transformées afin de correspondre à nos attentes. Il est ainsi possible dans cette de crééer des noeuds et de relations. La dernière étape permet de charger les données dans la base de donnée cible. Cette méthode est extrêmement intéressante lorsque l'on travaille avec un volume de données important. Nous avons essayé cette alternative proposéee par Orientdb et avons constaté une prise en main assez rapide dès lors qu'on a compris le principe général de l'ETL. Cette méthode comparéee à l'envoie de données à partir de Python est beaucoup plus rapide et adapté au Big Data. Ceci même comparé aux commandes Batch que nous avons réalisé ci-dessus. <br>\n",
    "Pour faire de l'ETL avec Orientdb il est nécessaire de disposer d'un éditeur de texte adapté (nous recommendons Sublime Text ou Visual Studio Code). Vous trouverez le principe de l'ETL avec Orientdb dans la documentation du SGBD [ici](https://orientdb.com/docs/2.2.x/ETL-Introduction.html) et un exemple détaillant bien chaque étape [ici](https://orientdb.com/docs/2.2.x/Import-the-Database-of-Beers.html). La figure 5 montre les commandes JSON que nous avons utilisé pour l'ETL des données sur les courses (Races).  "
   ]
  },
  {
   "cell_type": "markdown",
   "metadata": {},
   "source": [
    "<img src=\"races_etl.png\" width=\"1100\" height=\"400\">"
   ]
  },
  {
   "cell_type": "markdown",
   "metadata": {},
   "source": [
    "<center> Figure 5 : ETL sur données des pilotes  </center> "
   ]
  },
  {
   "cell_type": "markdown",
   "metadata": {},
   "source": [
    "Nous calculons ici le coût en termes de mémoir de cette étape de création de la base de donnée sous OrientDB."
   ]
  },
  {
   "cell_type": "code",
   "execution_count": 154,
   "metadata": {},
   "outputs": [],
   "source": [
    "memory_use_orient = psutil.virtual_memory()[2] # percent – the percentage usage that is calculated as (total – available) / total * 100"
   ]
  },
  {
   "cell_type": "markdown",
   "metadata": {},
   "source": [
    "   > - ## Sur Neo4J"
   ]
  },
  {
   "cell_type": "markdown",
   "metadata": {},
   "source": [
    "Dans cette partie, la phase de création de la base de donnée est aussi réalisée aeveec Neo4J. Pour cela, nous utilisons le Driver py2neo qui contrairement à pyorient posséde des modules Graph, Node et Relationship qui sont d'une très grande aide pour définir sans effort supplémentaire les noeuds et relations entre eux."
   ]
  },
  {
   "cell_type": "code",
   "execution_count": 14,
   "metadata": {},
   "outputs": [],
   "source": [
    "from py2neo import Graph, Node, Relationship\n",
    "from  py2neo.ogm import *"
   ]
  },
  {
   "cell_type": "markdown",
   "metadata": {},
   "source": [
    "Pour commencer, il est nécessaire dans Neo4j de lancer une nouvelle base de donnée (selon nos recherches py2neo ne permettant pas de créer directement une base de donnée).  Le code Python ne fera que injecter des données et des relations créées dans une base Neo4j. \n",
    "Nous avons donc en amont :\n",
    "-  Ouvrir Neo4j et créer une nouvel base locale intitulée \"Formula_1\"\n",
    "-  avec mot de passe : Neo4j\n",
    "-  La demarrer \n",
    "-  et l'ouvrir <br>\n",
    "\n",
    "Pour se cconnecter à la base de donnée, il faut se connecter au port 7687 du serveur localhost. Notez qu'il faut dans certains cas préciser littéralement l'adresse localhost (bolt://127.0.0.1). "
   ]
  },
  {
   "cell_type": "code",
   "execution_count": 15,
   "metadata": {},
   "outputs": [],
   "source": [
    "graph_db = Graph(\"bolt://127.0.0.1:7687\", auth=(\"neo4j\", \"merlin\")) # Nous nous connectons avec commme admin id : neo4j et comme mot de passe : merlin (oui oui lui même !)\n",
    "# graph_db.run(\"MATCH (n) DETACH DELETE n\") Cette commande nettoie la base de donnée de tout ce qu'elle contient. ELle permet de s'assurer qu'on parte d'une base de donnée vide. "
   ]
  },
  {
   "cell_type": "markdown",
   "metadata": {},
   "source": [
    "Comme avec pyorient, nous allons dans un premier temps nous construirons les noeuds à partir de nos documents csv. Pour ensuite créer les relations entre nos noeuds"
   ]
  },
  {
   "cell_type": "code",
   "execution_count": 34,
   "metadata": {},
   "outputs": [],
   "source": [
    "start2 = tm.time() # Pour mesurer le mis pour créer la base de donnée avec Neo4J. "
   ]
  },
  {
   "cell_type": "markdown",
   "metadata": {},
   "source": [
    "### Création des noeuds (neo4j)"
   ]
  },
  {
   "cell_type": "markdown",
   "metadata": {},
   "source": [
    "La création des tables correspond aux noeuds. Nous montrerons ici comment créer une table dans Neo4j à partir d'un document csv (écuries). La méthode est ensuite la même pour toutes les tables. "
   ]
  },
  {
   "cell_type": "markdown",
   "metadata": {},
   "source": [
    "> #### Données écuries :  Constructors"
   ]
  },
  {
   "cell_type": "markdown",
   "metadata": {},
   "source": [
    "Le principe consiste à créer une table vide puis, en bouclant, introduire chaque ligne de notre document csv comme part du noeud principal 'constructor'.    \n",
    "Py2neo créera ainsi les tables dans Neo4j à partir du fichier csv transformé en pandas dataframe. Pour eviter toutes erreurs d'importation dues aux caratères spéciaux, on rajoute errors = \"ignore\", encoding='uft-8'.Le principe de la boucle est relativement simple: la fonction l.split permet de diviser le fichier csv en différentes colonnes en lui précisement le caractère de spération utilisé dans le fichier csv.\n",
    "L'étape suivante consiste à créer un noeud avec des caractéristiques (id, nom, ect...).\n",
    "Ces caractéristiques sont celles de la table csv et sont attribués au noeud en indiquant le numero de la colonne attribué par la fonction l.split. Par exemple, le noeud 1, corresspondant à la première ligne de la table excel, aura le lieux de la 1ere ligne du tableau excel pour l'attribut location. Il n'est pas nécéssaire de conserver toutes les colonnes du fichier csv. Seules celles qui nous intéressent sont gardées en reférencant leur numéro de colonne."
   ]
  },
  {
   "cell_type": "code",
   "execution_count": 26,
   "metadata": {},
   "outputs": [
    {
     "data": {
      "text/html": [
       "<div>\n",
       "<style scoped>\n",
       "    .dataframe tbody tr th:only-of-type {\n",
       "        vertical-align: middle;\n",
       "    }\n",
       "\n",
       "    .dataframe tbody tr th {\n",
       "        vertical-align: top;\n",
       "    }\n",
       "\n",
       "    .dataframe thead th {\n",
       "        text-align: right;\n",
       "    }\n",
       "</style>\n",
       "<table border=\"1\" class=\"dataframe\">\n",
       "  <thead>\n",
       "    <tr style=\"text-align: right;\">\n",
       "      <th></th>\n",
       "      <th>1</th>\n",
       "      <th>2</th>\n",
       "      <th>3</th>\n",
       "      <th>4</th>\n",
       "      <th>5</th>\n",
       "      <th>6</th>\n",
       "      <th>7</th>\n",
       "      <th>8</th>\n",
       "      <th>9</th>\n",
       "      <th>10</th>\n",
       "      <th>...</th>\n",
       "      <th>204</th>\n",
       "      <th>205</th>\n",
       "      <th>206</th>\n",
       "      <th>207</th>\n",
       "      <th>208</th>\n",
       "      <th>209</th>\n",
       "      <th>210</th>\n",
       "      <th>211</th>\n",
       "      <th>212</th>\n",
       "      <th>213</th>\n",
       "    </tr>\n",
       "  </thead>\n",
       "  <tbody>\n",
       "    <tr>\n",
       "      <td>id</td>\n",
       "      <td>1</td>\n",
       "      <td>2</td>\n",
       "      <td>3</td>\n",
       "      <td>4</td>\n",
       "      <td>5</td>\n",
       "      <td>6</td>\n",
       "      <td>7</td>\n",
       "      <td>8</td>\n",
       "      <td>9</td>\n",
       "      <td>10</td>\n",
       "      <td>...</td>\n",
       "      <td>204</td>\n",
       "      <td>205</td>\n",
       "      <td>206</td>\n",
       "      <td>207</td>\n",
       "      <td>208</td>\n",
       "      <td>209</td>\n",
       "      <td>210</td>\n",
       "      <td>211</td>\n",
       "      <td>212</td>\n",
       "      <td>213</td>\n",
       "    </tr>\n",
       "    <tr>\n",
       "      <td>name</td>\n",
       "      <td>\"McLaren\"</td>\n",
       "      <td>\"BMW Sauber\"</td>\n",
       "      <td>\"Williams\"</td>\n",
       "      <td>\"Renault\"</td>\n",
       "      <td>\"Toro Rosso\"</td>\n",
       "      <td>\"Ferrari\"</td>\n",
       "      <td>\"Toyota\"</td>\n",
       "      <td>\"Super Aguri\"</td>\n",
       "      <td>\"Red Bull\"</td>\n",
       "      <td>\"Force India\"</td>\n",
       "      <td>...</td>\n",
       "      <td>\"Brabham-Alfa Romeo\"</td>\n",
       "      <td>\"Lotus\"</td>\n",
       "      <td>\"Marussia\"</td>\n",
       "      <td>\"Caterham\"</td>\n",
       "      <td>\"Lotus F1\"</td>\n",
       "      <td>\"Manor Marussia\"</td>\n",
       "      <td>\"Haas F1 Team\"</td>\n",
       "      <td>\"Racing Point\"</td>\n",
       "      <td>\"Scuderia Alpha Tauri\"</td>\n",
       "      <td>\"AlphaTauri\"</td>\n",
       "    </tr>\n",
       "    <tr>\n",
       "      <td>nationalityC</td>\n",
       "      <td>\"British\"</td>\n",
       "      <td>\"German\"</td>\n",
       "      <td>\"British\"</td>\n",
       "      <td>\"French\"</td>\n",
       "      <td>\"Italian\"</td>\n",
       "      <td>\"Italian\"</td>\n",
       "      <td>\"Japanese\"</td>\n",
       "      <td>\"Japanese\"</td>\n",
       "      <td>\"Austrian\"</td>\n",
       "      <td>\"Indian\"</td>\n",
       "      <td>...</td>\n",
       "      <td>\"British\"</td>\n",
       "      <td>\"Malaysian\"</td>\n",
       "      <td>\"Russian\"</td>\n",
       "      <td>\"Malaysian\"</td>\n",
       "      <td>\"British\"</td>\n",
       "      <td>\"British\"</td>\n",
       "      <td>\"American\"</td>\n",
       "      <td>\"British\"</td>\n",
       "      <td>\"Italian\"</td>\n",
       "      <td>\"Italian\"</td>\n",
       "    </tr>\n",
       "  </tbody>\n",
       "</table>\n",
       "<p>3 rows × 211 columns</p>\n",
       "</div>"
      ],
      "text/plain": [
       "                      1             2           3          4             5  \\\n",
       "id                    1             2           3          4             5   \n",
       "name          \"McLaren\"  \"BMW Sauber\"  \"Williams\"  \"Renault\"  \"Toro Rosso\"   \n",
       "nationalityC  \"British\"      \"German\"   \"British\"   \"French\"     \"Italian\"   \n",
       "\n",
       "                      6           7              8           9             10  \\\n",
       "id                    6           7              8           9             10   \n",
       "name          \"Ferrari\"    \"Toyota\"  \"Super Aguri\"  \"Red Bull\"  \"Force India\"   \n",
       "nationalityC  \"Italian\"  \"Japanese\"     \"Japanese\"  \"Austrian\"       \"Indian\"   \n",
       "\n",
       "              ...                   204          205         206          207  \\\n",
       "id            ...                   204          205         206          207   \n",
       "name          ...  \"Brabham-Alfa Romeo\"      \"Lotus\"  \"Marussia\"   \"Caterham\"   \n",
       "nationalityC  ...             \"British\"  \"Malaysian\"   \"Russian\"  \"Malaysian\"   \n",
       "\n",
       "                     208               209             210             211  \\\n",
       "id                   208               209             210             211   \n",
       "name          \"Lotus F1\"  \"Manor Marussia\"  \"Haas F1 Team\"  \"Racing Point\"   \n",
       "nationalityC   \"British\"         \"British\"      \"American\"       \"British\"   \n",
       "\n",
       "                                 212           213  \n",
       "id                               212           213  \n",
       "name          \"Scuderia Alpha Tauri\"  \"AlphaTauri\"  \n",
       "nationalityC               \"Italian\"     \"Italian\"  \n",
       "\n",
       "[3 rows x 211 columns]"
      ]
     },
     "execution_count": 26,
     "metadata": {},
     "output_type": "execute_result"
    }
   ],
   "source": [
    "constructors = {}\n",
    "\n",
    "with open(path_to_data+\"constructors.csv\", \"r\") as f:\n",
    "    first = True\n",
    "    for l in f :\n",
    "        if not first:\n",
    "            col = l.split(\",\")\n",
    "            constructors[col[0]] =  Node(\"Constructor\",\n",
    "                                  id = int(col[0]),\n",
    "                                  name = str(col[2]),\n",
    "                                  nationalityC=str(col[3])) #rajouter.strip a la fin si marche pas ?\n",
    "        else :\n",
    "            first = False"
   ]
  },
  {
   "cell_type": "markdown",
   "metadata": {},
   "source": [
    "Ces étapes sont répétées pour les autres fichiers csv.  "
   ]
  },
  {
   "cell_type": "code",
   "execution_count": 27,
   "metadata": {},
   "outputs": [],
   "source": [
    "debut = tm.time()\n",
    "# ____# Table circuits #_______\n",
    "circuits = {}\n",
    "\n",
    "with open(path_to_data+\"circuits.csv\", \"r\", errors='ignore', encoding='utf-8') as f:\n",
    "    first = True\n",
    "    for l in f :\n",
    "        if not first:\n",
    "            col = l.split(\",\")\n",
    "            circuits[col[0]] =  Node(\"Circuit\",\n",
    "                                  circuitId = int(col[0]),\n",
    "                                  name = str(col[2]),\n",
    "                                  location=str(col[3]),\n",
    "                                  country=str(col[4]))\n",
    "        else :\n",
    "            first = False\n",
    "               \n",
    "races = {}\n",
    "\n",
    "with open(path_to_data+\"races.csv\", \"r\") as f:\n",
    "    first = True\n",
    "    for l in f :\n",
    "        if not first:\n",
    "            col = l.split(\",\")\n",
    "            races[col[0]] =  Node(\"Race\",\n",
    "                                  id = int(col[0]),\n",
    "                                  year= int(col[1]),\n",
    "                                  tour=str(col[2]),\n",
    "                                  circuitId=int(col[3]),\n",
    "                                  name=str(col[4]),\n",
    "                                  date=str(col[5])) #rajouter.strip a la fin si marche pas ?\n",
    "        else :\n",
    "            first = False\n",
    "\n",
    "#pd.DataFrame(races)\n",
    "\n",
    "# ____# Table pilote #_______\n",
    "drivers = {}\n",
    "\n",
    "with open(path_to_data+\"drivers.csv\", \"r\", errors='ignore', encoding='utf-8') as f:\n",
    "    first = True\n",
    "    for l in f :\n",
    "        if not first:\n",
    "            col = l.split(\",\")\n",
    "            drivers[col[0]] =  Node(\"drivers\",\n",
    "                                  id = int(col[0]),\n",
    "                                  code= str(col[3]),\n",
    "                                  name=str(col[4]),\n",
    "                                  surname=str(col[5]),\n",
    "                                  birth=str(col[6]),\n",
    "                                  nationality=str(col[7]))\n",
    "        else :\n",
    "            first = False\n",
    "\n",
    "# pd.DataFrame(drivers)\n",
    "\n",
    "#____# Table Résultats #_______\n",
    "results = {}\n",
    "df = pd.read_csv(path_to_data+\"results.csv\",delimiter=\",\")\n",
    "\n",
    "for index,row in df.iterrows():\n",
    "    #print(row)\n",
    "    results[row['resultId']] = Node(\"Result\",\n",
    "                                id=int(row['resultId']),\n",
    "                                race=int(row[\"raceId\"]),\n",
    "                                driver=int(row[\"driverId\"]),\n",
    "                                constructor=int(row[\"constructorId\"]),\n",
    "                                position=str(row[\"position\"]),\n",
    "                                positionOrder=str(row[\"positionOrder\"]),\n",
    "                                points=int(row[\"points\"]),\n",
    "                                time=str(row[\"time\"]),\n",
    "                                rank=str(row[\"rank\"]))\n",
    "#pd.DataFrame(results)"
   ]
  },
  {
   "cell_type": "markdown",
   "metadata": {},
   "source": [
    "Dans cette seconde étape nous créeons les relations entre les noeuds précédemment faits. La première étape consiste ici à créer un repertoire de relation vide que l'on viendra enrichir par la création de nos relations. Sur le même principe que la première partie, la méthode de création de la première relation servira de modèle pour les suivantes. \n",
    "La relation créée ici est la relation entre la course (Race) et le circuit (Circuit) sur lequel elle a eu lieu nommé \"took_place_on\". Afin de rester cohérent dans notre analyse nous lui avons donné le même nom que pour la relation corrrespondante pour Orientdb. "
   ]
  },
  {
   "cell_type": "code",
   "execution_count": 28,
   "metadata": {},
   "outputs": [],
   "source": [
    "rel=[] # Créatio  d'une liste vide que nous viendrons populer\n",
    "\n",
    "# Relation Race-Circuit : \"SUR LE CIRCUIT\" ###\n",
    "# La première étape consiste à importer le document csv ou les deux informations sont reliées (présentes sur sur la même ligne).\n",
    "df = pd.read_csv(path_to_data+\"races.csv\",delimiter=\",\")\n",
    "\n",
    "# Puis le principe consiste à indiquer dans quelle colone (du document csv) on va retrouver l'information.\n",
    "# (On peut le faire par le numéro de la colonne avec l.split ou avec le nom de la colonne)\n",
    "for index,row in df.iterrows():\n",
    "    course = races[str(row['raceId'])]\n",
    "    # Pour l'information concernant la course c'est dans la colonne 'raceId' \n",
    "    # Pour la première ligne, raceId = 1 \n",
    "    circuit = circuits[str(row['circuitId'])]\n",
    "    # Pour l'information concernant le circuit c'est dans la colonne 'circuitId'\n",
    "    # Pour la première ligne du doc csv, circuitId = 1 \n",
    "    rel.append(Relationship(course,\"Took_place_on\",circuit))\n",
    "    # Ici on lie alors par la relation \"SUR LE CIRCUIT\" \n",
    "    # le noeud de la base circuit, dont le circuitId = 1,  \n",
    "    # avec le noeud de la base races, dont le raceId = 1. "
   ]
  },
  {
   "cell_type": "code",
   "execution_count": 30,
   "metadata": {
    "collapsed": true,
    "jupyter": {
     "outputs_hidden": true
    }
   },
   "outputs": [
    {
     "ename": "NameError",
     "evalue": "name 'end' is not defined",
     "output_type": "error",
     "traceback": [
      "\u001b[0;31m---------------------------------------------------------------------------\u001b[0m",
      "\u001b[0;31mNameError\u001b[0m                                 Traceback (most recent call last)",
      "\u001b[0;32m<ipython-input-30-8e63cf6536bc>\u001b[0m in \u001b[0;36m<module>\u001b[0;34m\u001b[0m\n\u001b[1;32m     34\u001b[0m \u001b[0;34m\u001b[0m\u001b[0m\n\u001b[1;32m     35\u001b[0m \u001b[0mend2\u001b[0m \u001b[0;34m=\u001b[0m \u001b[0mtm\u001b[0m\u001b[0;34m.\u001b[0m\u001b[0mtime\u001b[0m\u001b[0;34m(\u001b[0m\u001b[0;34m)\u001b[0m\u001b[0;34m\u001b[0m\u001b[0;34m\u001b[0m\u001b[0m\n\u001b[0;32m---> 36\u001b[0;31m \u001b[0mprint\u001b[0m\u001b[0;34m(\u001b[0m\u001b[0;34m\"La création de la base de donnée avec py2neo a nécessité\"\u001b[0m \u001b[0;34m+\u001b[0m \u001b[0;34m\" \"\u001b[0m \u001b[0;34m+\u001b[0m \u001b[0mstr\u001b[0m\u001b[0;34m(\u001b[0m\u001b[0mround\u001b[0m\u001b[0;34m(\u001b[0m\u001b[0mend\u001b[0m \u001b[0;34m-\u001b[0m \u001b[0mstart\u001b[0m\u001b[0;34m,\u001b[0m \u001b[0;36m2\u001b[0m\u001b[0;34m)\u001b[0m\u001b[0;34m)\u001b[0m \u001b[0;34m+\u001b[0m \u001b[0;34m\"s\"\u001b[0m\u001b[0;34m)\u001b[0m\u001b[0;34m\u001b[0m\u001b[0;34m\u001b[0m\u001b[0m\n\u001b[0m",
      "\u001b[0;31mNameError\u001b[0m: name 'end' is not defined"
     ]
    }
   ],
   "source": [
    "# Les relations suivantes suivent la même méthode/structure\n",
    "\n",
    "# Relation Résulats - course : results_of\n",
    "df = pd.read_csv(path_to_data+\"results.csv\",delimiter=\",\")\n",
    "for index,row in df.iterrows():\n",
    "    resultat = results[row['resultId']]\n",
    "    course = races[str(row['raceId'])]\n",
    "    rel.append(Relationship(resultat,\"results_of\",course))\n",
    "    \n",
    "# Relation Résulats - Pilote : d_results\n",
    "df = pd.read_csv(path_to_data+\"results.csv\",delimiter=\",\")\n",
    "for index,row in df.iterrows():\n",
    "    resultat = results[row['resultId']]\n",
    "    pilote = drivers[str(row['driverId'])]\n",
    "    rel.append(Relationship(pilote,\"d_results\",resultat))\n",
    "\n",
    "# Relation Résulats - Ecurie : c_results\n",
    "df = pd.read_csv(path_to_data+\"results.csv\",delimiter=\",\")\n",
    "for index,row in df.iterrows():\n",
    "    resultat = results[row['resultId']]\n",
    "    constructeur = constructors[str(row['constructorId'])]\n",
    "    rel.append(Relationship(constructeur,\"c_results\",resultat))\n",
    "\n",
    "# relation Pilote - Course : \"participated_to\"  \n",
    "df = pd.read_csv(path_to_data+\"results.csv\",delimiter=\",\")\n",
    "for index,row in df.iterrows():\n",
    "    course = races[str(row['raceId'])]\n",
    "    pilote = drivers[str(row['driverId'])]\n",
    "    rel.append(Relationship(pilote,\"participated_to\",course))\n",
    "\n",
    "    \n",
    "for r in rel :\n",
    "    graph_db.create(r)\n",
    "\n",
    "end2 = tm.time()"
   ]
  },
  {
   "cell_type": "code",
   "execution_count": 35,
   "metadata": {},
   "outputs": [
    {
     "name": "stdout",
     "output_type": "stream",
     "text": [
      "La création de la base de donnée avec py2neo a nécessité -790.18s\n"
     ]
    }
   ],
   "source": [
    "print(\"La création de la base de donnée avec py2neo a nécessité\" + \" \" + str(round(end2 - start2, 2)) + \"s\")"
   ]
  },
  {
   "cell_type": "code",
   "execution_count": 68,
   "metadata": {},
   "outputs": [
    {
     "name": "stdout",
     "output_type": "stream",
     "text": [
      "ok\n"
     ]
    }
   ],
   "source": [
    "# Nous checkons ici si la base de donnée a été bien créée dans Neo4J\n",
    "from py2neo import Graph\n",
    "graph = Graph(\"bolt://localhost:7687\", auth=(\"neo4j\", \"merlin\"))\n",
    "try:\n",
    "    graph.run(\"Match () Return 1 Limit 1\")\n",
    "    print('ok')\n",
    "except Exception:\n",
    "    print('not ok')"
   ]
  },
  {
   "cell_type": "code",
   "execution_count": 154,
   "metadata": {},
   "outputs": [],
   "source": [
    "memory_use_neo4j = psutil.virtual_memory()[2] # Comme pour orientdb nous calculons le coût en mémoire de la création de cette de donnée. "
   ]
  },
  {
   "cell_type": "markdown",
   "metadata": {},
   "source": [
    "Nos bases de données ont été ainsi créées sur Orientdb et Neo4J à partir de nos commandes Python. Nous allons pour la suite essayer de souligner les différences au travers de requêtes graduellement complexes. "
   ]
  },
  {
   "cell_type": "markdown",
   "metadata": {},
   "source": [
    "> #### c. Requêtes"
   ]
  },
  {
   "cell_type": "markdown",
   "metadata": {},
   "source": [
    "Nous allons dans cette partie réaliser 5 requêtes. La première permettant juste de constater avec vous les résultats brûts des requêtes pour chaque SGBD. En tant que data scientists en devenir nous pensons aussi qu'il est intéressant pour cet exposé de ne pas nous limiter quaux requêtes mais aussi d'être de la connaissance à partir de ces données. "
   ]
  },
  {
   "cell_type": "markdown",
   "metadata": {},
   "source": [
    "  > #### Récupération d'une quantité limitée de données "
   ]
  },
  {
   "cell_type": "markdown",
   "metadata": {},
   "source": [
    "Pour orientdb toujours à l'aide de la méthode command() du client pyorient nous recevons de la part du serveur des pointeurs (pyorient.otypes.OrientRecord) ainsi que leur localisatiion en mémoire (0x11ba5b890). Comme mentionné au début de notre présentation Orientdb met au centre de sa logique architecturale la notion de link qui pointent vers des cursors (des pointeurs). Chaque requête nous revient donc comme un pointeur où le résultat est stocké. Il est nécessaire par la suite \"d'ouvrir\" ce pointeur et de récupérer les dictionnaires contenant les \"données utiles\". "
   ]
  },
  {
   "cell_type": "code",
   "execution_count": 58,
   "metadata": {},
   "outputs": [
    {
     "data": {
      "text/plain": [
       "[<pyorient.otypes.OrientRecord at 0x11f3b0f10>,\n",
       " <pyorient.otypes.OrientRecord at 0x11efd6690>,\n",
       " <pyorient.otypes.OrientRecord at 0x11eff31d0>]"
      ]
     },
     "execution_count": 58,
     "metadata": {},
     "output_type": "execute_result"
    }
   ],
   "source": [
    "client.command(\"SELECT * FROM took_place_on LIMIT 3\")"
   ]
  },
  {
   "cell_type": "markdown",
   "metadata": {},
   "source": [
    "Pour Neo4J la tâche est beaucoup moins ardue même si ce sont tout de même des pointeurs qui sont renvoyés, il est possible d'entrevoir la forme que prennent les données. Il suffira par la suite d'itérer dans des listes de listes au niveau de dictionnaires pour récupérer les champs qui nous intéressent. Notons ici que Neo4J accepte Cypher comme language de requête. "
   ]
  },
  {
   "cell_type": "code",
   "execution_count": 25,
   "metadata": {},
   "outputs": [
    {
     "data": {
      "text/plain": [
       " r                                                                                 | n1                                                                                                            | n2                                                                                                                     \n",
       "-----------------------------------------------------------------------------------|---------------------------------------------------------------------------------------------------------------|------------------------------------------------------------------------------------------------------------------------\n",
       " (\"Australian Grand Prix\")-[:Took_place_on {}]->(\"Albert Park Grand Prix Circuit\") | (_0:Race {circuitId: 1, date: '\"2009-03-29\"', id: 1, name: '\"Australian Grand Prix\"', tour: '1', year: 2009}) | (_1:Circuit {circuitId: 1, country: '\"Australia\"', location: '\"Melbourne\"', name: '\"Albert Park Grand Prix Circuit\"'}) \n",
       " (\"Malaysian Grand Prix\")-[:Took_place_on {}]->(\"Sepang International Circuit\")    | (_2:Race {circuitId: 2, date: '\"2009-04-05\"', id: 2, name: '\"Malaysian Grand Prix\"', tour: '2', year: 2009})  | (_3:Circuit {circuitId: 2, country: '\"Malaysia\"', location: '\"Kuala Lumpur\"', name: '\"Sepang International Circuit\"'}) \n",
       " (\"Chinese Grand Prix\")-[:Took_place_on {}]->(\"Shanghai International Circuit\")    | (_4:Race {circuitId: 17, date: '\"2009-04-19\"', id: 3, name: '\"Chinese Grand Prix\"', tour: '3', year: 2009})   | (_5:Circuit {circuitId: 17, country: '\"China\"', location: '\"Shanghai\"', name: '\"Shanghai International Circuit\"'})     "
      ]
     },
     "execution_count": 25,
     "metadata": {},
     "output_type": "execute_result"
    }
   ],
   "source": [
    "# 1) Get some data # ok\n",
    "graph_db.run(\"MATCH (n1)-[r]->(n2) RETURN r, n1, n2 LIMIT 3\")"
   ]
  },
  {
   "cell_type": "markdown",
   "metadata": {},
   "source": [
    "  > #### a- Liste des pilotes allemands"
   ]
  },
  {
   "cell_type": "markdown",
   "metadata": {},
   "source": [
    "Ici nous requêtons tous les allemands de notre table Drivers. Comme vous pouvez le constater dans le chunk ci-dessous il est nécessaire, après avoir récupéré les pointeurs, de l'ouvrir et d'itérer sur la liste contenant les données (_OrientRecord__o_storage _). De là de simples opérations de manipulation de dictionnaires (assez pythoniques) sont nécessaires pour obtenir un dataframe pandas. "
   ]
  },
  {
   "cell_type": "code",
   "execution_count": 162,
   "metadata": {
    "collapsed": true,
    "jupyter": {
     "outputs_hidden": true
    }
   },
   "outputs": [
    {
     "ename": "timeout",
     "evalue": "timed out",
     "output_type": "error",
     "traceback": [
      "\u001b[0;31m---------------------------------------------------------------------------\u001b[0m",
      "\u001b[0;31mtimeout\u001b[0m                                   Traceback (most recent call last)",
      "\u001b[0;32m<ipython-input-162-3996244531b9>\u001b[0m in \u001b[0;36m<module>\u001b[0;34m\u001b[0m\n\u001b[1;32m      1\u001b[0m \u001b[0mstart3\u001b[0m \u001b[0;34m=\u001b[0m \u001b[0mtm\u001b[0m\u001b[0;34m.\u001b[0m\u001b[0mtime\u001b[0m\u001b[0;34m(\u001b[0m\u001b[0;34m)\u001b[0m\u001b[0;34m\u001b[0m\u001b[0;34m\u001b[0m\u001b[0m\n\u001b[1;32m      2\u001b[0m \u001b[0;34m\u001b[0m\u001b[0m\n\u001b[0;32m----> 3\u001b[0;31m \u001b[0mgerman_pilots\u001b[0m \u001b[0;34m=\u001b[0m \u001b[0mclient\u001b[0m\u001b[0;34m.\u001b[0m\u001b[0mcommand\u001b[0m\u001b[0;34m(\u001b[0m\u001b[0;34m\"SELECT forename, surname, nationality FROM Drivers WHERE nationality='German'\"\u001b[0m\u001b[0;34m)\u001b[0m\u001b[0;34m\u001b[0m\u001b[0;34m\u001b[0m\u001b[0m\n\u001b[0m\u001b[1;32m      4\u001b[0m \u001b[0mpilots_list\u001b[0m \u001b[0;34m=\u001b[0m \u001b[0;34m[\u001b[0m\u001b[0;34m]\u001b[0m\u001b[0;34m\u001b[0m\u001b[0;34m\u001b[0m\u001b[0m\n\u001b[1;32m      5\u001b[0m \u001b[0mvalues_dict\u001b[0m \u001b[0;34m=\u001b[0m \u001b[0;34m[\u001b[0m\u001b[0;34m]\u001b[0m\u001b[0;34m\u001b[0m\u001b[0;34m\u001b[0m\u001b[0m\n",
      "\u001b[0;32m~/.local/lib/python3.7/site-packages/pyorient-1.5.5-py3.7.egg/pyorient/orient.py\u001b[0m in \u001b[0;36mcommand\u001b[0;34m(self, *args)\u001b[0m\n\u001b[1;32m    461\u001b[0m     \u001b[0;32mdef\u001b[0m \u001b[0mcommand\u001b[0m\u001b[0;34m(\u001b[0m\u001b[0mself\u001b[0m\u001b[0;34m,\u001b[0m \u001b[0;34m*\u001b[0m\u001b[0margs\u001b[0m\u001b[0;34m)\u001b[0m\u001b[0;34m:\u001b[0m\u001b[0;34m\u001b[0m\u001b[0;34m\u001b[0m\u001b[0m\n\u001b[1;32m    462\u001b[0m         \u001b[0;32mreturn\u001b[0m \u001b[0mself\u001b[0m\u001b[0;34m.\u001b[0m\u001b[0mget_message\u001b[0m\u001b[0;34m(\u001b[0m\u001b[0;34m\"CommandMessage\"\u001b[0m\u001b[0;34m)\u001b[0m\u001b[0;31m \u001b[0m\u001b[0;31m\\\u001b[0m\u001b[0;34m\u001b[0m\u001b[0;34m\u001b[0m\u001b[0m\n\u001b[0;32m--> 463\u001b[0;31m             \u001b[0;34m.\u001b[0m\u001b[0mprepare\u001b[0m\u001b[0;34m(\u001b[0m\u001b[0;34m(\u001b[0m \u001b[0mQUERY_CMD\u001b[0m\u001b[0;34m,\u001b[0m \u001b[0;34m)\u001b[0m \u001b[0;34m+\u001b[0m \u001b[0margs\u001b[0m\u001b[0;34m)\u001b[0m\u001b[0;34m.\u001b[0m\u001b[0msend\u001b[0m\u001b[0;34m(\u001b[0m\u001b[0;34m)\u001b[0m\u001b[0;34m.\u001b[0m\u001b[0mfetch_response\u001b[0m\u001b[0;34m(\u001b[0m\u001b[0;34m)\u001b[0m\u001b[0;34m\u001b[0m\u001b[0;34m\u001b[0m\u001b[0m\n\u001b[0m\u001b[1;32m    464\u001b[0m \u001b[0;34m\u001b[0m\u001b[0m\n\u001b[1;32m    465\u001b[0m     \u001b[0;32mdef\u001b[0m \u001b[0mbatch\u001b[0m\u001b[0;34m(\u001b[0m\u001b[0mself\u001b[0m\u001b[0;34m,\u001b[0m \u001b[0;34m*\u001b[0m\u001b[0margs\u001b[0m\u001b[0;34m)\u001b[0m\u001b[0;34m:\u001b[0m\u001b[0;34m\u001b[0m\u001b[0;34m\u001b[0m\u001b[0m\n",
      "\u001b[0;32m~/.local/lib/python3.7/site-packages/pyorient-1.5.5-py3.7.egg/pyorient/messages/commands.py\u001b[0m in \u001b[0;36mfetch_response\u001b[0;34m(self)\u001b[0m\n\u001b[1;32m    142\u001b[0m \u001b[0;34m\u001b[0m\u001b[0m\n\u001b[1;32m    143\u001b[0m         \u001b[0;31m# decode header only\u001b[0m\u001b[0;34m\u001b[0m\u001b[0;34m\u001b[0m\u001b[0;34m\u001b[0m\u001b[0m\n\u001b[0;32m--> 144\u001b[0;31m         \u001b[0msuper\u001b[0m\u001b[0;34m(\u001b[0m \u001b[0mCommandMessage\u001b[0m\u001b[0;34m,\u001b[0m \u001b[0mself\u001b[0m \u001b[0;34m)\u001b[0m\u001b[0;34m.\u001b[0m\u001b[0mfetch_response\u001b[0m\u001b[0;34m(\u001b[0m\u001b[0;34m)\u001b[0m\u001b[0;34m\u001b[0m\u001b[0;34m\u001b[0m\u001b[0m\n\u001b[0m\u001b[1;32m    145\u001b[0m \u001b[0;34m\u001b[0m\u001b[0m\n\u001b[1;32m    146\u001b[0m         \u001b[0;32mif\u001b[0m \u001b[0mself\u001b[0m\u001b[0;34m.\u001b[0m\u001b[0m_command_type\u001b[0m \u001b[0;34m==\u001b[0m \u001b[0mQUERY_ASYNC\u001b[0m\u001b[0;34m:\u001b[0m\u001b[0;34m\u001b[0m\u001b[0;34m\u001b[0m\u001b[0m\n",
      "\u001b[0;32m~/.local/lib/python3.7/site-packages/pyorient-1.5.5-py3.7.egg/pyorient/messages/base.py\u001b[0m in \u001b[0;36mfetch_response\u001b[0;34m(self, *_continue)\u001b[0m\n\u001b[1;32m    263\u001b[0m         \u001b[0;31m# already fetched, get last results as cache info\u001b[0m\u001b[0;34m\u001b[0m\u001b[0;34m\u001b[0m\u001b[0;34m\u001b[0m\u001b[0m\n\u001b[1;32m    264\u001b[0m         \u001b[0;32melif\u001b[0m \u001b[0mlen\u001b[0m\u001b[0;34m(\u001b[0m\u001b[0mself\u001b[0m\u001b[0;34m.\u001b[0m\u001b[0m_body\u001b[0m\u001b[0;34m)\u001b[0m \u001b[0;32mis\u001b[0m \u001b[0;36m0\u001b[0m\u001b[0;34m:\u001b[0m\u001b[0;34m\u001b[0m\u001b[0;34m\u001b[0m\u001b[0m\n\u001b[0;32m--> 265\u001b[0;31m             \u001b[0mself\u001b[0m\u001b[0;34m.\u001b[0m\u001b[0m_decode_all\u001b[0m\u001b[0;34m(\u001b[0m\u001b[0;34m)\u001b[0m\u001b[0;34m\u001b[0m\u001b[0;34m\u001b[0m\u001b[0m\n\u001b[0m\u001b[1;32m    266\u001b[0m             \u001b[0mself\u001b[0m\u001b[0;34m.\u001b[0m\u001b[0mdump_streams\u001b[0m\u001b[0;34m(\u001b[0m\u001b[0;34m)\u001b[0m\u001b[0;34m\u001b[0m\u001b[0;34m\u001b[0m\u001b[0m\n\u001b[1;32m    267\u001b[0m         \u001b[0;32mreturn\u001b[0m \u001b[0mself\u001b[0m\u001b[0;34m.\u001b[0m\u001b[0m_body\u001b[0m\u001b[0;34m\u001b[0m\u001b[0;34m\u001b[0m\u001b[0m\n",
      "\u001b[0;32m~/.local/lib/python3.7/site-packages/pyorient-1.5.5-py3.7.egg/pyorient/messages/base.py\u001b[0m in \u001b[0;36m_decode_all\u001b[0;34m(self)\u001b[0m\n\u001b[1;32m    247\u001b[0m \u001b[0;34m\u001b[0m\u001b[0m\n\u001b[1;32m    248\u001b[0m     \u001b[0;32mdef\u001b[0m \u001b[0m_decode_all\u001b[0m\u001b[0;34m(\u001b[0m\u001b[0mself\u001b[0m\u001b[0;34m)\u001b[0m\u001b[0;34m:\u001b[0m\u001b[0;34m\u001b[0m\u001b[0;34m\u001b[0m\u001b[0m\n\u001b[0;32m--> 249\u001b[0;31m         \u001b[0mself\u001b[0m\u001b[0;34m.\u001b[0m\u001b[0m_decode_header\u001b[0m\u001b[0;34m(\u001b[0m\u001b[0;34m)\u001b[0m\u001b[0;34m\u001b[0m\u001b[0;34m\u001b[0m\u001b[0m\n\u001b[0m\u001b[1;32m    250\u001b[0m         \u001b[0mself\u001b[0m\u001b[0;34m.\u001b[0m\u001b[0m_decode_body\u001b[0m\u001b[0;34m(\u001b[0m\u001b[0;34m)\u001b[0m\u001b[0;34m\u001b[0m\u001b[0;34m\u001b[0m\u001b[0m\n\u001b[1;32m    251\u001b[0m \u001b[0;34m\u001b[0m\u001b[0m\n",
      "\u001b[0;32m~/.local/lib/python3.7/site-packages/pyorient-1.5.5-py3.7.egg/pyorient/messages/base.py\u001b[0m in \u001b[0;36m_decode_header\u001b[0;34m(self)\u001b[0m\n\u001b[1;32m    232\u001b[0m         \u001b[0;32mif\u001b[0m \u001b[0;32mnot\u001b[0m \u001b[0misinstance\u001b[0m\u001b[0;34m(\u001b[0m\u001b[0mself\u001b[0m\u001b[0;34m,\u001b[0m \u001b[0;34m(\u001b[0m\u001b[0mConnectMessage\u001b[0m\u001b[0;34m,\u001b[0m \u001b[0mDbOpenMessage\u001b[0m\u001b[0;34m)\u001b[0m\u001b[0;34m)\u001b[0m\u001b[0;31m \u001b[0m\u001b[0;31m\\\u001b[0m\u001b[0;34m\u001b[0m\u001b[0;34m\u001b[0m\u001b[0m\n\u001b[1;32m    233\u001b[0m                 \u001b[0;32mand\u001b[0m \u001b[0mself\u001b[0m\u001b[0;34m.\u001b[0m\u001b[0m_request_token\u001b[0m \u001b[0;32mis\u001b[0m \u001b[0;32mTrue\u001b[0m\u001b[0;34m:\u001b[0m\u001b[0;34m\u001b[0m\u001b[0;34m\u001b[0m\u001b[0m\n\u001b[0;32m--> 234\u001b[0;31m             \u001b[0mtoken_refresh\u001b[0m \u001b[0;34m=\u001b[0m \u001b[0mself\u001b[0m\u001b[0;34m.\u001b[0m\u001b[0m_decode_field\u001b[0m\u001b[0;34m(\u001b[0m\u001b[0mFIELD_STRING\u001b[0m\u001b[0;34m)\u001b[0m\u001b[0;34m\u001b[0m\u001b[0;34m\u001b[0m\u001b[0m\n\u001b[0m\u001b[1;32m    235\u001b[0m             \u001b[0;32mif\u001b[0m \u001b[0mtoken_refresh\u001b[0m \u001b[0;34m!=\u001b[0m \u001b[0;34mb''\u001b[0m\u001b[0;34m:\u001b[0m\u001b[0;34m\u001b[0m\u001b[0;34m\u001b[0m\u001b[0m\n\u001b[1;32m    236\u001b[0m                 \u001b[0mself\u001b[0m\u001b[0;34m.\u001b[0m\u001b[0m_auth_token\u001b[0m \u001b[0;34m=\u001b[0m \u001b[0mtoken_refresh\u001b[0m\u001b[0;34m\u001b[0m\u001b[0;34m\u001b[0m\u001b[0m\n",
      "\u001b[0;32m~/.local/lib/python3.7/site-packages/pyorient-1.5.5-py3.7.egg/pyorient/messages/base.py\u001b[0m in \u001b[0;36m_decode_field\u001b[0;34m(self, _type)\u001b[0m\n\u001b[1;32m    364\u001b[0m                 \u001b[0m_decoded_string\u001b[0m \u001b[0;34m=\u001b[0m \u001b[0;34mb''\u001b[0m\u001b[0;34m\u001b[0m\u001b[0;34m\u001b[0m\u001b[0m\n\u001b[1;32m    365\u001b[0m             \u001b[0;32melse\u001b[0m\u001b[0;34m:\u001b[0m\u001b[0;34m\u001b[0m\u001b[0;34m\u001b[0m\u001b[0m\n\u001b[0;32m--> 366\u001b[0;31m                 \u001b[0m_decoded_string\u001b[0m \u001b[0;34m=\u001b[0m \u001b[0mself\u001b[0m\u001b[0;34m.\u001b[0m\u001b[0m_orientSocket\u001b[0m\u001b[0;34m.\u001b[0m\u001b[0mread\u001b[0m\u001b[0;34m(\u001b[0m \u001b[0m_len\u001b[0m \u001b[0;34m)\u001b[0m\u001b[0;34m\u001b[0m\u001b[0;34m\u001b[0m\u001b[0m\n\u001b[0m\u001b[1;32m    367\u001b[0m \u001b[0;34m\u001b[0m\u001b[0m\n\u001b[1;32m    368\u001b[0m             \u001b[0mself\u001b[0m\u001b[0;34m.\u001b[0m\u001b[0m_input_buffer\u001b[0m \u001b[0;34m+=\u001b[0m \u001b[0m_value\u001b[0m\u001b[0;34m\u001b[0m\u001b[0;34m\u001b[0m\u001b[0m\n",
      "\u001b[0;32m~/.local/lib/python3.7/site-packages/pyorient-1.5.5-py3.7.egg/pyorient/orient.py\u001b[0m in \u001b[0;36mread\u001b[0;34m(self, _len_to_read)\u001b[0m\n\u001b[1;32m    166\u001b[0m                 \u001b[0mview\u001b[0m \u001b[0;34m=\u001b[0m \u001b[0mmemoryview\u001b[0m\u001b[0;34m(\u001b[0m\u001b[0mbuf\u001b[0m\u001b[0;34m)\u001b[0m\u001b[0;34m\u001b[0m\u001b[0;34m\u001b[0m\u001b[0m\n\u001b[1;32m    167\u001b[0m                 \u001b[0;32mwhile\u001b[0m \u001b[0m_len_to_read\u001b[0m\u001b[0;34m:\u001b[0m\u001b[0;34m\u001b[0m\u001b[0;34m\u001b[0m\u001b[0m\n\u001b[0;32m--> 168\u001b[0;31m                     \u001b[0mn_bytes\u001b[0m \u001b[0;34m=\u001b[0m \u001b[0mself\u001b[0m\u001b[0;34m.\u001b[0m\u001b[0m_socket\u001b[0m\u001b[0;34m.\u001b[0m\u001b[0mrecv_into\u001b[0m\u001b[0;34m(\u001b[0m\u001b[0mview\u001b[0m\u001b[0;34m,\u001b[0m \u001b[0m_len_to_read\u001b[0m\u001b[0;34m)\u001b[0m\u001b[0;34m\u001b[0m\u001b[0;34m\u001b[0m\u001b[0m\n\u001b[0m\u001b[1;32m    169\u001b[0m                     \u001b[0;32mif\u001b[0m \u001b[0;32mnot\u001b[0m \u001b[0mn_bytes\u001b[0m\u001b[0;34m:\u001b[0m\u001b[0;34m\u001b[0m\u001b[0;34m\u001b[0m\u001b[0m\n\u001b[1;32m    170\u001b[0m                         \u001b[0mself\u001b[0m\u001b[0;34m.\u001b[0m\u001b[0m_socket\u001b[0m\u001b[0;34m.\u001b[0m\u001b[0mclose\u001b[0m\u001b[0;34m(\u001b[0m\u001b[0;34m)\u001b[0m\u001b[0;34m\u001b[0m\u001b[0;34m\u001b[0m\u001b[0m\n",
      "\u001b[0;31mtimeout\u001b[0m: timed out"
     ]
    }
   ],
   "source": [
    "start3 = tm.time()\n",
    "\n",
    "german_pilots = client.command(\"SELECT forename, surname, nationality FROM Drivers WHERE nationality='German'\") \n",
    "pilots_list = [] \n",
    "values_dict = []\n",
    "keys_dict = []\n",
    "\n",
    "for i in range(len(german_pilots)):\n",
    "    pilots_list.append(german_pilots[i].__dict__)\n",
    "    values_dict.append(list(pilots_list[i][\"_OrientRecord__o_storage\"].values()))\n",
    "    df = pd.DataFrame(values_dict)\n",
    "    \n",
    "keys_dict = list(pilots_list[1][\"_OrientRecord__o_storage\"].keys())\n",
    "df.columns = keys_dict\n",
    "end3 = tm.time()\n",
    "df.sort_values('surname')\n",
    "df.head()"
   ]
  },
  {
   "cell_type": "markdown",
   "metadata": {},
   "source": [
    "De maniére équivalente, nous pouvons retrouver le même dataframe en requêtant la base de donnée située sur Neo4J. Notons ici que pour Cypher une commande Match suffit à extraire la donnée. Sur orientdb une selection (avec Select) est nécessaire. "
   ]
  },
  {
   "cell_type": "code",
   "execution_count": 56,
   "metadata": {},
   "outputs": [
    {
     "data": {
      "text/html": [
       "<div>\n",
       "<style scoped>\n",
       "    .dataframe tbody tr th:only-of-type {\n",
       "        vertical-align: middle;\n",
       "    }\n",
       "\n",
       "    .dataframe tbody tr th {\n",
       "        vertical-align: top;\n",
       "    }\n",
       "\n",
       "    .dataframe thead th {\n",
       "        text-align: right;\n",
       "    }\n",
       "</style>\n",
       "<table border=\"1\" class=\"dataframe\">\n",
       "  <thead>\n",
       "    <tr style=\"text-align: right;\">\n",
       "      <th></th>\n",
       "      <th>name</th>\n",
       "      <th>surname</th>\n",
       "      <th>nationality</th>\n",
       "    </tr>\n",
       "  </thead>\n",
       "  <tbody>\n",
       "    <tr>\n",
       "      <td>0</td>\n",
       "      <td>Nick</td>\n",
       "      <td>Heidfeld</td>\n",
       "      <td>German</td>\n",
       "    </tr>\n",
       "    <tr>\n",
       "      <td>1</td>\n",
       "      <td>Nico</td>\n",
       "      <td>Rosberg</td>\n",
       "      <td>German</td>\n",
       "    </tr>\n",
       "    <tr>\n",
       "      <td>2</td>\n",
       "      <td>Timo</td>\n",
       "      <td>Glock</td>\n",
       "      <td>German</td>\n",
       "    </tr>\n",
       "    <tr>\n",
       "      <td>3</td>\n",
       "      <td>Adrian</td>\n",
       "      <td>Sutil</td>\n",
       "      <td>German</td>\n",
       "    </tr>\n",
       "    <tr>\n",
       "      <td>4</td>\n",
       "      <td>Sebastian</td>\n",
       "      <td>Vettel</td>\n",
       "      <td>German</td>\n",
       "    </tr>\n",
       "  </tbody>\n",
       "</table>\n",
       "</div>"
      ],
      "text/plain": [
       "          name     surname nationality\n",
       "0        Nick    Heidfeld      German \n",
       "1        Nico     Rosberg      German \n",
       "2        Timo       Glock      German \n",
       "3      Adrian       Sutil      German \n",
       "4   Sebastian      Vettel      German "
      ]
     },
     "execution_count": 56,
     "metadata": {},
     "output_type": "execute_result"
    }
   ],
   "source": [
    "start4 = tm.time()\n",
    "query_res = graph_db.run(\"MATCH (d:drivers) WHERE d.nationality= '\\\"German\\\"' RETURN d.name, d.surname, d.nationality\").data()\n",
    "df = pd.DataFrame(query_res)\n",
    "df.columns = ('name', \"surname\", \"nationality\")\n",
    "df.head()\n",
    "df[\"name\"] = df[\"name\"].str.replace(r\"[\\\"]\",\" \") \n",
    "df[\"surname\"] = df[\"surname\"].str.replace(r\"[\\\"]\",\" \") \n",
    "df[\"nationality\"] = df[\"nationality\"].str.replace(r\"[\\\"]\",\" \") \n",
    "end4 = tm.time()\n",
    "df.sort_values('surname')\n",
    "df.head()"
   ]
  },
  {
   "cell_type": "markdown",
   "metadata": {},
   "source": [
    "Pour cette requête spécifique, nous pouvons aussi récuper le temps mis par chacun des deux SGBD pour nous renvoyer les mêmes données. "
   ]
  },
  {
   "cell_type": "code",
   "execution_count": 60,
   "metadata": {},
   "outputs": [],
   "source": [
    "orient_time = end3 - start3\n",
    "orient_time\n",
    "neo4j_time = end4 - start4\n",
    "orient_time"
   ]
  },
  {
   "cell_type": "markdown",
   "metadata": {},
   "source": [
    "**Comment on these times**"
   ]
  },
  {
   "cell_type": "markdown",
   "metadata": {},
   "source": [
    "  > #### b- Pilote les plus titrés de l'histoire top 7 "
   ]
  },
  {
   "cell_type": "markdown",
   "metadata": {},
   "source": [
    "D'après Wikipédia 213 pilotes de F1 sont déjà monté sur le podium des championnats du monde. Nous cherchons à travers la requête suivante quels  pilotes ont été les plus titrés. Pour cela nous basons notre classement sur le champ rank de la table Results. N'ayant aucune autre précision de la part du fournisseur du dataset, nous supposons qu'il s'agit du rang par course (à distinguer de position qui pour nous correspond aux positions de départ appelé dans le jargon de la F1 la \"Pole Position\"). Nous utilisons ici pour pyorient l'alternative de command() que constitue query() et limitons nos résultats au top 7. La commande SQL correspondante est assez intuitive. Nous utilisons les relations qui existent entre noeuds pour obtenir cette donnée.  "
   ]
  },
  {
   "cell_type": "code",
   "execution_count": 77,
   "metadata": {
    "collapsed": true,
    "jupyter": {
     "outputs_hidden": true
    }
   },
   "outputs": [
    {
     "ename": "timeout",
     "evalue": "timed out",
     "output_type": "error",
     "traceback": [
      "\u001b[0;31m---------------------------------------------------------------------------\u001b[0m",
      "\u001b[0;31mtimeout\u001b[0m                                   Traceback (most recent call last)",
      "\u001b[0;32m<ipython-input-77-f7c7099d42da>\u001b[0m in \u001b[0;36m<module>\u001b[0;34m\u001b[0m\n\u001b[0;32m----> 1\u001b[0;31m top7 = client.query(\"SELECT d.surname d.forename as forename,  as surname,, d.nationality as nationality, count(r) as nb_Title\" \n\u001b[0m\u001b[1;32m      2\u001b[0m                     \u001b[0;34m\"FROM (MATCH {class: Drivers, as: d}-d_results-{class: Results, as: r,WHERE :(rank=1)} Return d, r)\"\u001b[0m\u001b[0;34m\u001b[0m\u001b[0;34m\u001b[0m\u001b[0m\n\u001b[1;32m      3\u001b[0m                     \"GROUP BY d.forename ORDER BY nb_Title desc LIMIT 5\")\n\u001b[1;32m      4\u001b[0m \u001b[0mvalues_dict\u001b[0m \u001b[0;34m=\u001b[0m \u001b[0;34m[\u001b[0m\u001b[0;34m]\u001b[0m\u001b[0;34m\u001b[0m\u001b[0;34m\u001b[0m\u001b[0m\n\u001b[1;32m      5\u001b[0m \u001b[0mkeys_dict\u001b[0m \u001b[0;34m=\u001b[0m \u001b[0;34m[\u001b[0m\u001b[0;34m]\u001b[0m\u001b[0;34m\u001b[0m\u001b[0;34m\u001b[0m\u001b[0m\n",
      "\u001b[0;32m~/.local/lib/python3.7/site-packages/pyorient-1.5.5-py3.7.egg/pyorient/orient.py\u001b[0m in \u001b[0;36mquery\u001b[0;34m(self, *args)\u001b[0m\n\u001b[1;32m    469\u001b[0m     \u001b[0;32mdef\u001b[0m \u001b[0mquery\u001b[0m\u001b[0;34m(\u001b[0m\u001b[0mself\u001b[0m\u001b[0;34m,\u001b[0m \u001b[0;34m*\u001b[0m\u001b[0margs\u001b[0m\u001b[0;34m)\u001b[0m\u001b[0;34m:\u001b[0m\u001b[0;34m\u001b[0m\u001b[0;34m\u001b[0m\u001b[0m\n\u001b[1;32m    470\u001b[0m         \u001b[0;32mreturn\u001b[0m \u001b[0mself\u001b[0m\u001b[0;34m.\u001b[0m\u001b[0mget_message\u001b[0m\u001b[0;34m(\u001b[0m\u001b[0;34m\"CommandMessage\"\u001b[0m\u001b[0;34m)\u001b[0m\u001b[0;31m \u001b[0m\u001b[0;31m\\\u001b[0m\u001b[0;34m\u001b[0m\u001b[0;34m\u001b[0m\u001b[0m\n\u001b[0;32m--> 471\u001b[0;31m             \u001b[0;34m.\u001b[0m\u001b[0mprepare\u001b[0m\u001b[0;34m(\u001b[0m\u001b[0;34m(\u001b[0m \u001b[0mQUERY_SYNC\u001b[0m\u001b[0;34m,\u001b[0m \u001b[0;34m)\u001b[0m \u001b[0;34m+\u001b[0m \u001b[0margs\u001b[0m\u001b[0;34m)\u001b[0m\u001b[0;34m.\u001b[0m\u001b[0msend\u001b[0m\u001b[0;34m(\u001b[0m\u001b[0;34m)\u001b[0m\u001b[0;34m.\u001b[0m\u001b[0mfetch_response\u001b[0m\u001b[0;34m(\u001b[0m\u001b[0;34m)\u001b[0m\u001b[0;34m\u001b[0m\u001b[0;34m\u001b[0m\u001b[0m\n\u001b[0m\u001b[1;32m    472\u001b[0m \u001b[0;34m\u001b[0m\u001b[0m\n\u001b[1;32m    473\u001b[0m     \u001b[0;32mdef\u001b[0m \u001b[0mquery_async\u001b[0m\u001b[0;34m(\u001b[0m\u001b[0mself\u001b[0m\u001b[0;34m,\u001b[0m \u001b[0;34m*\u001b[0m\u001b[0margs\u001b[0m\u001b[0;34m)\u001b[0m\u001b[0;34m:\u001b[0m\u001b[0;34m\u001b[0m\u001b[0;34m\u001b[0m\u001b[0m\n",
      "\u001b[0;32m~/.local/lib/python3.7/site-packages/pyorient-1.5.5-py3.7.egg/pyorient/messages/commands.py\u001b[0m in \u001b[0;36mfetch_response\u001b[0;34m(self)\u001b[0m\n\u001b[1;32m    142\u001b[0m \u001b[0;34m\u001b[0m\u001b[0m\n\u001b[1;32m    143\u001b[0m         \u001b[0;31m# decode header only\u001b[0m\u001b[0;34m\u001b[0m\u001b[0;34m\u001b[0m\u001b[0;34m\u001b[0m\u001b[0m\n\u001b[0;32m--> 144\u001b[0;31m         \u001b[0msuper\u001b[0m\u001b[0;34m(\u001b[0m \u001b[0mCommandMessage\u001b[0m\u001b[0;34m,\u001b[0m \u001b[0mself\u001b[0m \u001b[0;34m)\u001b[0m\u001b[0;34m.\u001b[0m\u001b[0mfetch_response\u001b[0m\u001b[0;34m(\u001b[0m\u001b[0;34m)\u001b[0m\u001b[0;34m\u001b[0m\u001b[0;34m\u001b[0m\u001b[0m\n\u001b[0m\u001b[1;32m    145\u001b[0m \u001b[0;34m\u001b[0m\u001b[0m\n\u001b[1;32m    146\u001b[0m         \u001b[0;32mif\u001b[0m \u001b[0mself\u001b[0m\u001b[0;34m.\u001b[0m\u001b[0m_command_type\u001b[0m \u001b[0;34m==\u001b[0m \u001b[0mQUERY_ASYNC\u001b[0m\u001b[0;34m:\u001b[0m\u001b[0;34m\u001b[0m\u001b[0;34m\u001b[0m\u001b[0m\n",
      "\u001b[0;32m~/.local/lib/python3.7/site-packages/pyorient-1.5.5-py3.7.egg/pyorient/messages/base.py\u001b[0m in \u001b[0;36mfetch_response\u001b[0;34m(self, *_continue)\u001b[0m\n\u001b[1;32m    263\u001b[0m         \u001b[0;31m# already fetched, get last results as cache info\u001b[0m\u001b[0;34m\u001b[0m\u001b[0;34m\u001b[0m\u001b[0;34m\u001b[0m\u001b[0m\n\u001b[1;32m    264\u001b[0m         \u001b[0;32melif\u001b[0m \u001b[0mlen\u001b[0m\u001b[0;34m(\u001b[0m\u001b[0mself\u001b[0m\u001b[0;34m.\u001b[0m\u001b[0m_body\u001b[0m\u001b[0;34m)\u001b[0m \u001b[0;32mis\u001b[0m \u001b[0;36m0\u001b[0m\u001b[0;34m:\u001b[0m\u001b[0;34m\u001b[0m\u001b[0;34m\u001b[0m\u001b[0m\n\u001b[0;32m--> 265\u001b[0;31m             \u001b[0mself\u001b[0m\u001b[0;34m.\u001b[0m\u001b[0m_decode_all\u001b[0m\u001b[0;34m(\u001b[0m\u001b[0;34m)\u001b[0m\u001b[0;34m\u001b[0m\u001b[0;34m\u001b[0m\u001b[0m\n\u001b[0m\u001b[1;32m    266\u001b[0m             \u001b[0mself\u001b[0m\u001b[0;34m.\u001b[0m\u001b[0mdump_streams\u001b[0m\u001b[0;34m(\u001b[0m\u001b[0;34m)\u001b[0m\u001b[0;34m\u001b[0m\u001b[0;34m\u001b[0m\u001b[0m\n\u001b[1;32m    267\u001b[0m         \u001b[0;32mreturn\u001b[0m \u001b[0mself\u001b[0m\u001b[0;34m.\u001b[0m\u001b[0m_body\u001b[0m\u001b[0;34m\u001b[0m\u001b[0;34m\u001b[0m\u001b[0m\n",
      "\u001b[0;32m~/.local/lib/python3.7/site-packages/pyorient-1.5.5-py3.7.egg/pyorient/messages/base.py\u001b[0m in \u001b[0;36m_decode_all\u001b[0;34m(self)\u001b[0m\n\u001b[1;32m    247\u001b[0m \u001b[0;34m\u001b[0m\u001b[0m\n\u001b[1;32m    248\u001b[0m     \u001b[0;32mdef\u001b[0m \u001b[0m_decode_all\u001b[0m\u001b[0;34m(\u001b[0m\u001b[0mself\u001b[0m\u001b[0;34m)\u001b[0m\u001b[0;34m:\u001b[0m\u001b[0;34m\u001b[0m\u001b[0;34m\u001b[0m\u001b[0m\n\u001b[0;32m--> 249\u001b[0;31m         \u001b[0mself\u001b[0m\u001b[0;34m.\u001b[0m\u001b[0m_decode_header\u001b[0m\u001b[0;34m(\u001b[0m\u001b[0;34m)\u001b[0m\u001b[0;34m\u001b[0m\u001b[0;34m\u001b[0m\u001b[0m\n\u001b[0m\u001b[1;32m    250\u001b[0m         \u001b[0mself\u001b[0m\u001b[0;34m.\u001b[0m\u001b[0m_decode_body\u001b[0m\u001b[0;34m(\u001b[0m\u001b[0;34m)\u001b[0m\u001b[0;34m\u001b[0m\u001b[0;34m\u001b[0m\u001b[0m\n\u001b[1;32m    251\u001b[0m \u001b[0;34m\u001b[0m\u001b[0m\n",
      "\u001b[0;32m~/.local/lib/python3.7/site-packages/pyorient-1.5.5-py3.7.egg/pyorient/messages/base.py\u001b[0m in \u001b[0;36m_decode_header\u001b[0;34m(self)\u001b[0m\n\u001b[1;32m    232\u001b[0m         \u001b[0;32mif\u001b[0m \u001b[0;32mnot\u001b[0m \u001b[0misinstance\u001b[0m\u001b[0;34m(\u001b[0m\u001b[0mself\u001b[0m\u001b[0;34m,\u001b[0m \u001b[0;34m(\u001b[0m\u001b[0mConnectMessage\u001b[0m\u001b[0;34m,\u001b[0m \u001b[0mDbOpenMessage\u001b[0m\u001b[0;34m)\u001b[0m\u001b[0;34m)\u001b[0m\u001b[0;31m \u001b[0m\u001b[0;31m\\\u001b[0m\u001b[0;34m\u001b[0m\u001b[0;34m\u001b[0m\u001b[0m\n\u001b[1;32m    233\u001b[0m                 \u001b[0;32mand\u001b[0m \u001b[0mself\u001b[0m\u001b[0;34m.\u001b[0m\u001b[0m_request_token\u001b[0m \u001b[0;32mis\u001b[0m \u001b[0;32mTrue\u001b[0m\u001b[0;34m:\u001b[0m\u001b[0;34m\u001b[0m\u001b[0;34m\u001b[0m\u001b[0m\n\u001b[0;32m--> 234\u001b[0;31m             \u001b[0mtoken_refresh\u001b[0m \u001b[0;34m=\u001b[0m \u001b[0mself\u001b[0m\u001b[0;34m.\u001b[0m\u001b[0m_decode_field\u001b[0m\u001b[0;34m(\u001b[0m\u001b[0mFIELD_STRING\u001b[0m\u001b[0;34m)\u001b[0m\u001b[0;34m\u001b[0m\u001b[0;34m\u001b[0m\u001b[0m\n\u001b[0m\u001b[1;32m    235\u001b[0m             \u001b[0;32mif\u001b[0m \u001b[0mtoken_refresh\u001b[0m \u001b[0;34m!=\u001b[0m \u001b[0;34mb''\u001b[0m\u001b[0;34m:\u001b[0m\u001b[0;34m\u001b[0m\u001b[0;34m\u001b[0m\u001b[0m\n\u001b[1;32m    236\u001b[0m                 \u001b[0mself\u001b[0m\u001b[0;34m.\u001b[0m\u001b[0m_auth_token\u001b[0m \u001b[0;34m=\u001b[0m \u001b[0mtoken_refresh\u001b[0m\u001b[0;34m\u001b[0m\u001b[0;34m\u001b[0m\u001b[0m\n",
      "\u001b[0;32m~/.local/lib/python3.7/site-packages/pyorient-1.5.5-py3.7.egg/pyorient/messages/base.py\u001b[0m in \u001b[0;36m_decode_field\u001b[0;34m(self, _type)\u001b[0m\n\u001b[1;32m    364\u001b[0m                 \u001b[0m_decoded_string\u001b[0m \u001b[0;34m=\u001b[0m \u001b[0;34mb''\u001b[0m\u001b[0;34m\u001b[0m\u001b[0;34m\u001b[0m\u001b[0m\n\u001b[1;32m    365\u001b[0m             \u001b[0;32melse\u001b[0m\u001b[0;34m:\u001b[0m\u001b[0;34m\u001b[0m\u001b[0;34m\u001b[0m\u001b[0m\n\u001b[0;32m--> 366\u001b[0;31m                 \u001b[0m_decoded_string\u001b[0m \u001b[0;34m=\u001b[0m \u001b[0mself\u001b[0m\u001b[0;34m.\u001b[0m\u001b[0m_orientSocket\u001b[0m\u001b[0;34m.\u001b[0m\u001b[0mread\u001b[0m\u001b[0;34m(\u001b[0m \u001b[0m_len\u001b[0m \u001b[0;34m)\u001b[0m\u001b[0;34m\u001b[0m\u001b[0;34m\u001b[0m\u001b[0m\n\u001b[0m\u001b[1;32m    367\u001b[0m \u001b[0;34m\u001b[0m\u001b[0m\n\u001b[1;32m    368\u001b[0m             \u001b[0mself\u001b[0m\u001b[0;34m.\u001b[0m\u001b[0m_input_buffer\u001b[0m \u001b[0;34m+=\u001b[0m \u001b[0m_value\u001b[0m\u001b[0;34m\u001b[0m\u001b[0;34m\u001b[0m\u001b[0m\n",
      "\u001b[0;32m~/.local/lib/python3.7/site-packages/pyorient-1.5.5-py3.7.egg/pyorient/orient.py\u001b[0m in \u001b[0;36mread\u001b[0;34m(self, _len_to_read)\u001b[0m\n\u001b[1;32m    166\u001b[0m                 \u001b[0mview\u001b[0m \u001b[0;34m=\u001b[0m \u001b[0mmemoryview\u001b[0m\u001b[0;34m(\u001b[0m\u001b[0mbuf\u001b[0m\u001b[0;34m)\u001b[0m\u001b[0;34m\u001b[0m\u001b[0;34m\u001b[0m\u001b[0m\n\u001b[1;32m    167\u001b[0m                 \u001b[0;32mwhile\u001b[0m \u001b[0m_len_to_read\u001b[0m\u001b[0;34m:\u001b[0m\u001b[0;34m\u001b[0m\u001b[0;34m\u001b[0m\u001b[0m\n\u001b[0;32m--> 168\u001b[0;31m                     \u001b[0mn_bytes\u001b[0m \u001b[0;34m=\u001b[0m \u001b[0mself\u001b[0m\u001b[0;34m.\u001b[0m\u001b[0m_socket\u001b[0m\u001b[0;34m.\u001b[0m\u001b[0mrecv_into\u001b[0m\u001b[0;34m(\u001b[0m\u001b[0mview\u001b[0m\u001b[0;34m,\u001b[0m \u001b[0m_len_to_read\u001b[0m\u001b[0;34m)\u001b[0m\u001b[0;34m\u001b[0m\u001b[0;34m\u001b[0m\u001b[0m\n\u001b[0m\u001b[1;32m    169\u001b[0m                     \u001b[0;32mif\u001b[0m \u001b[0;32mnot\u001b[0m \u001b[0mn_bytes\u001b[0m\u001b[0;34m:\u001b[0m\u001b[0;34m\u001b[0m\u001b[0;34m\u001b[0m\u001b[0m\n\u001b[1;32m    170\u001b[0m                         \u001b[0mself\u001b[0m\u001b[0;34m.\u001b[0m\u001b[0m_socket\u001b[0m\u001b[0;34m.\u001b[0m\u001b[0mclose\u001b[0m\u001b[0;34m(\u001b[0m\u001b[0;34m)\u001b[0m\u001b[0;34m\u001b[0m\u001b[0;34m\u001b[0m\u001b[0m\n",
      "\u001b[0;31mtimeout\u001b[0m: timed out"
     ]
    }
   ],
   "source": [
    "top7 = client.query(\"SELECT d.surname d.forename as forename,  as surname,, d.nationality as nationality, count(r) as nb_Title\" \n",
    "                    \"FROM (MATCH {class: Drivers, as: d}-d_results-{class: Results, as: r,WHERE :(rank=1)} Return d, r)\" \n",
    "                    \"GROUP BY d.forename ORDER BY nb_Title desc LIMIT 7\")\n",
    "values_dict = []\n",
    "keys_dict = []\n",
    "pilots_list = []\n",
    "\n",
    "for i in range(len(top7)):\n",
    "    pilots_list.append(top7[i].__dict__)\n",
    "    values_dict.append(list(pilots_list[i][\"_OrientRecord__o_storage\"].values()))\n",
    "    df = pd.DataFrame(values_dict)\n",
    "    \n",
    "keys_dict = list(pilots_list[2][\"_OrientRecord__o_storage\"].keys())\n",
    "df.columns = keys_dict\n",
    "end2 = tm.time()\n",
    "df.head()"
   ]
  },
  {
   "cell_type": "markdown",
   "metadata": {},
   "source": [
    "La commande équivalente avec py2neo est tout aussi intuitive. Elle est aussi surtout \"bavarde\" et se limite à de simples liaisons. Aussi pour une raison qui nous échappe encore. En n'utilisant que la commande graph.run() pour py2neo une sorte de dataframe tabulée nous est retournée et elle limite la sortie à trois individus même si cette sortie reste très intéressante car déjà formatée visuellement. "
   ]
  },
  {
   "cell_type": "code",
   "execution_count": 28,
   "metadata": {},
   "outputs": [
    {
     "data": {
      "text/plain": [
       " name        | surname     | nationality | nb_Title \n",
       "-------------|-------------|-------------|----------\n",
       " \"Lewis\"     | \"Hamilton\"  | \"British\"   |       52 \n",
       " \"Kimi\"      | \"Räikkönen\" | \"Finnish\"   |       43 \n",
       " \"Sebastian\" | \"Vettel\"    | \"German\"    |       37 "
      ]
     },
     "execution_count": 28,
     "metadata": {},
     "output_type": "execute_result"
    }
   ],
   "source": [
    "graph_db.run(\"Match (p:drivers)-[:`d_results`]-(res:Result {rank:'1'}) Return p.name as name,p.surname as surname\" \n",
    "             \",p.nationality as nationality, count(res) as nb_Title ORDER BY nb_Title desc LIMIT 7\")"
   ]
  },
  {
   "cell_type": "markdown",
   "metadata": {},
   "source": [
    "En mettant ce résultat dans une liste nous arrivons à receuillir comme avec pyorient les 7 meilleur au championnat du monde. Nous choissisons de ne pas formatter cette sortie. "
   ]
  },
  {
   "cell_type": "code",
   "execution_count": 31,
   "metadata": {},
   "outputs": [
    {
     "data": {
      "text/plain": [
       "[Record({'name': '\"Lewis\"', 'surname': '\"Hamilton\"', 'nationality': '\"British\"', 'nb_Title': 52}),\n",
       " Record({'name': '\"Kimi\"', 'surname': '\"Räikkönen\"', 'nationality': '\"Finnish\"', 'nb_Title': 43}),\n",
       " Record({'name': '\"Sebastian\"', 'surname': '\"Vettel\"', 'nationality': '\"German\"', 'nb_Title': 37}),\n",
       " Record({'name': '\"Fernando\"', 'surname': '\"Alonso\"', 'nationality': '\"Spanish\"', 'nb_Title': 22}),\n",
       " Record({'name': '\"Michael\"', 'surname': '\"Schumacher\"', 'nationality': '\"German\"', 'nb_Title': 21}),\n",
       " Record({'name': '\"Nico\"', 'surname': '\"Rosberg\"', 'nationality': '\"German\"', 'nb_Title': 20}),\n",
       " Record({'name': '\"Mark\"', 'surname': '\"Webber\"', 'nationality': '\"Australian\"', 'nb_Title': 19})]"
      ]
     },
     "execution_count": 31,
     "metadata": {},
     "output_type": "execute_result"
    }
   ],
   "source": [
    "list(graph_db.run(\"Match (p:drivers)-[:`d_results`]-(res:Result {rank:'1'}) Return p.name as name,p.surname as surname\" \n",
    "             \",p.nationality as nationality, count(res) as nb_Title ORDER BY nb_Title desc LIMIT 7\"))"
   ]
  },
  {
   "cell_type": "markdown",
   "metadata": {},
   "source": [
    "Nous représentons ici graphqiue avec seaborn cette sortie et constatons la présence des pilotes européens et surtout allemands dans les hautes sphères. "
   ]
  },
  {
   "cell_type": "code",
   "execution_count": 133,
   "metadata": {},
   "outputs": [
    {
     "data": {
      "text/html": [
       "\n",
       "<style>\n",
       ".output {\n",
       "    display: flex;\n",
       "    align-items: center;\n",
       "    text-align: center;\n",
       "}\n",
       "</style>\n"
      ],
      "text/plain": [
       "<IPython.core.display.HTML object>"
      ]
     },
     "metadata": {},
     "output_type": "display_data"
    },
    {
     "data": {
      "image/png": "[encoded data removed]",
      "text/plain": [
       "<Figure size 432x288 with 1 Axes>"
      ]
     },
     "metadata": {
      "needs_background": "light"
     },
     "output_type": "display_data"
    }
   ],
   "source": [
    "sns.barplot(x=\"surname\", y=\"nb_Title\", hue=\"nationality\", data=df)\n",
    "from IPython.core.display import HTML as Center\n",
    "init_notebook_mode(connected=True)\n",
    "\n",
    "display(HTML(\"\"\"\n",
    "<style>\n",
    ".output {\n",
    "    display: flex;\n",
    "    align-items: center;\n",
    "    text-align: center;\n",
    "}\n",
    "</style>\n",
    "\"\"\"))"
   ]
  },
  {
   "cell_type": "markdown",
   "metadata": {},
   "source": [
    "  > #### c- Classement historique des écuries"
   ]
  },
  {
   "cell_type": "markdown",
   "metadata": {},
   "source": [
    "Les pilotes ne roulent cependant pas tous seuls. Ils sont employés par des écuries qui mettent leur ingéniosité à la construction de leurs bolides. Il nous a paru donc logique de nous intéresser à l'évolution des classements des écuries sachant par contre qu'il existe un gap assez important entre les écuries historiques comme l'italien Ferrari, le britannique McLaren et l'allemand Mercedes qui font rouler des pilotes de qualité depuis plus d'un demi-siécle. \n",
    "Afin d'extraire cette information nous utilisons de nouveau des commandes simples empruntés de SQL avec un schéma de la sorte : Select -> Count -> Match -> relationship -> Group By -> Order By. De simples commandes python suffisent par la suite à créer le dataframe avec le nombre de victoires par année pour chaque écurie"
   ]
  },
  {
   "cell_type": "code",
   "execution_count": 90,
   "metadata": {},
   "outputs": [
    {
     "data": {
      "text/html": [
       "<div>\n",
       "<style scoped>\n",
       "    .dataframe tbody tr th:only-of-type {\n",
       "        vertical-align: middle;\n",
       "    }\n",
       "\n",
       "    .dataframe tbody tr th {\n",
       "        vertical-align: top;\n",
       "    }\n",
       "\n",
       "    .dataframe thead th {\n",
       "        text-align: right;\n",
       "    }\n",
       "</style>\n",
       "<table border=\"1\" class=\"dataframe\">\n",
       "  <thead>\n",
       "    <tr style=\"text-align: right;\">\n",
       "      <th></th>\n",
       "      <th>name</th>\n",
       "      <th>year</th>\n",
       "      <th>nb_victories</th>\n",
       "    </tr>\n",
       "  </thead>\n",
       "  <tbody>\n",
       "    <tr>\n",
       "      <td>0</td>\n",
       "      <td>BMW Sauber</td>\n",
       "      <td>2008</td>\n",
       "      <td>2</td>\n",
       "    </tr>\n",
       "    <tr>\n",
       "      <td>1</td>\n",
       "      <td>Renault</td>\n",
       "      <td>2009</td>\n",
       "      <td>2</td>\n",
       "    </tr>\n",
       "    <tr>\n",
       "      <td>2</td>\n",
       "      <td>Renault</td>\n",
       "      <td>2005</td>\n",
       "      <td>3</td>\n",
       "    </tr>\n",
       "    <tr>\n",
       "      <td>3</td>\n",
       "      <td>Renault</td>\n",
       "      <td>2006</td>\n",
       "      <td>5</td>\n",
       "    </tr>\n",
       "    <tr>\n",
       "      <td>4</td>\n",
       "      <td>Mercedes</td>\n",
       "      <td>2016</td>\n",
       "      <td>9</td>\n",
       "    </tr>\n",
       "    <tr>\n",
       "      <td>...</td>\n",
       "      <td>...</td>\n",
       "      <td>...</td>\n",
       "      <td>...</td>\n",
       "    </tr>\n",
       "    <tr>\n",
       "      <td>69</td>\n",
       "      <td>Sauber</td>\n",
       "      <td>2012</td>\n",
       "      <td>2</td>\n",
       "    </tr>\n",
       "    <tr>\n",
       "      <td>70</td>\n",
       "      <td>McLaren</td>\n",
       "      <td>2010</td>\n",
       "      <td>6</td>\n",
       "    </tr>\n",
       "    <tr>\n",
       "      <td>71</td>\n",
       "      <td>Ferrari</td>\n",
       "      <td>2007</td>\n",
       "      <td>12</td>\n",
       "    </tr>\n",
       "    <tr>\n",
       "      <td>72</td>\n",
       "      <td>Ferrari</td>\n",
       "      <td>2008</td>\n",
       "      <td>13</td>\n",
       "    </tr>\n",
       "    <tr>\n",
       "      <td>73</td>\n",
       "      <td>Ferrari</td>\n",
       "      <td>2009</td>\n",
       "      <td>1</td>\n",
       "    </tr>\n",
       "  </tbody>\n",
       "</table>\n",
       "<p>74 rows × 3 columns</p>\n",
       "</div>"
      ],
      "text/plain": [
       "          name  year  nb_victories\n",
       "0   BMW Sauber  2008             2\n",
       "1      Renault  2009             2\n",
       "2      Renault  2005             3\n",
       "3      Renault  2006             5\n",
       "4     Mercedes  2016             9\n",
       "..         ...   ...           ...\n",
       "69      Sauber  2012             2\n",
       "70     McLaren  2010             6\n",
       "71     Ferrari  2007            12\n",
       "72     Ferrari  2008            13\n",
       "73     Ferrari  2009             1\n",
       "\n",
       "[74 rows x 3 columns]"
      ]
     },
     "execution_count": 90,
     "metadata": {},
     "output_type": "execute_result"
    }
   ],
   "source": [
    "cons_res = client.command(\"SELECT co.cons_name as name, ra.year as year, count(r) as nb_victories FROM\" \n",
    "\t\"(MATCH {class: Races, as: ra}<-results_of-{class: Results, as: r, WHERE : (rank=1)}<-c_results-{class: Constructors, as: co}\"\n",
    "      \"Return co,ra, r) GROUP BY co.cons_name, ra.year ORDER BY ra.year desc\")\n",
    "values_dict = []\n",
    "keys_dict = []\n",
    "pilots_list = []\n",
    "\n",
    "for i in range(len(cons_res)):\n",
    "    pilots_list.append(cons_res[i].__dict__)\n",
    "    values_dict.append(list(pilots_list[i][\"_OrientRecord__o_storage\"].values()))\n",
    "    df = pd.DataFrame(values_dict)\n",
    "    \n",
    "keys_dict = list(pilots_list[2][\"_OrientRecord__o_storage\"].keys())\n",
    "df.columns = keys_dict\n",
    "end2 = tm.time()\n",
    "df.sort_values('nb_victories')\n",
    "df"
   ]
  },
  {
   "cell_type": "markdown",
   "metadata": {},
   "source": [
    "La même logique est utilisée dans Neo4J sans la commande Select. "
   ]
  },
  {
   "cell_type": "code",
   "execution_count": 148,
   "metadata": {},
   "outputs": [
    {
     "data": {
      "text/plain": [
       " name       | year | nb_victories \n",
       "------------|------|--------------\n",
       " \"Ferrari\"  | 2004 |           14 \n",
       " \"Ferrari\"  | 2008 |           13 \n",
       " \"Mercedes\" | 2015 |           13 "
      ]
     },
     "execution_count": 148,
     "metadata": {},
     "output_type": "execute_result"
    }
   ],
   "source": [
    "graph_db.run(\"Match (c:Constructor)-[:`c_results`]-(res:Result {rank:'1'}),\" \n",
    "                \"(res:Result {rank:'1'})-[:`results_if`]-(r:Race)\" \n",
    "                \"Return c.name as name , r.year as year ,count(res) as nb_victories ORDER BY nb_victories desc\") "
   ]
  },
  {
   "cell_type": "markdown",
   "metadata": {},
   "source": [
    "Afin de valoriser ces données nous optons pour une visualisation de séries temporelles qui prend de plus en plus de l'importance en data sciences : les race bar chart. "
   ]
  },
  {
   "cell_type": "markdown",
   "metadata": {},
   "source": [
    "#### XXXXXX faire ce foutu graph ici XXXXX"
   ]
  },
  {
   "cell_type": "markdown",
   "metadata": {},
   "source": [
    "Comment race bar chart "
   ]
  },
  {
   "cell_type": "markdown",
   "metadata": {},
   "source": [
    "  > #### d- Shortest paths - visualisation réseau "
   ]
  },
  {
   "cell_type": "markdown",
   "metadata": {},
   "source": [
    "Que serait ce travail sur des SGBD orientés graphes sans la recherche chemins le plus rapide ? Cette fonctionalité a permis le passage à l'échelle de ces technologies dans des domaines comme la biologie où les bioinformaticiens cherchent les voies de régulations de certains procédés métaboliques complexes (comme la néoglucogenèse). Dans notre exemple nous cherchons nous le chemin le plus cours entre l'écurie Mercedes et le circuit turc Istanbul Park. \n",
    "Malheursement les développeurs des drivers pyorient et py2neo n'ont pas ajouté de fonctionalités permettant de représenter directement sur Python les graphes disponible dans les desktops d'Orientdb et de Neo4J. Aussi, même la requête de type graphe ne semble pas être pris en charge d'après nos recherches. Si cela avait été le cas, nous aurions utilisé la librarie [networkx](https://networkx.org/documentation/stable/tutorial.html) pour représenter des réseau interactives. \n",
    "À défaut de vous proposer des graphes interactives de nos chemins les plus courts, nous vous proposer des captures d'écran de nos desktop correspondant aux résultats de nos requêtes.<br>\n",
    "\n",
    "Sur orientdb la fonction shortestPath retourne facilement le chemin le plus court entre deux noeuds."
   ]
  },
  {
   "cell_type": "code",
   "execution_count": 1,
   "metadata": {},
   "outputs": [],
   "source": [
    "%%script false --no-raise-error # commande pour ne pas exécuter cette ligne de code \n",
    "client.command(\"SELECT expand(path) FROM (SELECT shortestPath((SELECT FROM Constructors WHERE cons_name='Mercedes'), \n",
    "                                             \"(SELECT FROM Circuits WHERE name='Istanbul Park')) AS path \n",
    "                                              \"UNWIND path\"\n",
    "                                             )"
   ]
  },
  {
   "cell_type": "markdown",
   "metadata": {},
   "source": [
    "Nous vous proposons de plus ici une alternative à la fonction Select pour désigner les noeuds de départ et d'arrivée. Il s'agit d'utiliser littéralement les \"built-in id\" d'OrientDB appelés les @rid pour \"record id\". Ainsi chaque donnée ayant un id spécifique créée par le SGBD lui même vous pourrez, si votre but de réduire le vocabulaire de vos requêtes, les passer à vos fonctions. Vous aurez le même résultat. La figure 6 montre le chemin le plus court entre Mercedes et Istanbul Park avec 2 noeuds intermédiaires.  "
   ]
  },
  {
   "cell_type": "code",
   "execution_count": 144,
   "metadata": {},
   "outputs": [],
   "source": [
    "%%script false --no-raise-error\n",
    "client.command(\"SELECT expand(path) FROM(SELECT shortestPath(#23:20, #26:17) AS path UNWIND path\");"
   ]
  },
  {
   "cell_type": "markdown",
   "metadata": {},
   "source": [
    "<img src=\"sp_odb.png\" width=\"1100\" height=\"400\">"
   ]
  },
  {
   "cell_type": "markdown",
   "metadata": {},
   "source": [
    "<center> Figure 6 : Capture d'écran du chemin le plus court Mercedes-Istanbul Park avec OrientDB Studio  </center> "
   ]
  },
  {
   "cell_type": "markdown",
   "metadata": {},
   "source": [
    "La même commande sur Neo4J nécessite beaucoup moins de code et semble un peu plus comprehensible pour un non initié. Le résultat présenté figure 7 est le même que celui obtenu avec orientdb. "
   ]
  },
  {
   "cell_type": "code",
   "execution_count": 134,
   "metadata": {},
   "outputs": [
    {
     "data": {
      "text/plain": []
     },
     "execution_count": 134,
     "metadata": {},
     "output_type": "execute_result"
    }
   ],
   "source": [
    "graph_db.run(\"EXPLAIN MATCH (e:Constructor {name:'Mercedes'}), (c:Circuit {name:'Istanbul Park'}), p=shortestpath((e)-[*]-(c)) Return p\")"
   ]
  },
  {
   "cell_type": "markdown",
   "metadata": {},
   "source": [
    "<img src=\"sp_neo4J.png\" width=\"1100\" height=\"400\">"
   ]
  },
  {
   "cell_type": "markdown",
   "metadata": {},
   "source": [
    "<center> Figure 7 : Capture d'écran du chemin le plus court Mercedes-Istanbul Park avec Neo4J Studio  </center> "
   ]
  },
  {
   "cell_type": "markdown",
   "metadata": {},
   "source": [
    "## 3. <u>**Conclusion sur la comparaison et Limites de notre approche**<u> "
   ]
  },
  {
   "cell_type": "markdown",
   "metadata": {},
   "source": [
    "a- Comparaison sur des points précis  "
   ]
  },
  {
   "cell_type": "markdown",
   "metadata": {},
   "source": [
    "Nous l'avons vu dans la seconde partie de ce rapport; ces deux systèmes de gestion de base de données sont semblables à bien des égards. Ceci dans la logique de création de bases de données en définissant d'abord les noeuds puis les relations qui les lient mais aussi dans la construction des requêtes. Ce qui semble normal vu qu'ils utilisent tous deux la théorie du stockage de données dans des objets de types graphes avec une programmation totalement orientée objets. Dès lors nous avons, afin d'enrichir cette comparaison, identifié 5 points qui pour nous sont pertinents pour des SGBD devant gérer des données massives. Il s'agit : \n",
    "- du temps de calcul (pour créer entièrement la base de donnée et retourner les résultats des requêtes);\n",
    "- de l'utilisation du mémoire ordinateur;\n",
    "- de l'intuitivité;\n",
    "- de la disponibilité des aides et de la communauté;\n",
    "- des outils spécifiques permettant à un SGBD de gérer des données massives; \n",
    "\n",
    "Dans cette partie de notre rapport nous veillons aussi de mettre en commun les expériences que chacun des deux étudiants ayant travaillé sur l'un ou l'autre SGBD. Il s'agit donc au delà des chiffres plus d'une synthèse de ce que nous avons expérimenté. "
   ]
  },
  {
   "cell_type": "markdown",
   "metadata": {},
   "source": [
    "#### - Temps de calcul "
   ]
  },
  {
   "cell_type": "markdown",
   "metadata": {
    "jupyter": {
     "outputs_hidden": true
    }
   },
   "source": [
    "Comme l'ont montré les chiffres de temps dee création de base de données, Neo4j plus puissant pour prendre en considération tous les deux et les lier entre avec des relations. Pyorient a effet souffert pour créer les relations impliquant la table Results (très lourde) ceci même en utilisant du Batch. Cependant comme nous l'avons vu dans la fin de la partie 2.b pyorient n'a pas réellement pour vocation de créer une base de donnée à partir de données partagées dans des tables csv. L'équipe de développement préconise surtout de l'ETL qui pour nous se fait en quelques seconds à partir de l'invite de commande. Nous ne recommendons donc pas d'utiliser pyorient pour créer votre bae de donnée mais plutôt de l'ETL. Neo4j propose aussi dans son desktop de faire de l'ETL mais aussi d'utiliser des \"bulk insert\" qui sont des équivalents du Batch sur OrientDB. \n",
    "Quoi qu'il en soit pour nous py2neo a sur ce point de la vitesse et du temps de calcul plus intéressant. Concernant les délais de retour des requêtes, nous préferrons ne pas nous avancer sur des conclusions au vu de la simplificité des tâches que nous demandions aux deux SGBD. Il faudrait en effet pour cela des requêtes qui demandent plus de travail aux SGBD et qui ne prennent pas en moyenne 0.2s. "
   ]
  },
  {
   "cell_type": "markdown",
   "metadata": {},
   "source": [
    "- Comparaison sur l'utilisation de la mémoire ordinateur "
   ]
  },
  {
   "cell_type": "markdown",
   "metadata": {},
   "source": [
    "Concernant l'utilisation de la mémoire ordinateur, il semblerait que les deux SGBD soient tout aussi semblables. Cependant, nous souhaitons aussi relativiser ce résultat sachant que la gestion de la mémoire par neo4j calculée a pu être altérée par celle d'orientdb. Cependant, nos [recherches](https://www.arangodb.com/2018/02/nosql-performance-benchmark-2018-mongodb-postgresql-orientdb-neo4j-arangodb/#Memory) ont montré qu'OrientDB est beaucoup plus performant que Neo4j sur ce point.  "
   ]
  },
  {
   "cell_type": "code",
   "execution_count": 51,
   "metadata": {
    "collapsed": true,
    "jupyter": {
     "outputs_hidden": true
    }
   },
   "outputs": [
    {
     "ename": "NameError",
     "evalue": "name 'memory_use_orientdb' is not defined",
     "output_type": "error",
     "traceback": [
      "\u001b[0;31m---------------------------------------------------------------------------\u001b[0m",
      "\u001b[0;31mNameError\u001b[0m                                 Traceback (most recent call last)",
      "\u001b[0;32m<ipython-input-51-2959bf9600f0>\u001b[0m in \u001b[0;36m<module>\u001b[0;34m\u001b[0m\n\u001b[0;32m----> 1\u001b[0;31m \u001b[0mmemory_use_orientdb\u001b[0m\u001b[0;34m\u001b[0m\u001b[0;34m\u001b[0m\u001b[0m\n\u001b[0m",
      "\u001b[0;31mNameError\u001b[0m: name 'memory_use_orientdb' is not defined"
     ]
    }
   ],
   "source": [
    "memory_use_orientdb"
   ]
  },
  {
   "cell_type": "code",
   "execution_count": 50,
   "metadata": {
    "collapsed": true,
    "jupyter": {
     "outputs_hidden": true
    }
   },
   "outputs": [
    {
     "ename": "NameError",
     "evalue": "name 'memory_use_neo4j' is not defined",
     "output_type": "error",
     "traceback": [
      "\u001b[0;31m---------------------------------------------------------------------------\u001b[0m",
      "\u001b[0;31mNameError\u001b[0m                                 Traceback (most recent call last)",
      "\u001b[0;32m<ipython-input-50-b6d8a88ecd66>\u001b[0m in \u001b[0;36m<module>\u001b[0;34m\u001b[0m\n\u001b[0;32m----> 1\u001b[0;31m \u001b[0mmemory_use_neo4j\u001b[0m\u001b[0;34m\u001b[0m\u001b[0;34m\u001b[0m\u001b[0m\n\u001b[0m",
      "\u001b[0;31mNameError\u001b[0m: name 'memory_use_neo4j' is not defined"
     ]
    }
   ],
   "source": [
    "memory_use_neo4j"
   ]
  },
  {
   "cell_type": "markdown",
   "metadata": {},
   "source": [
    "- Intuitivité // Facilité de la prise en main "
   ]
  },
  {
   "cell_type": "markdown",
   "metadata": {},
   "source": [
    "Ce point est extrêmement important pour nous qui sommes pour la plupart issus de cursus autres que l'informatique pur. De fait, un SGBD doit pouvoir nous permettre de maniière assez et efficace de créer, lire et requêter une base de donnée sans pour autant avoir à appréhender certaines concepts mathématiques complexes sous-tendent l'informatique. Pour nous ces deux SGBD ont réussi ce pari. Que cela soit pour l'utilisation d'objets géométriques de types graphes ou la prise en main des versions Desktop (studios) qui sont tous les deux user-friendly. Néanmoins, notre expérience de Neo4j avec py2neo a été plus agréable. Malgré qu'Orientdb soit très puissant il est nécessaire pour certains tâches de s'y prendre à plusieurs reprises pour en comprendre réellement le sens et ne plus faire certaines erreurs. "
   ]
  },
  {
   "cell_type": "markdown",
   "metadata": {},
   "source": [
    "- Communauté // Aide en ligne // Accessibilité de la documentation "
   ]
  },
  {
   "cell_type": "markdown",
   "metadata": {},
   "source": [
    "Nous pensons aussi en tant qu'apprentis data scientists il est très important de pouvoir avoir l'aide quand on rencontre certaines erreurs. Lors de ces situations notre premier réflexe est sans nul doute de copier l'erreur directement dans Google et de nous retrouver sur Stackoverflow ou sur la partie \"issues\" du github de la technologie avec laquelle nous travaillons. Et sur ce point Neo4j remporte la compétition haut la main. La communauté Neo4j est extrêmement active et coopérative. Elle est sûrement à l'origine du succés de cette technologie. La figure suivante présente de le nombre de questions des tags [orientdb](https://stackoverflow.com/questions/tagged/orientdb) et [neo4j](https://stackoverflow.com/questions/tagged/neo4j) sur stackoverflow ainsi que le nombre de répertoires github impliquant les SGBD."
   ]
  },
  {
   "cell_type": "code",
   "execution_count": 49,
   "metadata": {},
   "outputs": [
    {
     "data": {
      "image/png": "[encoded data removed]",
      "text/plain": [
       "<Figure size 432x288 with 1 Axes>"
      ]
     },
     "metadata": {
      "needs_background": "light"
     },
     "output_type": "display_data"
    }
   ],
   "source": [
    "from matplotlib import pyplot as plt\n",
    "sof_orientdb = 2667\n",
    "sof_neo4j = 20053\n",
    "rep_orientdb = 947\n",
    "rep_neo4j = 11464\n",
    "# sof pour stackoverflow et rep comme répertoire sur github\n",
    "x = [\"sof_orientdb\", \"sof_neo4j\", \"rep_orientdb\", \"rep_neo4j\"]\n",
    "y = [2667, 20053, 947, 11464]\n",
    "\n",
    "bars = plt.bar(x, y)\n",
    "bars[0].set_color('orange')\n",
    "bars[2].set_color('orange')\n",
    "plt.xlabel('technologie')\n",
    "plt.ylabel('Count')\n",
    "plt.title('Popularité Orientdb VS Neo4J')\n",
    "plt.show()"
   ]
  },
  {
   "cell_type": "markdown",
   "metadata": {},
   "source": [
    "La popularité de Neo4j est sans conteste. D'autant plus, les deux technologies ont toutes deux été lancées début 2010. Nos interrogations par rapport à OrientDB ont eu plus de mal a trouvé réponses et nous avons rencontré quelques difficultés pour la prise en main. Cependant, passé cette première étape et à l'aide de nos bases en SQL nous arrivons très facilement à nous débrouiller avec la technologie. La documentation d'OrientDB est aussi très compléte et montre grâce à des exemples simples l'implémentation de toutes les fonctionnalités proposées.  "
   ]
  },
  {
   "cell_type": "markdown",
   "metadata": {},
   "source": [
    "- Big data tools  Mapreduce toussa toussa"
   ]
  },
  {
   "cell_type": "markdown",
   "metadata": {},
   "source": [
    "Les données massives étant l'objet de ce cours, nous souhaitons consacré cette dernière partie aux fonctionnalités proposées par chacun des deux SGBD pour les manipuler. \n",
    "Grâce à leur structure en graph les deux techologies gérent assez bien d'importantes quantités de données et leur visualisation rapide. OrientDB donne la possibilité d'utiliser une fonctionalité en architecture distribuée appelée Sharding (partitionnement direct en français). Il s'agit d'une méthode de morcelement d'une classe de données sur plusieurs noeuds appelés **shards**. Et contrairement à une simple réplication, la classe possède son cluster par défaut sur un des noeuds qui est le seul point d'entrée pour traiter les données de ladite classe. Les manipulations se font dans le périmètre de ce cluster puis les réplicats sont mis à jour. Chaque cluster dans ce ca être attribué à un ou plusieurs serveurs. Ceci permet d'utiliser toute la puissance de l'architecture distribué du SGBD. OrientDB supporte aussi le MapReduce sans usage de Hadoop qui plus est. Ici des requêtes SQL simples et verbalement parlant sont utilisés. Cette technique est utilisée lorsque plusieurs clusters ou shards sont impliqués dans une requête. Orientdb exécute la requête dans tous les clusters (shards) impliqués, il s'agit de l'étape MAP puis regroupe tous les résultats, c'est le REDUCE. Notre jeu de données ne se prétant pas à cette opération nous vous renvoyons vers la documentation d'OrientDB pour un exemple d'application [ici](https://orientdb.com/docs/2.2.x/Distributed-Sharding.html#mapreduce). Neo4j ne propose pas de méthodes de MapReduce. Même si il est possible de contourner cette limitation en  utilisant Hadoop comme orchestrateur. "
   ]
  },
  {
   "cell_type": "markdown",
   "metadata": {},
   "source": [
    "- En résumé "
   ]
  },
  {
   "cell_type": "markdown",
   "metadata": {},
   "source": [
    "Tableau comparatif final ici"
   ]
  },
  {
   "cell_type": "markdown",
   "metadata": {},
   "source": [
    "b- Limites de notre approche "
   ]
  },
  {
   "cell_type": "markdown",
   "metadata": {},
   "source": [
    "Notre comparaison semble avoir montré quelques points de dvergence assez importants entre ces deux SGBD-G. Toutefois, nous pensons que notre approche comporte certaines limites dont nous sommes bien conscient. Nous les listons ici : <br>\n",
    "- nous avons débuté cette comparaison en ayant d'abord était initié à Neo4j lors d'une séance de travaux dirigés, nos connaissances à priori plus importantes de ce SGBD par rapport à OrientDB a sûrement biaisé certaines de nos conclusions;  \n",
    "- le dataset employé pour cette comparaison ne correspond pas vraiment aux caractéristiques du Big data. Il aurait peut-être fallu des données plus importantes pour pouvoir exploiter au mieux les capacités de nos deux SGBD;\n",
    "- l'importation des données sur OrientDB se fait principalement avec de l'ETL, donc ce SGBD est peut-être parti avec un léger handicap; \n",
    "- les deux étudiants ayant travaillé avec l'un ou l'autre SGBD n'ont pas reçu les mêmes capacités en programmation sur Python. De fait, leurs habilités à implenter de manière efficace les possibilités de leur driver python respectif n'ont pas été similaires. Ce qui a peut-être pu défavoriser d'une façon ou d'une autre l'un des SGBD;"
   ]
  },
  {
   "cell_type": "markdown",
   "metadata": {},
   "source": [
    "## <u>**Conclusion**<u> "
   ]
  },
  {
   "cell_type": "markdown",
   "metadata": {},
   "source": [
    "En définitive, nous pensons nous que Neo4j reste le SGBD de référence pour les bases de données orientées graphes. Cependant, l'absence de technologie claire permettant de faire du MapReduce lui fait perdre quelques points par rapport aux autres SGBD simalaires. OrientDB est une fantastique technologie capable de gérer trés simplement des données massives. Sa version desktop OrientDB Studio est trés agréable et facile d'utilisation offre la possibilité de visualiser plus facilement les graphes. Les deux technologies se valeent et offre toutes deux des fonctionnalités trés intéressantes. <br>\n",
    "Ce travail nous a permis de découvrir un peu plus les SGBDs graphes et leur fonctionnement. Mais aussi de parfaire nos capacités de prise en main d'une question en Data Sciences et plus généralement de programmation avec Python, Cypher et SQL. "
   ]
  },
  {
   "cell_type": "markdown",
   "metadata": {},
   "source": [
    "<br>\n",
    "<br>\n",
    "<br>\n",
    "\n",
    "\n",
    "\n",
    "\n",
    "\n",
    "\n",
    "Références:"
   ]
  },
  {
   "cell_type": "markdown",
   "metadata": {},
   "source": [
    "https://www.irit.fr/~Thierry.Millan/MemoiresENG221/Nicolas_vergnes.pdf <br>\n",
    "https://orientdb.com/docs/2.2.x/PyOrient.html <br>\n",
    "https://neo4j.com/developer/get-started/ <br>\n",
    "https://www.udemy.com/join/login-popup/?next=/course/orientdb-getting-started/learn/lecture/1726168#overview <br>"
   ]
  }
 ],
 "metadata": {
  "kernelspec": {
   "display_name": "Python 3",
   "language": "python",
   "name": "python3"
  },
  "language_info": {
   "codemirror_mode": {
    "name": "ipython",
    "version": 3
   },
   "file_extension": ".py",
   "mimetype": "text/x-python",
   "name": "python",
   "nbconvert_exporter": "python",
   "pygments_lexer": "ipython3",
   "version": "3.7.4"
  }
 },
 "nbformat": 4,
 "nbformat_minor": 4
}
