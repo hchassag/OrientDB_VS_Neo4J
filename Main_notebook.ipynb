{
 "cells": [
  {
   "cell_type": "markdown",
   "metadata": {},
   "source": [
    "# <center>OrientDB VS Neo4J : la guerre des graphes</center> "
   ]
  },
  {
   "cell_type": "markdown",
   "metadata": {},
   "source": [
    "### <center>Auteurs : Chassagnon - Fischer - Sow </center> "
   ]
  },
  {
   "cell_type": "markdown",
   "metadata": {},
   "source": [
    "<img src=\"pilotes_img.jpg\" width=\"1100\" height=\"400\">"
   ]
  },
  {
   "cell_type": "markdown",
   "metadata": {},
   "source": [
    "### Outline\n",
    "####  Introduction\n",
    "#### 1. OrientDB une base de donnée multimodèle \n",
    "  > ##### a. Présentation de la base de donnée \n",
    "  > ##### b. Installation et premiers pas \n",
    "#### 2. Comparaison avec Neo4J\n",
    "  > ##### a. Notre approche (présenter le dataset ici)\n",
    "  > ##### b. Création des bases de données\n",
    "  > ##### c. Requêtes\n",
    "#### 3. Conclusion sur la comparaison et Limites de notre approche\n",
    "####  Conclusion générale "
   ]
  },
  {
   "cell_type": "markdown",
   "metadata": {},
   "source": [
    "# Introduction"
   ]
  },
  {
   "cell_type": "markdown",
   "metadata": {},
   "source": [
    "<div style=\"text-align: justify\"> Le big data, cette technologie révolutionnaire qui va changer nos vies. C'est en ces termes qu'est présenté ce concept né fin des années 90 aux États-unis. Ce termes est en effet maintenant devenu un \"buzz word\" utilisé à tout va dans les sphères médiatiques et dans le marketing pour attirer l'attention ou susciter l'engouement autour de technologies qui dans la majorité des cas ne sont pas totalement maîtrisées. Cependant, derrière ce terme se cache des solutions certes innovantes mais qui dépassent la simple traduction littérale de \"grosses masses de données\" qu'on lui attribue. Elle n'est en réalité pas seulement liée au volume de donnée mais aussi et surtout à la variété de celles-ci (leur hétérogénéité), la vélocité à laquelle elle nous parviennent, leur valeur et véracité. On parle des cinq V du big data. \n",
    "L'écosystème du big data a notamment fait sa révolution grâce à l'évolution des architectures informatiques et à la création de la technique de MapReduce par google (dans le framework Hadoop). Mais aussi au changement de paradigme que représente le pasage des bases de données relationnées utilisant le language SQL (Structured query Language) aux systèmes NoSQL (Not Only SQL). Malgré la domination du SQL qui reste le type de base de donnée prépondérant, nous assistons à l'émergence du NoSQL propulsé notamment par la dynamique de nouvelles start-up qui sont souvent rachetés par les géants \"traditionnels\" du big data que sont Oracle, IBM, Google. \n",
    "Parmi ces technologies NoSQL, nous distinguons notamment les bases de données de type graphes qui stockent la donnée sous forme de graphes en liant des neouds (Nodes - Vertex) grâce à des relations (Links - Edges). Elle sont très utilisées par les géants du net comme Facebook ou Twitter pour représenter les relations qui existent entre les utilisateurs. \n",
    "Dans cet exposé, nous allons faire essayer de présenter l'une des bases de données de type graphe OrientDB en la comparant notamment à une base de donnée orientée graphe concurrante Neo4J. Nous utiliserons leurs \"drivers\" python que sont respectivement pyrorient and py2neo. </div>"
   ]
  },
  {
   "cell_type": "markdown",
   "metadata": {},
   "source": [
    "## 1. OrientDB une base de donnée multimodèle"
   ]
  },
  {
   "cell_type": "markdown",
   "metadata": {},
   "source": [
    "### a. Présentation de la base de donnée "
   ]
  },
  {
   "cell_type": "markdown",
   "metadata": {},
   "source": [
    "OrientDB a vu le jour en 2010 grâce à Luca Garulli. Elle a très vite revendiquée le titre de première base de donnée multimodèle marquant, selon son créateur, la nouvelle révolution du NoSQL. Multimodèle ici se référe au fait que OrientDB a été réfléchie pour pouvoir notamment gérer à la fois des données de type graphes, documents et clés-valeurs. Ce qui marque une certaine révolution. \n",
    "Sa particularité est qu'elle inclue une couche du language SQL. Cependant, au lieu de parcourir les relations (edges) grâce à des jointures (une des plus importante feature du SQL), des liens (Links) sont utilisés. Il s'agit de liaisons directes par enregistrement d’un pointeur vers l’objet. Ce qui la différencie des bases de données relationnelles. Cela conduit à une récupération rapide de données reliées par rapport aux jointures dans un Système de Gestion de Base de Données (SGBD) qui pour nous est un hybride Relationnel-Graphe. Nous évoquerons dans la suite de l'exposé cette dernière comme une SGBD-G. \n",
    "De tous les types de stockage de données évoqués ci-dessus, le type graphe utilisé aussi par Neo4J est décrit dans la littérature comme le plus structurant en NoSQL (VERGNES, 2015). L'essence même de la donnée est ici conservée. "
   ]
  },
  {
   "cell_type": "markdown",
   "metadata": {},
   "source": [
    "<img src=\"graph_eg.png\" width=\"800\" height=\"400\">"
   ]
  },
  {
   "cell_type": "markdown",
   "metadata": {},
   "source": [
    "<center> Figure 1 : Exemple de SGBD orienté graphe (BMC, 2019) </center> "
   ]
  },
  {
   "cell_type": "markdown",
   "metadata": {},
   "source": [
    "Les SGBD graphes ont comme évoquée une gestion des données basée sur des nœuds (les individus divers), possédant un certain nombre de propriétés (informations), reliés entre eux par des arêtes (edges). Les graphes peuvent gérer des modèles très connectés avec une grande quantité de données en gardant leur structure au niveau du réseau ainsi formé. Elles utilisent les propriétées de la théorie des graphes ..................\n",
    "\n",
    "Écrite en Java, OrientDB s’appuie sur une communauté open source pour se développer, dirigée par OrientDB LTD qui est une filiale de SAP. Cette dernière l'a acquise après le rachat de CallidusCloud en 2018. La stratégie de SAP concernant OrientDB a été claire dès le rachat. La structure resterait assez indépendante, l'équipe maintenue et le développement open source. Ainsi, vous pouvez contribuer facilement à OrientDB et dialoguer avec l'équipe [ici](https://github.com/orientechnologies/orientdb).\n",
    "Elle possède toutes les fonctions natives d’un graph data base avec la flexibilité et la rapidité d’un document store (OrientDB).\n",
    "Plusieurs versions d’OrientDB existent, une version entreprise et une autre communautaire. Nous traiterons ici seulement de cette dernière, gratuite."
   ]
  },
  {
   "cell_type": "markdown",
   "metadata": {},
   "source": [
    "### b. Installation et premiers pas "
   ]
  },
  {
   "cell_type": "markdown",
   "metadata": {},
   "source": [
    "#### Installation"
   ]
  },
  {
   "cell_type": "markdown",
   "metadata": {},
   "source": [
    "Nous détaillerons dans cette partie l'installation et la mise en place de la base de donnée. Nous utiliserons de la documentation issues principalement de notre expérience personnelle avec OrientDB, ainsi que le [MOOC de Udemy sur OrientDB](https://www.udemy.com/join/login-popup/?next=/course/orientdb-getting-started/learn/lecture/1726168#overview) et le [site officiel d’OrientDB](www.orientdb.org). Toutes ces étapes ne concernent de plus que la version gratuite (appelée Community Edition) disponible sous licence Apache2 (utilisation et distribution à des fins personnels, académiques et commerciales sans restriction). "
   ]
  },
  {
   "cell_type": "markdown",
   "metadata": {},
   "source": [
    "Prérequis : OrientDB nécessite de posséder les systèmes d'exploitation qui peuvent implémenter une machine virtuelle Java : \n",
    "- Microsoft Windows 95/NT et versions postérieures, \n",
    "- Mac OS X, \n",
    "- Linux,\n",
    "- Solaris...\n",
    "Mais aussi d'avoir une version de Java ultérieure à 1.7. Lors de notre première prise en main, nous avons constaté que même certaines versions ultérieures avaient du mal a être supporté par OrientDB. Nous conseillons si vous rencontrez des problèmes d'execution du fichier orientDB de désinstaller complétement Java et de réinstaller l'ensemble du JDK 8.  "
   ]
  },
  {
   "cell_type": "markdown",
   "metadata": {},
   "source": [
    "L’installation est très simple et comporte 3 étapes principales : \n",
    "Téléchargement // Décompression - Unzip // Lancement\n",
    " \n",
    "-          Télécharger et installer Java :  https://www.java.com/fr/ (version offline) s’il n’est pas déjà présent sur la machine\n",
    "-          Télécharger OrientDB selon le système d’exploitation : https://www.orientdb.org/download\n",
    "-          Décompresser/unzip le dossier, renommer le dossier de version en orientdb\n",
    "\n",
    "Pour obtenir le JDK 8 vous pouvez directement consulter le [site d'Oracle](https://www.oracle.com/fr/java/technologies/javase/javase-jdk8-downloads.html). Aussi, si vous désirez installer le Code source, vous pouvez le faire [ici](https://orientdb.com/docs/2.2.x/Tutorial-Installation.html). "
   ]
  },
  {
   "cell_type": "markdown",
   "metadata": {},
   "source": [
    "Aprés avoir téléchargé sur votre ordinateur OrientDB et bien vérifié avoir la version de Java, vous pourrez suivre les instructions suivantes pour finaliser votre installation. \n",
    "### <center><font color='red'>Mac OS X </font> - <font color='orange'>Windows</font> - <font color='red'>Linux </font> </center> \n"
   ]
  },
  {
   "cell_type": "markdown",
   "metadata": {},
   "source": [
    "-  Ouvrir l’invite de commande :<br>\n",
    " > <font color='orange'>Démarrer et rechercher l’invite de commande </font> <br>\n",
    " > <font color='red'>Clic droit sur le fichier server.sh du dossier orientdb et l’ouvrir avec Terminal </font> \n",
    " \n",
    "-  Changer le répertoire de travail au sous dossier bin du dossier orientdb. <br>\n",
    "Pour le dossier sur le bureau : <br>\n",
    " > <font color='orange'>C:\\Users\\Axel>cd Desktop\\orientdb\\bin </font> <br>\n",
    " > <font color='red'> MacBook-Pro-de-Ibrahima:~ ibrahimasow$  ~/Desktop/orientdb/bin</font> \n",
    " \n",
    "- Lancer le serveur OrientDB : <br>\n",
    " > <font color='orange'> C:\\Users\\Axel\\Desktop\\orientdb\\bin>server.bat </font> <br>\n",
    " > <font color='red'> MacBook-Pro-de-Ibrahima:~ ibrahimasow$ ./server.sh </font> \n",
    "\n",
    "\n"
   ]
  },
  {
   "cell_type": "markdown",
   "metadata": {},
   "source": [
    "<img src=\"orient-terminal.png\" width=\"1100\" height=\"400\">"
   ]
  },
  {
   "cell_type": "markdown",
   "metadata": {},
   "source": [
    "<center> Figure 2 : Lancement du server OrientDB à partir du terminal </center> "
   ]
  },
  {
   "cell_type": "markdown",
   "metadata": {},
   "source": [
    "#### Lancer le serveur"
   ]
  },
  {
   "cell_type": "markdown",
   "metadata": {},
   "source": [
    "Si besoin, autorisez l’accès aux réseaux à Java. Lorsque cela est demandé saisissez votre mot de passe pour autoriser l'installation de la base de donnéee. <br>\n",
    "Pour lancer le serveur OrientDB, il vous faut :\n",
    "   - lancer le fichier ./server.sh depuis votre invite de commande (terminal sur mac ou linux)\n",
    "   - sur votre navigateur ouvrir votre localhost sur le 2480. Vous pouvez faire cela à l'adresse suivante : http://localhost:2480/studio/index.html#/ <br>\n",
    "   \n",
    "Vous tomberez sur la page d'accueuil de votre base de donnée. Vous êtes prêt, à vous maintenant de changer le monde avec de magnifiques graphes."
   ]
  },
  {
   "cell_type": "markdown",
   "metadata": {},
   "source": [
    "<img src=\"lp_orientdb.png\" width=\"1100\" height=\"400\">"
   ]
  },
  {
   "cell_type": "markdown",
   "metadata": {},
   "source": [
    "<center> Figure 3 : Vue de la page de connexion du serveur local d'OrientDB Desktop </center> "
   ]
  },
  {
   "cell_type": "markdown",
   "metadata": {},
   "source": [
    "Vous pourrer vérifier à l'aide de requête simple si tout est OK en accédant à la base de donnée créée par défaut (demodb). Vous pourrez par exemple requêter toute la table Profiles grâce à la commande suivante: **SELECT * FROM Profiles**.\n",
    "Notez que 3 utilisateurs (admin, reader et writer) sont créés par défaut par OrientDB à chaque création de base de donnée. Veuillez de plus à garder précieusement votre code de connexion, il est unique pour l'ensemble de les bases de données que vous administrerez. En cas d'oublie, il vous faudra suivre une procédure assez fastidieuse qui implique d'altérer les fichiers configurations (nous vous conseillons de ne pas tenter ces opérations qui peuvent aboutir à une défection de certaines fonctions importantes).  "
   ]
  },
  {
   "cell_type": "markdown",
   "metadata": {},
   "source": [
    "#### Utiliser un driver"
   ]
  },
  {
   "cell_type": "markdown",
   "metadata": {},
   "source": [
    "OrientDB a comme évoqué été pensée et construire avec du Java pur, elle utilise SQL comme language de requête (mais aussi XXX) mais ce qui en fait un outil assez apprécié dans la communauté est qu'elle a dès ses débuts permis le développement de \"drivers\" (des programmes informatiques qui implémentent un protocole pour se connecter à une base de donnée). Ainsi, plusieurs développeurs extérieurs au projet ont programmé des interfaces de connection avec les langagues les plus populaires. On retrouve un driver Java (le plus actif et maintenu) mais aussi et surtout un driver Python appelé [Pyorient](https://github.com/mogui/pyorient). \n",
    "Pyorient s'installe facilement avec l'outil de gestion de packages de python pip. Il est nécessaire d'avoir une version de Python ultérieure au 2.7 (la plupart des ordinateurs étant déjà équipé de Python 2.7. Nous vous conseillons cependant d'utiliser Python 3 (>=3.7 étant l'idéal) pour pouvoir pleinement des possibilités de ce driver. \n",
    "- Installation de Pyorient : sur votre invite de commande (terminal) : <font color='pink'> **pip install pyorient** </font> <br>\n",
    "- pour importer pyorient dans votre IDE :  <font color='pink'> **import pyorient**</font> <br>"
   ]
  },
  {
   "cell_type": "markdown",
   "metadata": {},
   "source": [
    "## 2. Comparaison avec Neo4J"
   ]
  },
  {
   "cell_type": "markdown",
   "metadata": {},
   "source": [
    "#### <center> @versions : Python : 3.7  //  Pyorient = 1.5.5  // Py2neo = 2020.0.0  //   OrientDB = 3.1.4 //   Neo4J : 4.1.1 // Sous Mac Catalina et Windows 7</center> "
   ]
  },
  {
   "cell_type": "markdown",
   "metadata": {},
   "source": [
    "<center> Disclaimer : Notre travail porte sur les versions de citées ci-dessus, nos conclusions peuvent donc différer de celles d'autres travaux.</center> "
   ]
  },
  {
   "cell_type": "markdown",
   "metadata": {},
   "source": [
    "> #### a. Notre approche"
   ]
  },
  {
   "cell_type": "markdown",
   "metadata": {},
   "source": [
    " > #### - Stratégie"
   ]
  },
  {
   "cell_type": "markdown",
   "metadata": {},
   "source": [
    "Afin de présenter au mieux OrientDB et de le comparer à Neo4J, nous avons choisi de le faire sur une stratégie comparative bien définie. Nous avons effet, chosii de travailler à deux sur cette partie. Un de nous à travailler uniquement avec OrientDB/pyOrient et un autre uniquement avec Neo4J/py2neo. Le but étant de partir d'un même jeu de donnée (  celui des Championnats du monde de Formule 1 de 1950 à 2020), construire pour chacun la base de donnéee de son côté avec PyOrient pour l'un et Py2neo pour l'autre. Ensuite, les mêmes requêtes sont faites pour chacune des bases de donnéee. Enfin, chacun partage son expèrience à l'autre et essaie de comprendre en quoi la technologie qu'il a utilisé est meilleure ou moins performant par rapport à l'autre. \n",
    "Nous avons de plus décidé d'un nombre de critères bien défini qui nous semble pertinent pour une bonne utilisation d'une base de donnée orientée graphe. "
   ]
  },
  {
   "cell_type": "markdown",
   "metadata": {},
   "source": [
    " > #### - Jeu de données "
   ]
  },
  {
   "cell_type": "markdown",
   "metadata": {},
   "source": [
    "Le jeu de données, disponible sur [kaggle](https://www.kaggle.com/rohanrao/formula-1-world-championship-1950-2020), regroupe l'ensemble des informations relatives au déroulé et aux résultats des Grands Prix de Formule 1 depuis 1950. On y retrouve des informations sur les écuries (constructors), les épreuves de qualification (qualifying), les pilotes (drivers), les courses (races), les temps (laps stops)… Dans un soucis de cohérence avec les questions qui nous intéresse et d'adaptation de ce jeu de données aux capacités de nos ordinateurs, nous avons choisi de ne travailler que sur les tables suivantes : Constructors - Drivers - Races - Circuits - Results. Ces tables sont à elles seules suffisantes pour prendre en main OrientDB et Neo4J et réaliser au mieux la comparaison. Aussi, parce qu'il s'agit de données assez importantes, toutes ces tables sont reliées entre elles par des clés étrangers très pertinent dans les bases de données relationnelles. Nous allons voir qu'elles servent aussi énormément en NoSQL. La figure 4 présente contenu de chaque table. Aussi, dans un souci de simplification et de focalisation sur l'essentiel, nous n'allons extraire de chaque table que des variables qui nous semblent pertinentes e.g : Pour Drivers code et dob (date-of-birth) ne seront pas utilisées pour construire nos bases de données. "
   ]
  },
  {
   "cell_type": "markdown",
   "metadata": {},
   "source": [
    "<img src=\"dtst.png\" width=\"1100\" height=\"400\">"
   ]
  },
  {
   "cell_type": "markdown",
   "metadata": {},
   "source": [
    "> #### b. Création des bases de données"
   ]
  },
  {
   "cell_type": "markdown",
   "metadata": {},
   "source": [
    "   > - ##### Sur OrientDB"
   ]
  },
  {
   "cell_type": "code",
   "execution_count": 46,
   "metadata": {},
   "outputs": [],
   "source": [
    "import pyorient \n",
    "from pyorient.ogm import *\n",
    "from csv import *\n",
    "import pandas as pd\n",
    "import numpy as np\n",
    "import time as tm\n",
    "from tabulate import tabulate\n",
    "import seaborn as sns\n",
    "import pprint"
   ]
  },
  {
   "cell_type": "code",
   "execution_count": 10,
   "metadata": {},
   "outputs": [],
   "source": [
    "import socket\n",
    "socks = socket.socket(socket.AF_INET, socket.SOCK_STREAM)\n",
    "socks.settimeout(1000.0) # set timeout is the attr of socks."
   ]
  },
  {
   "cell_type": "code",
   "execution_count": 11,
   "metadata": {},
   "outputs": [],
   "source": [
    "#client.db_create(\n",
    " # \"F1\",\n",
    "  # pyorient.DB_TYPE_GRAPH,\n",
    "   # pyorient.STORAGE_TYPE_PLOCAL)"
   ]
  },
  {
   "cell_type": "code",
   "execution_count": 12,
   "metadata": {},
   "outputs": [],
   "source": [
    "client = pyorient.OrientDB(\"localhost\", 2424)\n",
    "sessionToken = client.get_session_token()\n",
    "client.set_session_token(True)\n",
    "session_id = client.connect(\"root\", \"merlin\")"
   ]
  },
  {
   "cell_type": "code",
   "execution_count": 13,
   "metadata": {},
   "outputs": [],
   "source": [
    "client.db_open(\"Formula1\", \"root\", \"merlin\");"
   ]
  },
  {
   "cell_type": "code",
   "execution_count": 14,
   "metadata": {},
   "outputs": [
    {
     "data": {
      "text/plain": [
       "14564585"
      ]
     },
     "execution_count": 14,
     "metadata": {},
     "output_type": "execute_result"
    }
   ],
   "source": [
    "client.db_size()"
   ]
  },
  {
   "cell_type": "markdown",
   "metadata": {},
   "source": [
    "ETL also possible"
   ]
  },
  {
   "cell_type": "markdown",
   "metadata": {},
   "source": [
    "## Creating the F1 database \n",
    "### Constructors data"
   ]
  },
  {
   "cell_type": "code",
   "execution_count": 15,
   "metadata": {},
   "outputs": [
    {
     "data": {
      "text/html": [
       "<div>\n",
       "<style scoped>\n",
       "    .dataframe tbody tr th:only-of-type {\n",
       "        vertical-align: middle;\n",
       "    }\n",
       "\n",
       "    .dataframe tbody tr th {\n",
       "        vertical-align: top;\n",
       "    }\n",
       "\n",
       "    .dataframe thead th {\n",
       "        text-align: right;\n",
       "    }\n",
       "</style>\n",
       "<table border=\"1\" class=\"dataframe\">\n",
       "  <thead>\n",
       "    <tr style=\"text-align: right;\">\n",
       "      <th></th>\n",
       "      <th>constructorId</th>\n",
       "      <th>constructorRef</th>\n",
       "      <th>cons_name</th>\n",
       "      <th>cons_nationality</th>\n",
       "      <th>url</th>\n",
       "    </tr>\n",
       "  </thead>\n",
       "  <tbody>\n",
       "    <tr>\n",
       "      <td>0</td>\n",
       "      <td>1</td>\n",
       "      <td>mclaren</td>\n",
       "      <td>McLaren</td>\n",
       "      <td>British</td>\n",
       "      <td>http://en.wikipedia.org/wiki/McLaren</td>\n",
       "    </tr>\n",
       "    <tr>\n",
       "      <td>1</td>\n",
       "      <td>2</td>\n",
       "      <td>bmw_sauber</td>\n",
       "      <td>BMW Sauber</td>\n",
       "      <td>German</td>\n",
       "      <td>http://en.wikipedia.org/wiki/BMW_Sauber</td>\n",
       "    </tr>\n",
       "    <tr>\n",
       "      <td>2</td>\n",
       "      <td>3</td>\n",
       "      <td>williams</td>\n",
       "      <td>Williams</td>\n",
       "      <td>British</td>\n",
       "      <td>http://en.wikipedia.org/wiki/Williams_Grand_Pr...</td>\n",
       "    </tr>\n",
       "    <tr>\n",
       "      <td>3</td>\n",
       "      <td>4</td>\n",
       "      <td>renault</td>\n",
       "      <td>Renault</td>\n",
       "      <td>French</td>\n",
       "      <td>http://en.wikipedia.org/wiki/Renault_in_Formul...</td>\n",
       "    </tr>\n",
       "    <tr>\n",
       "      <td>4</td>\n",
       "      <td>5</td>\n",
       "      <td>toro_rosso</td>\n",
       "      <td>Toro Rosso</td>\n",
       "      <td>Italian</td>\n",
       "      <td>http://en.wikipedia.org/wiki/Scuderia_Toro_Rosso</td>\n",
       "    </tr>\n",
       "    <tr>\n",
       "      <td>...</td>\n",
       "      <td>...</td>\n",
       "      <td>...</td>\n",
       "      <td>...</td>\n",
       "      <td>...</td>\n",
       "      <td>...</td>\n",
       "    </tr>\n",
       "    <tr>\n",
       "      <td>206</td>\n",
       "      <td>209</td>\n",
       "      <td>manor</td>\n",
       "      <td>Manor Marussia</td>\n",
       "      <td>British</td>\n",
       "      <td>http://en.wikipedia.org/wiki/Manor_Motorsport</td>\n",
       "    </tr>\n",
       "    <tr>\n",
       "      <td>207</td>\n",
       "      <td>210</td>\n",
       "      <td>haas</td>\n",
       "      <td>Haas F1 Team</td>\n",
       "      <td>American</td>\n",
       "      <td>http://en.wikipedia.org/wiki/Haas_F1_Team</td>\n",
       "    </tr>\n",
       "    <tr>\n",
       "      <td>208</td>\n",
       "      <td>211</td>\n",
       "      <td>racing_point</td>\n",
       "      <td>Racing Point</td>\n",
       "      <td>British</td>\n",
       "      <td>http://en.wikipedia.org/wiki/Racing_Point_F1_Team</td>\n",
       "    </tr>\n",
       "    <tr>\n",
       "      <td>209</td>\n",
       "      <td>212</td>\n",
       "      <td>alpha_tauri</td>\n",
       "      <td>Scuderia Alpha Tauri</td>\n",
       "      <td>Italian</td>\n",
       "      <td>http://en.wikipedia.org/wiki/Scuderia_Alpha_Tauri</td>\n",
       "    </tr>\n",
       "    <tr>\n",
       "      <td>210</td>\n",
       "      <td>213</td>\n",
       "      <td>alphatauri</td>\n",
       "      <td>AlphaTauri</td>\n",
       "      <td>Italian</td>\n",
       "      <td>http://en.wikipedia.org/wiki/Scuderia_AlphaTauri</td>\n",
       "    </tr>\n",
       "  </tbody>\n",
       "</table>\n",
       "<p>211 rows × 5 columns</p>\n",
       "</div>"
      ],
      "text/plain": [
       "     constructorId constructorRef             cons_name cons_nationality  \\\n",
       "0                1        mclaren               McLaren          British   \n",
       "1                2     bmw_sauber            BMW Sauber           German   \n",
       "2                3       williams              Williams          British   \n",
       "3                4        renault               Renault           French   \n",
       "4                5     toro_rosso            Toro Rosso          Italian   \n",
       "..             ...            ...                   ...              ...   \n",
       "206            209          manor        Manor Marussia          British   \n",
       "207            210           haas          Haas F1 Team         American   \n",
       "208            211   racing_point          Racing Point          British   \n",
       "209            212    alpha_tauri  Scuderia Alpha Tauri          Italian   \n",
       "210            213     alphatauri            AlphaTauri          Italian   \n",
       "\n",
       "                                                   url  \n",
       "0                 http://en.wikipedia.org/wiki/McLaren  \n",
       "1              http://en.wikipedia.org/wiki/BMW_Sauber  \n",
       "2    http://en.wikipedia.org/wiki/Williams_Grand_Pr...  \n",
       "3    http://en.wikipedia.org/wiki/Renault_in_Formul...  \n",
       "4     http://en.wikipedia.org/wiki/Scuderia_Toro_Rosso  \n",
       "..                                                 ...  \n",
       "206      http://en.wikipedia.org/wiki/Manor_Motorsport  \n",
       "207          http://en.wikipedia.org/wiki/Haas_F1_Team  \n",
       "208  http://en.wikipedia.org/wiki/Racing_Point_F1_Team  \n",
       "209  http://en.wikipedia.org/wiki/Scuderia_Alpha_Tauri  \n",
       "210   http://en.wikipedia.org/wiki/Scuderia_AlphaTauri  \n",
       "\n",
       "[211 rows x 5 columns]"
      ]
     },
     "execution_count": 15,
     "metadata": {},
     "output_type": "execute_result"
    }
   ],
   "source": [
    "debut = tm.time()\n",
    "path_to_data = \"/Users/ibrahimasow/Desktop/formula_1/\"\n",
    "file= open(path_to_data+'constructors.csv','r')\n",
    "constructors = pd.read_csv(file)\n",
    "constructors = constructors.rename(columns={\"name\": \"cons_name\", \"nationality\": \"cons_nationality\"})\n",
    "constructors "
   ]
  },
  {
   "cell_type": "code",
   "execution_count": 16,
   "metadata": {},
   "outputs": [],
   "source": [
    "constructorId = constructors['constructorId'].to_list()\n",
    "constructorRef = constructors['constructorRef'].to_list()\n",
    "cons_name = constructors['cons_name'].to_list()\n",
    "cons_nationality = constructors['cons_nationality'].to_list()"
   ]
  },
  {
   "cell_type": "code",
   "execution_count": 9,
   "metadata": {},
   "outputs": [
    {
     "data": {
      "text/plain": [
       "[22]"
      ]
     },
     "execution_count": 9,
     "metadata": {},
     "output_type": "execute_result"
    }
   ],
   "source": [
    "client.command(\"CREATE Class Constructors EXTENDS V\")"
   ]
  },
  {
   "cell_type": "code",
   "execution_count": 14,
   "metadata": {},
   "outputs": [
    {
     "data": {
      "text/plain": [
       "<pyorient.orient.OrientDB at 0x10e111450>"
      ]
     },
     "execution_count": 14,
     "metadata": {},
     "output_type": "execute_result"
    }
   ],
   "source": [
    "client.set_session_token(True)"
   ]
  },
  {
   "cell_type": "code",
   "execution_count": 21,
   "metadata": {},
   "outputs": [],
   "source": [
    "# Initialize Batch Commands Array\n",
    "batch_cmds = ['begin']"
   ]
  },
  {
   "cell_type": "code",
   "execution_count": 22,
   "metadata": {},
   "outputs": [],
   "source": [
    "for a, b in zip(range(len(cons_name)), constructorId):\n",
    "    command = (\"CREATE VERTEX Constructors \"\n",
    "               \"SET constructorId = '%s', constructorRef = '%s', cons_name ='%s', cons_nationality ='%s'\"\n",
    "          % (b,\n",
    "             constructorRef[a],\n",
    "             cons_name[a],\n",
    "             cons_nationality[a]\n",
    "            ))\n",
    "    batch_cmds.append(command)"
   ]
  },
  {
   "cell_type": "code",
   "execution_count": 23,
   "metadata": {},
   "outputs": [],
   "source": [
    "# Add Batch Commit\n",
    "batch_cmds.append('commit retry 100;')"
   ]
  },
  {
   "cell_type": "code",
   "execution_count": 24,
   "metadata": {},
   "outputs": [],
   "source": [
    "# Join with Semicolons\n",
    "cmd = ';'.join(batch_cmds)"
   ]
  },
  {
   "cell_type": "code",
   "execution_count": 25,
   "metadata": {},
   "outputs": [],
   "source": [
    "# Execute Commands\n",
    "results = client.batch(cmd)"
   ]
  },
  {
   "cell_type": "markdown",
   "metadata": {},
   "source": [
    "### Circuits data"
   ]
  },
  {
   "cell_type": "code",
   "execution_count": 17,
   "metadata": {},
   "outputs": [
    {
     "data": {
      "text/html": [
       "<div>\n",
       "<style scoped>\n",
       "    .dataframe tbody tr th:only-of-type {\n",
       "        vertical-align: middle;\n",
       "    }\n",
       "\n",
       "    .dataframe tbody tr th {\n",
       "        vertical-align: top;\n",
       "    }\n",
       "\n",
       "    .dataframe thead th {\n",
       "        text-align: right;\n",
       "    }\n",
       "</style>\n",
       "<table border=\"1\" class=\"dataframe\">\n",
       "  <thead>\n",
       "    <tr style=\"text-align: right;\">\n",
       "      <th></th>\n",
       "      <th>circuitId</th>\n",
       "      <th>circuitRef</th>\n",
       "      <th>circuits_name</th>\n",
       "      <th>location</th>\n",
       "      <th>country</th>\n",
       "      <th>lat</th>\n",
       "      <th>lng</th>\n",
       "      <th>alt</th>\n",
       "      <th>url</th>\n",
       "    </tr>\n",
       "  </thead>\n",
       "  <tbody>\n",
       "    <tr>\n",
       "      <td>0</td>\n",
       "      <td>1</td>\n",
       "      <td>albert_park</td>\n",
       "      <td>Albert Park Grand Prix Circuit</td>\n",
       "      <td>Melbourne</td>\n",
       "      <td>Australia</td>\n",
       "      <td>-37.84970</td>\n",
       "      <td>144.96800</td>\n",
       "      <td>10</td>\n",
       "      <td>http://en.wikipedia.org/wiki/Melbourne_Grand_P...</td>\n",
       "    </tr>\n",
       "    <tr>\n",
       "      <td>1</td>\n",
       "      <td>2</td>\n",
       "      <td>sepang</td>\n",
       "      <td>Sepang International Circuit</td>\n",
       "      <td>Kuala Lumpur</td>\n",
       "      <td>Malaysia</td>\n",
       "      <td>2.76083</td>\n",
       "      <td>101.73800</td>\n",
       "      <td>\\N</td>\n",
       "      <td>http://en.wikipedia.org/wiki/Sepang_Internatio...</td>\n",
       "    </tr>\n",
       "    <tr>\n",
       "      <td>2</td>\n",
       "      <td>3</td>\n",
       "      <td>bahrain</td>\n",
       "      <td>Bahrain International Circuit</td>\n",
       "      <td>Sakhir</td>\n",
       "      <td>Bahrain</td>\n",
       "      <td>26.03250</td>\n",
       "      <td>50.51060</td>\n",
       "      <td>\\N</td>\n",
       "      <td>http://en.wikipedia.org/wiki/Bahrain_Internati...</td>\n",
       "    </tr>\n",
       "    <tr>\n",
       "      <td>3</td>\n",
       "      <td>4</td>\n",
       "      <td>catalunya</td>\n",
       "      <td>Circuit de Barcelona-Catalunya</td>\n",
       "      <td>Montmeló</td>\n",
       "      <td>Spain</td>\n",
       "      <td>41.57000</td>\n",
       "      <td>2.26111</td>\n",
       "      <td>\\N</td>\n",
       "      <td>http://en.wikipedia.org/wiki/Circuit_de_Barcel...</td>\n",
       "    </tr>\n",
       "    <tr>\n",
       "      <td>4</td>\n",
       "      <td>5</td>\n",
       "      <td>istanbul</td>\n",
       "      <td>Istanbul Park</td>\n",
       "      <td>Istanbul</td>\n",
       "      <td>Turkey</td>\n",
       "      <td>40.95170</td>\n",
       "      <td>29.40500</td>\n",
       "      <td>\\N</td>\n",
       "      <td>http://en.wikipedia.org/wiki/Istanbul_Park</td>\n",
       "    </tr>\n",
       "    <tr>\n",
       "      <td>...</td>\n",
       "      <td>...</td>\n",
       "      <td>...</td>\n",
       "      <td>...</td>\n",
       "      <td>...</td>\n",
       "      <td>...</td>\n",
       "      <td>...</td>\n",
       "      <td>...</td>\n",
       "      <td>...</td>\n",
       "      <td>...</td>\n",
       "    </tr>\n",
       "    <tr>\n",
       "      <td>71</td>\n",
       "      <td>72</td>\n",
       "      <td>port_imperial</td>\n",
       "      <td>Port Imperial Street Circuit</td>\n",
       "      <td>New Jersey</td>\n",
       "      <td>USA</td>\n",
       "      <td>40.77690</td>\n",
       "      <td>-74.01110</td>\n",
       "      <td>\\N</td>\n",
       "      <td>http://en.wikipedia.org/wiki/Port_Imperial_Str...</td>\n",
       "    </tr>\n",
       "    <tr>\n",
       "      <td>72</td>\n",
       "      <td>73</td>\n",
       "      <td>BAK</td>\n",
       "      <td>Baku City Circuit</td>\n",
       "      <td>Baku</td>\n",
       "      <td>Azerbaijan</td>\n",
       "      <td>40.37250</td>\n",
       "      <td>49.85330</td>\n",
       "      <td>\\N</td>\n",
       "      <td>http://en.wikipedia.org/wiki/Baku_City_Circuit</td>\n",
       "    </tr>\n",
       "    <tr>\n",
       "      <td>73</td>\n",
       "      <td>74</td>\n",
       "      <td>hanoi</td>\n",
       "      <td>Hanoi Street Circuit</td>\n",
       "      <td>Hanoi</td>\n",
       "      <td>Vietnam</td>\n",
       "      <td>21.01660</td>\n",
       "      <td>105.76600</td>\n",
       "      <td>\\N</td>\n",
       "      <td>http://en.wikipedia.org/wiki/Hanoi_Street_Circuit</td>\n",
       "    </tr>\n",
       "    <tr>\n",
       "      <td>74</td>\n",
       "      <td>75</td>\n",
       "      <td>portimao</td>\n",
       "      <td>Autódromo Internacional do Algarve</td>\n",
       "      <td>Portimão</td>\n",
       "      <td>Portugal</td>\n",
       "      <td>37.22700</td>\n",
       "      <td>-8.62670</td>\n",
       "      <td>\\N</td>\n",
       "      <td>http://en.wikipedia.org/wiki/Algarve_Internati...</td>\n",
       "    </tr>\n",
       "    <tr>\n",
       "      <td>75</td>\n",
       "      <td>76</td>\n",
       "      <td>mugello</td>\n",
       "      <td>Autodromo Internazionale del Mugello</td>\n",
       "      <td>Mugello</td>\n",
       "      <td>Italy</td>\n",
       "      <td>43.99750</td>\n",
       "      <td>11.37190</td>\n",
       "      <td>\\N</td>\n",
       "      <td>http://en.wikipedia.org/wiki/Mugello_Circuit</td>\n",
       "    </tr>\n",
       "  </tbody>\n",
       "</table>\n",
       "<p>76 rows × 9 columns</p>\n",
       "</div>"
      ],
      "text/plain": [
       "    circuitId     circuitRef                         circuits_name  \\\n",
       "0           1    albert_park        Albert Park Grand Prix Circuit   \n",
       "1           2         sepang          Sepang International Circuit   \n",
       "2           3        bahrain         Bahrain International Circuit   \n",
       "3           4      catalunya        Circuit de Barcelona-Catalunya   \n",
       "4           5       istanbul                         Istanbul Park   \n",
       "..        ...            ...                                   ...   \n",
       "71         72  port_imperial          Port Imperial Street Circuit   \n",
       "72         73            BAK                     Baku City Circuit   \n",
       "73         74          hanoi                  Hanoi Street Circuit   \n",
       "74         75       portimao    Autódromo Internacional do Algarve   \n",
       "75         76        mugello  Autodromo Internazionale del Mugello   \n",
       "\n",
       "        location     country       lat        lng alt  \\\n",
       "0      Melbourne   Australia -37.84970  144.96800  10   \n",
       "1   Kuala Lumpur    Malaysia   2.76083  101.73800  \\N   \n",
       "2         Sakhir     Bahrain  26.03250   50.51060  \\N   \n",
       "3       Montmeló       Spain  41.57000    2.26111  \\N   \n",
       "4       Istanbul      Turkey  40.95170   29.40500  \\N   \n",
       "..           ...         ...       ...        ...  ..   \n",
       "71    New Jersey         USA  40.77690  -74.01110  \\N   \n",
       "72          Baku  Azerbaijan  40.37250   49.85330  \\N   \n",
       "73         Hanoi     Vietnam  21.01660  105.76600  \\N   \n",
       "74      Portimão    Portugal  37.22700   -8.62670  \\N   \n",
       "75       Mugello       Italy  43.99750   11.37190  \\N   \n",
       "\n",
       "                                                  url  \n",
       "0   http://en.wikipedia.org/wiki/Melbourne_Grand_P...  \n",
       "1   http://en.wikipedia.org/wiki/Sepang_Internatio...  \n",
       "2   http://en.wikipedia.org/wiki/Bahrain_Internati...  \n",
       "3   http://en.wikipedia.org/wiki/Circuit_de_Barcel...  \n",
       "4          http://en.wikipedia.org/wiki/Istanbul_Park  \n",
       "..                                                ...  \n",
       "71  http://en.wikipedia.org/wiki/Port_Imperial_Str...  \n",
       "72     http://en.wikipedia.org/wiki/Baku_City_Circuit  \n",
       "73  http://en.wikipedia.org/wiki/Hanoi_Street_Circuit  \n",
       "74  http://en.wikipedia.org/wiki/Algarve_Internati...  \n",
       "75       http://en.wikipedia.org/wiki/Mugello_Circuit  \n",
       "\n",
       "[76 rows x 9 columns]"
      ]
     },
     "execution_count": 17,
     "metadata": {},
     "output_type": "execute_result"
    }
   ],
   "source": [
    "file= open(path_to_data+'circuits.csv','r')\n",
    "circuits = pd.read_csv(file)\n",
    "circuits = circuits.rename(columns={\"name\": \"circuits_name\"})\n",
    "circuits"
   ]
  },
  {
   "cell_type": "code",
   "execution_count": 18,
   "metadata": {},
   "outputs": [],
   "source": [
    "circuitId = circuits['circuitId'].to_list()\n",
    "circuits_name = circuits['circuits_name'].to_list()\n",
    "location = circuits['location'].to_list()\n",
    "country = circuits['country'].to_list()\n",
    "lat = circuits['lat'].to_list()\n",
    "lng = circuits['lng'].to_list()"
   ]
  },
  {
   "cell_type": "code",
   "execution_count": 28,
   "metadata": {},
   "outputs": [
    {
     "data": {
      "text/plain": [
       "[23]"
      ]
     },
     "execution_count": 28,
     "metadata": {},
     "output_type": "execute_result"
    }
   ],
   "source": [
    "client.command(\"CREATE Class Circuits EXTENDS V\")"
   ]
  },
  {
   "cell_type": "code",
   "execution_count": 12,
   "metadata": {},
   "outputs": [
    {
     "data": {
      "text/plain": [
       "<pyorient.orient.OrientDB at 0x112141250>"
      ]
     },
     "execution_count": 12,
     "metadata": {},
     "output_type": "execute_result"
    }
   ],
   "source": [
    "client.set_session_token(True)"
   ]
  },
  {
   "cell_type": "code",
   "execution_count": 30,
   "metadata": {},
   "outputs": [],
   "source": [
    "# Initialize Batch Commands Array\n",
    "batch_cmds = ['begin']"
   ]
  },
  {
   "cell_type": "code",
   "execution_count": 31,
   "metadata": {},
   "outputs": [],
   "source": [
    "for a, b in zip(range(len(circuitId)), circuitId):\n",
    "    command = (\"CREATE VERTEX Circuits \"\n",
    "               \"SET circuitId = '%s',name ='%s', location ='%s', country='%s', lat='%s', lng='%s'\"\n",
    "          % (b,\n",
    "             circuits_name[a],\n",
    "             location[a],\n",
    "             country[a],\n",
    "             lat[a],\n",
    "             lng[a]\n",
    "            ))\n",
    "    batch_cmds.append(command)"
   ]
  },
  {
   "cell_type": "code",
   "execution_count": 32,
   "metadata": {},
   "outputs": [],
   "source": [
    "# Add Batch Commit\n",
    "batch_cmds.append('commit retry 100;')"
   ]
  },
  {
   "cell_type": "code",
   "execution_count": 33,
   "metadata": {},
   "outputs": [],
   "source": [
    "# Join with Semicolons\n",
    "cmd = ';'.join(batch_cmds)"
   ]
  },
  {
   "cell_type": "code",
   "execution_count": 34,
   "metadata": {},
   "outputs": [],
   "source": [
    "# Execute Commands\n",
    "results = client.batch(cmd)"
   ]
  },
  {
   "cell_type": "markdown",
   "metadata": {},
   "source": [
    "### Races data"
   ]
  },
  {
   "cell_type": "code",
   "execution_count": 19,
   "metadata": {},
   "outputs": [
    {
     "data": {
      "text/html": [
       "<div>\n",
       "<style scoped>\n",
       "    .dataframe tbody tr th:only-of-type {\n",
       "        vertical-align: middle;\n",
       "    }\n",
       "\n",
       "    .dataframe tbody tr th {\n",
       "        vertical-align: top;\n",
       "    }\n",
       "\n",
       "    .dataframe thead th {\n",
       "        text-align: right;\n",
       "    }\n",
       "</style>\n",
       "<table border=\"1\" class=\"dataframe\">\n",
       "  <thead>\n",
       "    <tr style=\"text-align: right;\">\n",
       "      <th></th>\n",
       "      <th>raceId</th>\n",
       "      <th>year</th>\n",
       "      <th>round</th>\n",
       "      <th>circuitId</th>\n",
       "      <th>races_name</th>\n",
       "      <th>date</th>\n",
       "      <th>time</th>\n",
       "      <th>url</th>\n",
       "    </tr>\n",
       "  </thead>\n",
       "  <tbody>\n",
       "    <tr>\n",
       "      <td>0</td>\n",
       "      <td>1</td>\n",
       "      <td>2009</td>\n",
       "      <td>1</td>\n",
       "      <td>1</td>\n",
       "      <td>Australian Grand Prix</td>\n",
       "      <td>2009-03-29</td>\n",
       "      <td>06:00:00</td>\n",
       "      <td>http://en.wikipedia.org/wiki/2009_Australian_G...</td>\n",
       "    </tr>\n",
       "    <tr>\n",
       "      <td>1</td>\n",
       "      <td>2</td>\n",
       "      <td>2009</td>\n",
       "      <td>2</td>\n",
       "      <td>2</td>\n",
       "      <td>Malaysian Grand Prix</td>\n",
       "      <td>2009-04-05</td>\n",
       "      <td>09:00:00</td>\n",
       "      <td>http://en.wikipedia.org/wiki/2009_Malaysian_Gr...</td>\n",
       "    </tr>\n",
       "    <tr>\n",
       "      <td>2</td>\n",
       "      <td>3</td>\n",
       "      <td>2009</td>\n",
       "      <td>3</td>\n",
       "      <td>17</td>\n",
       "      <td>Chinese Grand Prix</td>\n",
       "      <td>2009-04-19</td>\n",
       "      <td>07:00:00</td>\n",
       "      <td>http://en.wikipedia.org/wiki/2009_Chinese_Gran...</td>\n",
       "    </tr>\n",
       "    <tr>\n",
       "      <td>3</td>\n",
       "      <td>4</td>\n",
       "      <td>2009</td>\n",
       "      <td>4</td>\n",
       "      <td>3</td>\n",
       "      <td>Bahrain Grand Prix</td>\n",
       "      <td>2009-04-26</td>\n",
       "      <td>12:00:00</td>\n",
       "      <td>http://en.wikipedia.org/wiki/2009_Bahrain_Gran...</td>\n",
       "    </tr>\n",
       "    <tr>\n",
       "      <td>4</td>\n",
       "      <td>5</td>\n",
       "      <td>2009</td>\n",
       "      <td>5</td>\n",
       "      <td>4</td>\n",
       "      <td>Spanish Grand Prix</td>\n",
       "      <td>2009-05-10</td>\n",
       "      <td>12:00:00</td>\n",
       "      <td>http://en.wikipedia.org/wiki/2009_Spanish_Gran...</td>\n",
       "    </tr>\n",
       "    <tr>\n",
       "      <td>...</td>\n",
       "      <td>...</td>\n",
       "      <td>...</td>\n",
       "      <td>...</td>\n",
       "      <td>...</td>\n",
       "      <td>...</td>\n",
       "      <td>...</td>\n",
       "      <td>...</td>\n",
       "      <td>...</td>\n",
       "    </tr>\n",
       "    <tr>\n",
       "      <td>1030</td>\n",
       "      <td>1043</td>\n",
       "      <td>2020</td>\n",
       "      <td>13</td>\n",
       "      <td>21</td>\n",
       "      <td>Emilia Romagna Grand Prix</td>\n",
       "      <td>2020-11-01</td>\n",
       "      <td>12:10:00</td>\n",
       "      <td>https://en.wikipedia.org/wiki/2020_Emilia_Roma...</td>\n",
       "    </tr>\n",
       "    <tr>\n",
       "      <td>1031</td>\n",
       "      <td>1044</td>\n",
       "      <td>2020</td>\n",
       "      <td>14</td>\n",
       "      <td>5</td>\n",
       "      <td>Turkish Grand Prix</td>\n",
       "      <td>2020-11-15</td>\n",
       "      <td>10:10:00</td>\n",
       "      <td>https://en.wikipedia.org/wiki/2020_Turkish_Gra...</td>\n",
       "    </tr>\n",
       "    <tr>\n",
       "      <td>1032</td>\n",
       "      <td>1045</td>\n",
       "      <td>2020</td>\n",
       "      <td>15</td>\n",
       "      <td>3</td>\n",
       "      <td>Bahrain Grand Prix</td>\n",
       "      <td>2020-11-29</td>\n",
       "      <td>15:10:00</td>\n",
       "      <td>https://en.wikipedia.org/wiki/2020_Bahrain_Gra...</td>\n",
       "    </tr>\n",
       "    <tr>\n",
       "      <td>1033</td>\n",
       "      <td>1046</td>\n",
       "      <td>2020</td>\n",
       "      <td>16</td>\n",
       "      <td>3</td>\n",
       "      <td>Sakhir Grand Prix</td>\n",
       "      <td>2020-12-06</td>\n",
       "      <td>17:10:00</td>\n",
       "      <td>https://en.wikipedia.org/wiki/2020_Sakhir_Gran...</td>\n",
       "    </tr>\n",
       "    <tr>\n",
       "      <td>1034</td>\n",
       "      <td>1047</td>\n",
       "      <td>2020</td>\n",
       "      <td>17</td>\n",
       "      <td>24</td>\n",
       "      <td>Abu Dhabi Grand Prix</td>\n",
       "      <td>2020-12-13</td>\n",
       "      <td>13:10:00</td>\n",
       "      <td>https://en.wikipedia.org/wiki/2020_Abu_Dhabi_G...</td>\n",
       "    </tr>\n",
       "  </tbody>\n",
       "</table>\n",
       "<p>1035 rows × 8 columns</p>\n",
       "</div>"
      ],
      "text/plain": [
       "      raceId  year  round  circuitId                 races_name        date  \\\n",
       "0          1  2009      1          1      Australian Grand Prix  2009-03-29   \n",
       "1          2  2009      2          2       Malaysian Grand Prix  2009-04-05   \n",
       "2          3  2009      3         17         Chinese Grand Prix  2009-04-19   \n",
       "3          4  2009      4          3         Bahrain Grand Prix  2009-04-26   \n",
       "4          5  2009      5          4         Spanish Grand Prix  2009-05-10   \n",
       "...      ...   ...    ...        ...                        ...         ...   \n",
       "1030    1043  2020     13         21  Emilia Romagna Grand Prix  2020-11-01   \n",
       "1031    1044  2020     14          5         Turkish Grand Prix  2020-11-15   \n",
       "1032    1045  2020     15          3         Bahrain Grand Prix  2020-11-29   \n",
       "1033    1046  2020     16          3          Sakhir Grand Prix  2020-12-06   \n",
       "1034    1047  2020     17         24       Abu Dhabi Grand Prix  2020-12-13   \n",
       "\n",
       "          time                                                url  \n",
       "0     06:00:00  http://en.wikipedia.org/wiki/2009_Australian_G...  \n",
       "1     09:00:00  http://en.wikipedia.org/wiki/2009_Malaysian_Gr...  \n",
       "2     07:00:00  http://en.wikipedia.org/wiki/2009_Chinese_Gran...  \n",
       "3     12:00:00  http://en.wikipedia.org/wiki/2009_Bahrain_Gran...  \n",
       "4     12:00:00  http://en.wikipedia.org/wiki/2009_Spanish_Gran...  \n",
       "...        ...                                                ...  \n",
       "1030  12:10:00  https://en.wikipedia.org/wiki/2020_Emilia_Roma...  \n",
       "1031  10:10:00  https://en.wikipedia.org/wiki/2020_Turkish_Gra...  \n",
       "1032  15:10:00  https://en.wikipedia.org/wiki/2020_Bahrain_Gra...  \n",
       "1033  17:10:00  https://en.wikipedia.org/wiki/2020_Sakhir_Gran...  \n",
       "1034  13:10:00  https://en.wikipedia.org/wiki/2020_Abu_Dhabi_G...  \n",
       "\n",
       "[1035 rows x 8 columns]"
      ]
     },
     "execution_count": 19,
     "metadata": {},
     "output_type": "execute_result"
    }
   ],
   "source": [
    "file= open(path_to_data+'races.csv','r')\n",
    "races = pd.read_csv(file)\n",
    "races = races.rename(columns={\"name\": \"races_name\"})\n",
    "races"
   ]
  },
  {
   "cell_type": "code",
   "execution_count": 20,
   "metadata": {},
   "outputs": [],
   "source": [
    "raceId = races['raceId'].to_list()\n",
    "year = races['year'].to_list()\n",
    "round = races['round'].to_list()\n",
    "circuitId = races['circuitId'].to_list()\n",
    "races_name = races['races_name'].to_list()\n",
    "date = races['date'].to_list()"
   ]
  },
  {
   "cell_type": "code",
   "execution_count": 38,
   "metadata": {},
   "outputs": [
    {
     "data": {
      "text/plain": [
       "[24]"
      ]
     },
     "execution_count": 38,
     "metadata": {},
     "output_type": "execute_result"
    }
   ],
   "source": [
    "client.command(\"CREATE Class Races EXTENDS V\")"
   ]
  },
  {
   "cell_type": "code",
   "execution_count": 60,
   "metadata": {},
   "outputs": [
    {
     "data": {
      "text/plain": [
       "<pyorient.orient.OrientDB at 0x10e111450>"
      ]
     },
     "execution_count": 60,
     "metadata": {},
     "output_type": "execute_result"
    }
   ],
   "source": [
    "client.set_session_token(True)"
   ]
  },
  {
   "cell_type": "code",
   "execution_count": 41,
   "metadata": {},
   "outputs": [],
   "source": [
    "# Initialize Batch Commands Array\n",
    "batch_cmds = ['begin']"
   ]
  },
  {
   "cell_type": "code",
   "execution_count": 42,
   "metadata": {},
   "outputs": [],
   "source": [
    "for a, b, c, d, e in zip(range(len(raceId)), raceId, year, round, circuitId):\n",
    "    command = (\"CREATE VERTEX Races \"\n",
    "               \"SET raceId = '%s', year = '%s', round ='%s', circuitId ='%s', races_name='%s', date='%s'\"\n",
    "          % (b,\n",
    "             c,\n",
    "             d,\n",
    "             e,\n",
    "             races_name[a],\n",
    "             date[a]\n",
    "            ))\n",
    "    batch_cmds.append(command)"
   ]
  },
  {
   "cell_type": "code",
   "execution_count": 43,
   "metadata": {},
   "outputs": [],
   "source": [
    "# Add Batch Commit\n",
    "batch_cmds.append('commit retry 100;')"
   ]
  },
  {
   "cell_type": "code",
   "execution_count": 44,
   "metadata": {},
   "outputs": [],
   "source": [
    "# Join with Semicolons\n",
    "cmd = ';'.join(batch_cmds)"
   ]
  },
  {
   "cell_type": "code",
   "execution_count": 45,
   "metadata": {},
   "outputs": [],
   "source": [
    "# Execute Commands\n",
    "results = client.batch(cmd)"
   ]
  },
  {
   "cell_type": "markdown",
   "metadata": {},
   "source": [
    "### Drivers"
   ]
  },
  {
   "cell_type": "code",
   "execution_count": 21,
   "metadata": {},
   "outputs": [
    {
     "data": {
      "text/html": [
       "<div>\n",
       "<style scoped>\n",
       "    .dataframe tbody tr th:only-of-type {\n",
       "        vertical-align: middle;\n",
       "    }\n",
       "\n",
       "    .dataframe tbody tr th {\n",
       "        vertical-align: top;\n",
       "    }\n",
       "\n",
       "    .dataframe thead th {\n",
       "        text-align: right;\n",
       "    }\n",
       "</style>\n",
       "<table border=\"1\" class=\"dataframe\">\n",
       "  <thead>\n",
       "    <tr style=\"text-align: right;\">\n",
       "      <th></th>\n",
       "      <th>driverId</th>\n",
       "      <th>driverRef</th>\n",
       "      <th>number</th>\n",
       "      <th>code</th>\n",
       "      <th>forename</th>\n",
       "      <th>surname</th>\n",
       "      <th>dob</th>\n",
       "      <th>nationality</th>\n",
       "      <th>url</th>\n",
       "    </tr>\n",
       "  </thead>\n",
       "  <tbody>\n",
       "    <tr>\n",
       "      <td>0</td>\n",
       "      <td>1</td>\n",
       "      <td>hamilton</td>\n",
       "      <td>44</td>\n",
       "      <td>HAM</td>\n",
       "      <td>Lewis</td>\n",
       "      <td>Hamilton</td>\n",
       "      <td>1985-01-07</td>\n",
       "      <td>British</td>\n",
       "      <td>http://en.wikipedia.org/wiki/Lewis_Hamilton</td>\n",
       "    </tr>\n",
       "    <tr>\n",
       "      <td>1</td>\n",
       "      <td>2</td>\n",
       "      <td>heidfeld</td>\n",
       "      <td>\\N</td>\n",
       "      <td>HEI</td>\n",
       "      <td>Nick</td>\n",
       "      <td>Heidfeld</td>\n",
       "      <td>1977-05-10</td>\n",
       "      <td>German</td>\n",
       "      <td>http://en.wikipedia.org/wiki/Nick_Heidfeld</td>\n",
       "    </tr>\n",
       "    <tr>\n",
       "      <td>2</td>\n",
       "      <td>3</td>\n",
       "      <td>rosberg</td>\n",
       "      <td>6</td>\n",
       "      <td>ROS</td>\n",
       "      <td>Nico</td>\n",
       "      <td>Rosberg</td>\n",
       "      <td>1985-06-27</td>\n",
       "      <td>German</td>\n",
       "      <td>http://en.wikipedia.org/wiki/Nico_Rosberg</td>\n",
       "    </tr>\n",
       "    <tr>\n",
       "      <td>3</td>\n",
       "      <td>4</td>\n",
       "      <td>alonso</td>\n",
       "      <td>14</td>\n",
       "      <td>ALO</td>\n",
       "      <td>Fernando</td>\n",
       "      <td>Alonso</td>\n",
       "      <td>1981-07-29</td>\n",
       "      <td>Spanish</td>\n",
       "      <td>http://en.wikipedia.org/wiki/Fernando_Alonso</td>\n",
       "    </tr>\n",
       "    <tr>\n",
       "      <td>4</td>\n",
       "      <td>5</td>\n",
       "      <td>kovalainen</td>\n",
       "      <td>\\N</td>\n",
       "      <td>KOV</td>\n",
       "      <td>Heikki</td>\n",
       "      <td>Kovalainen</td>\n",
       "      <td>1981-10-19</td>\n",
       "      <td>Finnish</td>\n",
       "      <td>http://en.wikipedia.org/wiki/Heikki_Kovalainen</td>\n",
       "    </tr>\n",
       "    <tr>\n",
       "      <td>...</td>\n",
       "      <td>...</td>\n",
       "      <td>...</td>\n",
       "      <td>...</td>\n",
       "      <td>...</td>\n",
       "      <td>...</td>\n",
       "      <td>...</td>\n",
       "      <td>...</td>\n",
       "      <td>...</td>\n",
       "      <td>...</td>\n",
       "    </tr>\n",
       "    <tr>\n",
       "      <td>843</td>\n",
       "      <td>845</td>\n",
       "      <td>sirotkin</td>\n",
       "      <td>35</td>\n",
       "      <td>SIR</td>\n",
       "      <td>Sergey</td>\n",
       "      <td>Sirotkin</td>\n",
       "      <td>1995-08-27</td>\n",
       "      <td>Russian</td>\n",
       "      <td>http://en.wikipedia.org/wiki/Sergey_Sirotkin_(...</td>\n",
       "    </tr>\n",
       "    <tr>\n",
       "      <td>844</td>\n",
       "      <td>846</td>\n",
       "      <td>norris</td>\n",
       "      <td>4</td>\n",
       "      <td>NOR</td>\n",
       "      <td>Lando</td>\n",
       "      <td>Norris</td>\n",
       "      <td>1999-11-13</td>\n",
       "      <td>British</td>\n",
       "      <td>http://en.wikipedia.org/wiki/Lando_Norris</td>\n",
       "    </tr>\n",
       "    <tr>\n",
       "      <td>845</td>\n",
       "      <td>847</td>\n",
       "      <td>russell</td>\n",
       "      <td>63</td>\n",
       "      <td>RUS</td>\n",
       "      <td>George</td>\n",
       "      <td>Russell</td>\n",
       "      <td>1998-02-15</td>\n",
       "      <td>British</td>\n",
       "      <td>http://en.wikipedia.org/wiki/George_Russell_%2...</td>\n",
       "    </tr>\n",
       "    <tr>\n",
       "      <td>846</td>\n",
       "      <td>848</td>\n",
       "      <td>albon</td>\n",
       "      <td>23</td>\n",
       "      <td>ALB</td>\n",
       "      <td>Alexander</td>\n",
       "      <td>Albon</td>\n",
       "      <td>1996-03-23</td>\n",
       "      <td>Thai</td>\n",
       "      <td>http://en.wikipedia.org/wiki/Alexander_Albon</td>\n",
       "    </tr>\n",
       "    <tr>\n",
       "      <td>847</td>\n",
       "      <td>849</td>\n",
       "      <td>latifi</td>\n",
       "      <td>6</td>\n",
       "      <td>LAT</td>\n",
       "      <td>Nicholas</td>\n",
       "      <td>Latifi</td>\n",
       "      <td>1995-06-29</td>\n",
       "      <td>Canadian</td>\n",
       "      <td>http://en.wikipedia.org/wiki/Nicholas_Latifi</td>\n",
       "    </tr>\n",
       "  </tbody>\n",
       "</table>\n",
       "<p>848 rows × 9 columns</p>\n",
       "</div>"
      ],
      "text/plain": [
       "     driverId   driverRef number code   forename     surname         dob  \\\n",
       "0           1    hamilton     44  HAM      Lewis    Hamilton  1985-01-07   \n",
       "1           2    heidfeld     \\N  HEI       Nick    Heidfeld  1977-05-10   \n",
       "2           3     rosberg      6  ROS       Nico     Rosberg  1985-06-27   \n",
       "3           4      alonso     14  ALO   Fernando      Alonso  1981-07-29   \n",
       "4           5  kovalainen     \\N  KOV     Heikki  Kovalainen  1981-10-19   \n",
       "..        ...         ...    ...  ...        ...         ...         ...   \n",
       "843       845    sirotkin     35  SIR     Sergey    Sirotkin  1995-08-27   \n",
       "844       846      norris      4  NOR      Lando      Norris  1999-11-13   \n",
       "845       847     russell     63  RUS     George     Russell  1998-02-15   \n",
       "846       848       albon     23  ALB  Alexander       Albon  1996-03-23   \n",
       "847       849      latifi      6  LAT   Nicholas      Latifi  1995-06-29   \n",
       "\n",
       "    nationality                                                url  \n",
       "0       British        http://en.wikipedia.org/wiki/Lewis_Hamilton  \n",
       "1        German         http://en.wikipedia.org/wiki/Nick_Heidfeld  \n",
       "2        German          http://en.wikipedia.org/wiki/Nico_Rosberg  \n",
       "3       Spanish       http://en.wikipedia.org/wiki/Fernando_Alonso  \n",
       "4       Finnish     http://en.wikipedia.org/wiki/Heikki_Kovalainen  \n",
       "..          ...                                                ...  \n",
       "843     Russian  http://en.wikipedia.org/wiki/Sergey_Sirotkin_(...  \n",
       "844     British          http://en.wikipedia.org/wiki/Lando_Norris  \n",
       "845     British  http://en.wikipedia.org/wiki/George_Russell_%2...  \n",
       "846        Thai       http://en.wikipedia.org/wiki/Alexander_Albon  \n",
       "847    Canadian       http://en.wikipedia.org/wiki/Nicholas_Latifi  \n",
       "\n",
       "[848 rows x 9 columns]"
      ]
     },
     "execution_count": 21,
     "metadata": {},
     "output_type": "execute_result"
    }
   ],
   "source": [
    "file= open(path_to_data+'drivers.csv','r')\n",
    "drivers = pd.read_csv(file)\n",
    "drivers"
   ]
  },
  {
   "cell_type": "code",
   "execution_count": 22,
   "metadata": {},
   "outputs": [],
   "source": [
    "drivers['surname'] = drivers['surname'].str.replace(\"d'Orey\",'dOrey')\n",
    "drivers['surname'] = drivers['surname'].str.replace(\"d'Ambrosio\",'dAmbrosio')\n",
    "drivers['surname'] = drivers['surname'].str.replace(\"O'Connor\",'OConnor')\n",
    "drivers['surname'] = drivers['surname'].str.replace(\"O'Brien\",'OBrien')"
   ]
  },
  {
   "cell_type": "code",
   "execution_count": 23,
   "metadata": {},
   "outputs": [],
   "source": [
    "drivers = drivers.replace(to_replace =r\"\\N\", \n",
    "                 value =\"NA\") "
   ]
  },
  {
   "cell_type": "code",
   "execution_count": 24,
   "metadata": {},
   "outputs": [],
   "source": [
    "driverId = drivers['driverId'].to_list()\n",
    "driverRef = drivers['driverRef'].to_list()\n",
    "number = drivers['number'].to_list()\n",
    "code = drivers['code'].to_list()\n",
    "forename = drivers['forename'].to_list()\n",
    "surname = drivers['surname'].to_list()\n",
    "nationality = drivers['nationality'].to_list()\n",
    "#my_list"
   ]
  },
  {
   "cell_type": "code",
   "execution_count": 50,
   "metadata": {},
   "outputs": [
    {
     "data": {
      "text/plain": [
       "[25]"
      ]
     },
     "execution_count": 50,
     "metadata": {},
     "output_type": "execute_result"
    }
   ],
   "source": [
    "# client.command(\"CREATE Class Drivers EXTENDS V\")"
   ]
  },
  {
   "cell_type": "code",
   "execution_count": 51,
   "metadata": {},
   "outputs": [],
   "source": [
    "# Initialize Batch Commands Array\n",
    "batch_cmds = ['begin']"
   ]
  },
  {
   "cell_type": "code",
   "execution_count": 52,
   "metadata": {},
   "outputs": [],
   "source": [
    "for a, b in zip(range(len(driverId)), driverId):\n",
    "    command = (\"CREATE VERTEX Drivers \"\n",
    "               \"SET driverId = '%s', driverRef = '%s', forename ='%s', surname= '%s', nationality= '%s'\"\n",
    "          % (b,\n",
    "             driverRef[a],\n",
    "             forename[a],\n",
    "             surname[a],\n",
    "             nationality[a]\n",
    "            ))\n",
    "    batch_cmds.append(command)"
   ]
  },
  {
   "cell_type": "code",
   "execution_count": 53,
   "metadata": {},
   "outputs": [],
   "source": [
    "# Add Batch Commit\n",
    "batch_cmds.append('commit retry 100;')"
   ]
  },
  {
   "cell_type": "code",
   "execution_count": 54,
   "metadata": {},
   "outputs": [],
   "source": [
    "# Join with Semicolons\n",
    "cmd = ';'.join(batch_cmds)"
   ]
  },
  {
   "cell_type": "code",
   "execution_count": 55,
   "metadata": {},
   "outputs": [],
   "source": [
    "# Execute Commands\n",
    "results = client.batch(cmd)"
   ]
  },
  {
   "cell_type": "markdown",
   "metadata": {},
   "source": [
    "### Results "
   ]
  },
  {
   "cell_type": "code",
   "execution_count": 25,
   "metadata": {},
   "outputs": [
    {
     "data": {
      "text/html": [
       "<div>\n",
       "<style scoped>\n",
       "    .dataframe tbody tr th:only-of-type {\n",
       "        vertical-align: middle;\n",
       "    }\n",
       "\n",
       "    .dataframe tbody tr th {\n",
       "        vertical-align: top;\n",
       "    }\n",
       "\n",
       "    .dataframe thead th {\n",
       "        text-align: right;\n",
       "    }\n",
       "</style>\n",
       "<table border=\"1\" class=\"dataframe\">\n",
       "  <thead>\n",
       "    <tr style=\"text-align: right;\">\n",
       "      <th></th>\n",
       "      <th>resultId</th>\n",
       "      <th>raceId</th>\n",
       "      <th>driverId</th>\n",
       "      <th>constructorId</th>\n",
       "      <th>number</th>\n",
       "      <th>grid</th>\n",
       "      <th>position</th>\n",
       "      <th>positionText</th>\n",
       "      <th>positionOrder</th>\n",
       "      <th>points</th>\n",
       "      <th>laps</th>\n",
       "      <th>time</th>\n",
       "      <th>milliseconds</th>\n",
       "      <th>fastestLap</th>\n",
       "      <th>rank</th>\n",
       "      <th>fastestLapTime</th>\n",
       "      <th>fastestLapSpeed</th>\n",
       "      <th>statusId</th>\n",
       "    </tr>\n",
       "  </thead>\n",
       "  <tbody>\n",
       "    <tr>\n",
       "      <td>0</td>\n",
       "      <td>1</td>\n",
       "      <td>18</td>\n",
       "      <td>1</td>\n",
       "      <td>1</td>\n",
       "      <td>22</td>\n",
       "      <td>1</td>\n",
       "      <td>1</td>\n",
       "      <td>1</td>\n",
       "      <td>1</td>\n",
       "      <td>10.0</td>\n",
       "      <td>58</td>\n",
       "      <td>1:34:50.616</td>\n",
       "      <td>5690616</td>\n",
       "      <td>39</td>\n",
       "      <td>2</td>\n",
       "      <td>1:27.452</td>\n",
       "      <td>218.300</td>\n",
       "      <td>1</td>\n",
       "    </tr>\n",
       "    <tr>\n",
       "      <td>1</td>\n",
       "      <td>2</td>\n",
       "      <td>18</td>\n",
       "      <td>2</td>\n",
       "      <td>2</td>\n",
       "      <td>3</td>\n",
       "      <td>5</td>\n",
       "      <td>2</td>\n",
       "      <td>2</td>\n",
       "      <td>2</td>\n",
       "      <td>8.0</td>\n",
       "      <td>58</td>\n",
       "      <td>+5.478</td>\n",
       "      <td>5696094</td>\n",
       "      <td>41</td>\n",
       "      <td>3</td>\n",
       "      <td>1:27.739</td>\n",
       "      <td>217.586</td>\n",
       "      <td>1</td>\n",
       "    </tr>\n",
       "    <tr>\n",
       "      <td>2</td>\n",
       "      <td>3</td>\n",
       "      <td>18</td>\n",
       "      <td>3</td>\n",
       "      <td>3</td>\n",
       "      <td>7</td>\n",
       "      <td>7</td>\n",
       "      <td>3</td>\n",
       "      <td>3</td>\n",
       "      <td>3</td>\n",
       "      <td>6.0</td>\n",
       "      <td>58</td>\n",
       "      <td>+8.163</td>\n",
       "      <td>5698779</td>\n",
       "      <td>41</td>\n",
       "      <td>5</td>\n",
       "      <td>1:28.090</td>\n",
       "      <td>216.719</td>\n",
       "      <td>1</td>\n",
       "    </tr>\n",
       "    <tr>\n",
       "      <td>3</td>\n",
       "      <td>4</td>\n",
       "      <td>18</td>\n",
       "      <td>4</td>\n",
       "      <td>4</td>\n",
       "      <td>5</td>\n",
       "      <td>11</td>\n",
       "      <td>4</td>\n",
       "      <td>4</td>\n",
       "      <td>4</td>\n",
       "      <td>5.0</td>\n",
       "      <td>58</td>\n",
       "      <td>+17.181</td>\n",
       "      <td>5707797</td>\n",
       "      <td>58</td>\n",
       "      <td>7</td>\n",
       "      <td>1:28.603</td>\n",
       "      <td>215.464</td>\n",
       "      <td>1</td>\n",
       "    </tr>\n",
       "    <tr>\n",
       "      <td>4</td>\n",
       "      <td>5</td>\n",
       "      <td>18</td>\n",
       "      <td>5</td>\n",
       "      <td>1</td>\n",
       "      <td>23</td>\n",
       "      <td>3</td>\n",
       "      <td>5</td>\n",
       "      <td>5</td>\n",
       "      <td>5</td>\n",
       "      <td>4.0</td>\n",
       "      <td>58</td>\n",
       "      <td>+18.014</td>\n",
       "      <td>5708630</td>\n",
       "      <td>43</td>\n",
       "      <td>1</td>\n",
       "      <td>1:27.418</td>\n",
       "      <td>218.385</td>\n",
       "      <td>1</td>\n",
       "    </tr>\n",
       "    <tr>\n",
       "      <td>...</td>\n",
       "      <td>...</td>\n",
       "      <td>...</td>\n",
       "      <td>...</td>\n",
       "      <td>...</td>\n",
       "      <td>...</td>\n",
       "      <td>...</td>\n",
       "      <td>...</td>\n",
       "      <td>...</td>\n",
       "      <td>...</td>\n",
       "      <td>...</td>\n",
       "      <td>...</td>\n",
       "      <td>...</td>\n",
       "      <td>...</td>\n",
       "      <td>...</td>\n",
       "      <td>...</td>\n",
       "      <td>...</td>\n",
       "      <td>...</td>\n",
       "      <td>...</td>\n",
       "    </tr>\n",
       "    <tr>\n",
       "      <td>24855</td>\n",
       "      <td>24861</td>\n",
       "      <td>1042</td>\n",
       "      <td>825</td>\n",
       "      <td>210</td>\n",
       "      <td>20</td>\n",
       "      <td>19</td>\n",
       "      <td>16</td>\n",
       "      <td>16</td>\n",
       "      <td>16</td>\n",
       "      <td>0.0</td>\n",
       "      <td>65</td>\n",
       "      <td>\\N</td>\n",
       "      <td>\\N</td>\n",
       "      <td>63</td>\n",
       "      <td>16</td>\n",
       "      <td>1:21.460</td>\n",
       "      <td>205.632</td>\n",
       "      <td>11</td>\n",
       "    </tr>\n",
       "    <tr>\n",
       "      <td>24856</td>\n",
       "      <td>24862</td>\n",
       "      <td>1042</td>\n",
       "      <td>154</td>\n",
       "      <td>210</td>\n",
       "      <td>8</td>\n",
       "      <td>18</td>\n",
       "      <td>17</td>\n",
       "      <td>17</td>\n",
       "      <td>17</td>\n",
       "      <td>0.0</td>\n",
       "      <td>65</td>\n",
       "      <td>\\N</td>\n",
       "      <td>\\N</td>\n",
       "      <td>59</td>\n",
       "      <td>17</td>\n",
       "      <td>1:21.664</td>\n",
       "      <td>205.118</td>\n",
       "      <td>11</td>\n",
       "    </tr>\n",
       "    <tr>\n",
       "      <td>24857</td>\n",
       "      <td>24863</td>\n",
       "      <td>1042</td>\n",
       "      <td>849</td>\n",
       "      <td>3</td>\n",
       "      <td>6</td>\n",
       "      <td>20</td>\n",
       "      <td>18</td>\n",
       "      <td>18</td>\n",
       "      <td>18</td>\n",
       "      <td>0.0</td>\n",
       "      <td>64</td>\n",
       "      <td>\\N</td>\n",
       "      <td>\\N</td>\n",
       "      <td>53</td>\n",
       "      <td>19</td>\n",
       "      <td>1:21.859</td>\n",
       "      <td>204.629</td>\n",
       "      <td>12</td>\n",
       "    </tr>\n",
       "    <tr>\n",
       "      <td>24858</td>\n",
       "      <td>24864</td>\n",
       "      <td>1042</td>\n",
       "      <td>826</td>\n",
       "      <td>213</td>\n",
       "      <td>26</td>\n",
       "      <td>13</td>\n",
       "      <td>19</td>\n",
       "      <td>19</td>\n",
       "      <td>19</td>\n",
       "      <td>0.0</td>\n",
       "      <td>64</td>\n",
       "      <td>\\N</td>\n",
       "      <td>\\N</td>\n",
       "      <td>59</td>\n",
       "      <td>8</td>\n",
       "      <td>1:20.449</td>\n",
       "      <td>208.216</td>\n",
       "      <td>12</td>\n",
       "    </tr>\n",
       "    <tr>\n",
       "      <td>24859</td>\n",
       "      <td>24865</td>\n",
       "      <td>1042</td>\n",
       "      <td>840</td>\n",
       "      <td>211</td>\n",
       "      <td>18</td>\n",
       "      <td>12</td>\n",
       "      <td>\\N</td>\n",
       "      <td>R</td>\n",
       "      <td>20</td>\n",
       "      <td>0.0</td>\n",
       "      <td>51</td>\n",
       "      <td>\\N</td>\n",
       "      <td>\\N</td>\n",
       "      <td>45</td>\n",
       "      <td>18</td>\n",
       "      <td>1:21.694</td>\n",
       "      <td>205.043</td>\n",
       "      <td>130</td>\n",
       "    </tr>\n",
       "  </tbody>\n",
       "</table>\n",
       "<p>24860 rows × 18 columns</p>\n",
       "</div>"
      ],
      "text/plain": [
       "       resultId  raceId  driverId  constructorId number  grid position  \\\n",
       "0             1      18         1              1     22     1        1   \n",
       "1             2      18         2              2      3     5        2   \n",
       "2             3      18         3              3      7     7        3   \n",
       "3             4      18         4              4      5    11        4   \n",
       "4             5      18         5              1     23     3        5   \n",
       "...         ...     ...       ...            ...    ...   ...      ...   \n",
       "24855     24861    1042       825            210     20    19       16   \n",
       "24856     24862    1042       154            210      8    18       17   \n",
       "24857     24863    1042       849              3      6    20       18   \n",
       "24858     24864    1042       826            213     26    13       19   \n",
       "24859     24865    1042       840            211     18    12       \\N   \n",
       "\n",
       "      positionText  positionOrder  points  laps         time milliseconds  \\\n",
       "0                1              1    10.0    58  1:34:50.616      5690616   \n",
       "1                2              2     8.0    58       +5.478      5696094   \n",
       "2                3              3     6.0    58       +8.163      5698779   \n",
       "3                4              4     5.0    58      +17.181      5707797   \n",
       "4                5              5     4.0    58      +18.014      5708630   \n",
       "...            ...            ...     ...   ...          ...          ...   \n",
       "24855           16             16     0.0    65           \\N           \\N   \n",
       "24856           17             17     0.0    65           \\N           \\N   \n",
       "24857           18             18     0.0    64           \\N           \\N   \n",
       "24858           19             19     0.0    64           \\N           \\N   \n",
       "24859            R             20     0.0    51           \\N           \\N   \n",
       "\n",
       "      fastestLap rank fastestLapTime fastestLapSpeed  statusId  \n",
       "0             39    2       1:27.452         218.300         1  \n",
       "1             41    3       1:27.739         217.586         1  \n",
       "2             41    5       1:28.090         216.719         1  \n",
       "3             58    7       1:28.603         215.464         1  \n",
       "4             43    1       1:27.418         218.385         1  \n",
       "...          ...  ...            ...             ...       ...  \n",
       "24855         63   16       1:21.460         205.632        11  \n",
       "24856         59   17       1:21.664         205.118        11  \n",
       "24857         53   19       1:21.859         204.629        12  \n",
       "24858         59    8       1:20.449         208.216        12  \n",
       "24859         45   18       1:21.694         205.043       130  \n",
       "\n",
       "[24860 rows x 18 columns]"
      ]
     },
     "execution_count": 25,
     "metadata": {},
     "output_type": "execute_result"
    }
   ],
   "source": [
    "file= open(path_to_data+'results.csv','r')\n",
    "results = pd.read_csv(file)\n",
    "results"
   ]
  },
  {
   "cell_type": "code",
   "execution_count": 26,
   "metadata": {},
   "outputs": [],
   "source": [
    "results = results.replace(to_replace =r\"\\N\", \n",
    "                 value =\"NA\") "
   ]
  },
  {
   "cell_type": "code",
   "execution_count": 27,
   "metadata": {},
   "outputs": [],
   "source": [
    "resultId = results['resultId'].to_list()\n",
    "raceId = results['raceId'].to_list()\n",
    "driverId = results['driverId'].to_list()\n",
    "constructorId = results['constructorId'].to_list()\n",
    "grid = results['grid'].to_list()\n",
    "position = results['position'].to_list()\n",
    "positionOrder = results['positionOrder'].to_list()\n",
    "points = results['points'].to_list()\n",
    "laps = results['laps'].to_list()\n",
    "time = results['time'].to_list()\n",
    "rank = results['rank'].to_list()\n",
    "statusId = results['statusId'].to_list()"
   ]
  },
  {
   "cell_type": "code",
   "execution_count": 61,
   "metadata": {},
   "outputs": [
    {
     "data": {
      "text/plain": [
       "[26]"
      ]
     },
     "execution_count": 61,
     "metadata": {},
     "output_type": "execute_result"
    }
   ],
   "source": [
    "# client.command(\"CREATE Class Results EXTENDS V\")"
   ]
  },
  {
   "cell_type": "code",
   "execution_count": 20,
   "metadata": {},
   "outputs": [],
   "source": [
    "import socket\n",
    "socks = socket.socket(socket.AF_INET, socket.SOCK_STREAM)\n",
    "socks.settimeout(1500.0) # settimeout is the attr of socks."
   ]
  },
  {
   "cell_type": "code",
   "execution_count": 63,
   "metadata": {},
   "outputs": [],
   "source": [
    "# Initialize Batch Commands Array\n",
    "batch_cmds = ['begin']"
   ]
  },
  {
   "cell_type": "code",
   "execution_count": 64,
   "metadata": {},
   "outputs": [],
   "source": [
    "for a, b, c,d, e, f,g,h,i, in zip(resultId, raceId, driverId, constructorId, position, positionOrder, points, rank, statusId):\n",
    "    command = (\"CREATE VERTEX Results \"\n",
    "               \"SET resultId = '%s', raceId = '%s', driverId ='%s', constructorId ='%s',position= '%s', positionOrder='%s', points= '%s',rank='%s' , statusId= '%s'\"\n",
    "          % (a,\n",
    "             b,\n",
    "             c,\n",
    "             d,\n",
    "             e,\n",
    "             f,\n",
    "             g,\n",
    "             h,\n",
    "             i\n",
    "            ))\n",
    "    batch_cmds.append(command)"
   ]
  },
  {
   "cell_type": "code",
   "execution_count": 65,
   "metadata": {},
   "outputs": [],
   "source": [
    "# Add Batch Commit\n",
    "batch_cmds.append('commit retry 100;')"
   ]
  },
  {
   "cell_type": "code",
   "execution_count": 66,
   "metadata": {},
   "outputs": [],
   "source": [
    "# Join with Semicolons\n",
    "cmd = ';'.join(batch_cmds)"
   ]
  },
  {
   "cell_type": "code",
   "execution_count": 67,
   "metadata": {},
   "outputs": [],
   "source": [
    "# Execute Commands\n",
    "results = client.batch(cmd)"
   ]
  },
  {
   "cell_type": "markdown",
   "metadata": {},
   "source": [
    "## Creating edges "
   ]
  },
  {
   "cell_type": "code",
   "execution_count": 68,
   "metadata": {},
   "outputs": [
    {
     "data": {
      "text/plain": [
       "[30]"
      ]
     },
     "execution_count": 68,
     "metadata": {},
     "output_type": "execute_result"
    }
   ],
   "source": [
    "client.command(\"CREATE Class took_place_on EXTENDS E\") # Course s'est passé au Circuit \n",
    "client.command(\"CREATE Class d_results EXTENDS E\") # Driver/Constructeur result for a Course\n",
    "client.command(\"CREATE Class c_results EXTENDS E\") # Driver/Constructeur result for a Course\n",
    "client.command(\"CREATE Class participated_to EXTENDS E\") # Driver/Constructeur a participé à Course"
   ]
  },
  {
   "cell_type": "markdown",
   "metadata": {},
   "source": [
    "### Race took_place_on Circuit"
   ]
  },
  {
   "cell_type": "code",
   "execution_count": 373,
   "metadata": {},
   "outputs": [
    {
     "data": {
      "text/plain": [
       "[29]"
      ]
     },
     "execution_count": 373,
     "metadata": {},
     "output_type": "execute_result"
    }
   ],
   "source": [
    "#client.command(\"CREATE Class took_place_on EXTENDS E\") # Course s'est passé au Circuit "
   ]
  },
  {
   "cell_type": "raw",
   "metadata": {
    "jupyter": {
     "outputs_hidden": true
    }
   },
   "source": [
    "#for i, j in zip(races[\"raceId\"], races[\"circuitId\"]):\n",
    "#    print(i, j)"
   ]
  },
  {
   "cell_type": "code",
   "execution_count": 69,
   "metadata": {},
   "outputs": [],
   "source": [
    "# Initialize Batch Commands Array\n",
    "batch_cmds = ['begin']"
   ]
  },
  {
   "cell_type": "code",
   "execution_count": 70,
   "metadata": {},
   "outputs": [],
   "source": [
    "for i, j in zip(races[\"raceId\"], races[\"circuitId\"]):\n",
    "    command = (\"CREATE EDGE took_place_on FROM (SELECT * FROM Races WHERE raceId = %s) TO \" \n",
    "          \"(SELECT * FROM Circuits WHERE circuitId = %s)\"\n",
    "    %(i,\n",
    "      j\n",
    "    ))\n",
    "    batch_cmds.append(command)"
   ]
  },
  {
   "cell_type": "code",
   "execution_count": 71,
   "metadata": {},
   "outputs": [],
   "source": [
    "# Add Batch Commit\n",
    "batch_cmds.append('commit retry 100;')"
   ]
  },
  {
   "cell_type": "code",
   "execution_count": 72,
   "metadata": {},
   "outputs": [],
   "source": [
    "# Join with Semicolons\n",
    "cmd = ';'.join(batch_cmds)"
   ]
  },
  {
   "cell_type": "code",
   "execution_count": 73,
   "metadata": {},
   "outputs": [],
   "source": [
    "# Execute Commands\n",
    "results = client.batch(cmd)"
   ]
  },
  {
   "cell_type": "markdown",
   "metadata": {},
   "source": [
    "#### Driver result on Race : d_results"
   ]
  },
  {
   "cell_type": "code",
   "execution_count": null,
   "metadata": {},
   "outputs": [],
   "source": [
    "client.command(\"CREATE Class d_results EXTENDS E\") # Driver result for a Race"
   ]
  },
  {
   "cell_type": "code",
   "execution_count": null,
   "metadata": {},
   "outputs": [],
   "source": [
    "batch_cmds = ['begin']\n",
    "for i, j in zip(results[\"driverId\"], results[\"resultId\"]):\n",
    "    command = (\"CREATE EDGE d_results FROM (SELECT * FROM Drivers WHERE driverId = %s) TO \" \n",
    "          \"(SELECT * FROM Results WHERE resultId = %s)\"\n",
    "    %(i,\n",
    "      j\n",
    "    ))\n",
    "    batch_cmds.append(command)\n",
    "# Add Batch Commit\n",
    "batch_cmds.append('commit retry 100;')\n",
    "# Join with Semicolons\n",
    "cmd = ';'.join(batch_cmds)\n",
    "# Execute Commands\n",
    "results = client.batch(cmd)"
   ]
  },
  {
   "cell_type": "markdown",
   "metadata": {},
   "source": [
    "#### Constructor result on Race : c_results"
   ]
  },
  {
   "cell_type": "code",
   "execution_count": null,
   "metadata": {},
   "outputs": [],
   "source": [
    "client.command(\"CREATE Class c_results EXTENDS E\") # Constructeur result for a Race"
   ]
  },
  {
   "cell_type": "code",
   "execution_count": null,
   "metadata": {},
   "outputs": [],
   "source": [
    "batch_cmds = ['begin']\n",
    "for i, j in zip(results[\"constructorId\"], results[\"resultId\"]):\n",
    "    command = (\"CREATE EDGE c_results FROM (SELECT * FROM Constructors WHERE constructorId = %s) TO \" \n",
    "          \"(SELECT * FROM Results WHERE resultId = %s)\"\n",
    "    %(i,\n",
    "      j\n",
    "    ))\n",
    "    batch_cmds.append(command)\n",
    "# Add Batch Commit\n",
    "batch_cmds.append('commit retry 100;')\n",
    "# Join with Semicolons\n",
    "cmd = ';'.join(batch_cmds)\n",
    "# Execute Commands\n",
    "results = client.batch(cmd)"
   ]
  },
  {
   "cell_type": "markdown",
   "metadata": {},
   "source": [
    "#### Pilote participated to Race"
   ]
  },
  {
   "cell_type": "code",
   "execution_count": null,
   "metadata": {},
   "outputs": [],
   "source": [
    "client.command(\"CREATE Class participated_to EXTENDS E\") # Driver/Constructeur a participé à Course"
   ]
  },
  {
   "cell_type": "code",
   "execution_count": 21,
   "metadata": {},
   "outputs": [],
   "source": [
    "batch_cmds = ['begin']\n",
    "for i, j in zip(results[\"driverId\"], results[\"raceId\"]):\n",
    "    command = (\"CREATE EDGE participated_to FROM (SELECT * FROM Drivers WHERE driverId = %s) TO \" \n",
    "          \"(SELECT * FROM Races WHERE raceId = %s)\"\n",
    "    %(i,\n",
    "      j\n",
    "    ))\n",
    "    batch_cmds.append(command)\n",
    "# Add Batch Commit\n",
    "batch_cmds.append('commit retry 100;')\n",
    "# Join with Semicolons\n",
    "cmd = ';'.join(batch_cmds)\n",
    "# Execute Commands\n",
    "results = client.batch(cmd)"
   ]
  },
  {
   "cell_type": "code",
   "execution_count": null,
   "metadata": {
    "collapsed": true,
    "jupyter": {
     "outputs_hidden": true
    }
   },
   "outputs": [],
   "source": [
    "end = time.time()\n",
    "print(\"La création de la base de donnée avec pyOrient a nécessité\" + \" \" + str(round(end - start, 2)) + \"s\")"
   ]
  },
  {
   "cell_type": "markdown",
   "metadata": {},
   "source": [
    "   > - ##### Sur Neo4J"
   ]
  },
  {
   "cell_type": "code",
   "execution_count": null,
   "metadata": {},
   "outputs": [],
   "source": [
    "from py2neo import Graph, Node, Relationship\n",
    "from  py2neo.ogm import *"
   ]
  },
  {
   "cell_type": "markdown",
   "metadata": {},
   "source": [
    "# En amont :\n",
    "-  Ouvrir Neo4j et créer une nouvel base locale intitulée \"Formule1\"\n",
    "-  avec mot de passe : Neo4j\n",
    "-  La demarrer \n",
    "-  et l'ouvrir "
   ]
  },
  {
   "cell_type": "code",
   "execution_count": null,
   "metadata": {},
   "outputs": [],
   "source": [
    "graph_db = Graph(\"bolt://127.0.0.1:7687\", auth=(\"neo4j\", \"merlin\"))"
   ]
  },
  {
   "cell_type": "code",
   "execution_count": null,
   "metadata": {},
   "outputs": [],
   "source": [
    "Start2 = tm.time()"
   ]
  },
  {
   "cell_type": "markdown",
   "metadata": {},
   "source": [
    "Pour Constructors (détailler ici)"
   ]
  },
  {
   "cell_type": "code",
   "execution_count": null,
   "metadata": {},
   "outputs": [],
   "source": [
    "constructors = {}\n",
    "\n",
    "with open(path_to_data+\"constructors.csv\", \"r\") as f:\n",
    "    first = True\n",
    "    for l in f :\n",
    "        if not first:\n",
    "            col = l.split(\",\")\n",
    "            constructors[col[0]] =  Node(\"Constructor\",\n",
    "                                  id = int(col[0]),\n",
    "                                  name = str(col[2]),\n",
    "                                  nationalityC=str(col[3])) #rajouter.strip a la fin si marche pas ?\n",
    "        else :\n",
    "            first = False\n",
    "            \n",
    "pd.DataFrame(constructors)"
   ]
  },
  {
   "cell_type": "code",
   "execution_count": null,
   "metadata": {},
   "outputs": [],
   "source": [
    "constructors = {}\n",
    "\n",
    "with open(path_to_data+\"constructors.csv\", \"r\") as f:\n",
    "    first = True\n",
    "    for l in f :\n",
    "        if not first:\n",
    "            col = l.split(\",\")\n",
    "            constructors[col[0]] =  Node(\"Constructor\",\n",
    "                                  id = int(col[0]),\n",
    "                                  name = str(col[2]),\n",
    "                                  nationalityC=str(col[3])) #rajouter.strip a la fin si marche pas ?\n",
    "        else :\n",
    "            first = False           \n",
    "# pd.DataFrame(constructors)\n",
    "\n",
    "races = {}\n",
    "\n",
    "with open(path_to_data+\"races.csv\", \"r\") as f:\n",
    "    first = True\n",
    "    for l in f :\n",
    "        if not first:\n",
    "            col = l.split(\",\")\n",
    "            races[col[0]] =  Node(\"Race\",\n",
    "                                  id = int(col[0]),\n",
    "                                  year= int(col[1]),\n",
    "                                  tour=str(col[2]),\n",
    "                                  circuitId=int(col[3]),\n",
    "                                  name=str(col[4]),\n",
    "                                  date=str(col[5])) #rajouter.strip a la fin si marche pas ?\n",
    "        else :\n",
    "            first = False\n",
    "\n",
    "#pd.DataFrame(races)\n",
    "\n",
    "# ____# Table pilote #_______\n",
    "drivers = {}\n",
    "\n",
    "with open(path_to_data+\"drivers.csv\", \"r\", errors='ignore', encoding='utf-8') as f:\n",
    "    first = True\n",
    "    for l in f :\n",
    "        if not first:\n",
    "            col = l.split(\",\")\n",
    "            drivers[col[0]] =  Node(\"drivers\",\n",
    "                                  id = int(col[0]),\n",
    "                                  code= str(col[3]),\n",
    "                                  name=str(col[4]),\n",
    "                                  surname=str(col[5]),\n",
    "                                  birth=str(col[6]),\n",
    "                                  nationality=str(col[7]))\n",
    "        else :\n",
    "            first = False\n",
    "\n",
    "# pd.DataFrame(drivers)\n",
    "\n",
    "#____# Table Résultats #_______\n",
    "results = {}\n",
    "df = pd.read_csv(path_to_data+\"results.csv\",delimiter=\",\")\n",
    "\n",
    "for index,row in df.iterrows():\n",
    "    #print(row)\n",
    "    results[row['resultId']] = Node(\"Result\",\n",
    "                                id=int(row['resultId']),\n",
    "                                race=int(row[\"raceId\"]),\n",
    "                                driver=int(row[\"driverId\"]),\n",
    "                                constructor=int(row[\"constructorId\"]),\n",
    "                                position=str(row[\"position\"]),\n",
    "                                positionOrder=str(row[\"positionOrder\"]),\n",
    "                                points=int(row[\"points\"]),\n",
    "                                time=str(row[\"time\"]),\n",
    "                                rank=str(row[\"rank\"])\n",
    "# pd.DataFrame(results)"
   ]
  },
  {
   "cell_type": "code",
   "execution_count": null,
   "metadata": {},
   "outputs": [],
   "source": [
    "\n",
    "############################ RELATION ENTRE LES TABLES ############################\n",
    "rel=[]\n",
    "\n",
    "# Dans cette partie nous créeons les relations entre les tables et les noeuds. \n",
    "# La première relation serra plus detaillée dans sa construction afin de servir d'exemple pour la réalisation des suivantes. \n",
    "\n",
    "# Exemple : On va chercher a créer une relation entre la course et le circuit sur lequel elle a lieu\n",
    "\n",
    "# Relation Race-Circuit : \"SUR LE CIRCUIT\" ###\n",
    "# La première étape consiste à importer le document csv ou les deux informations sont reliées (présentes sur sur la même ligne).\n",
    "df = pd.read_csv(path_to_data+\"races.csv\",delimiter=\",\")\n",
    "\n",
    "# Puis le principe consiste à indiquer dans quelle colone (du document csv) on va retrouver l'information.\n",
    "# (On peut le faire par le numéro de la colonne avec l.split ou avec le nom de la colonne)\n",
    "for index,row in df.iterrows():\n",
    "    course = races[str(row['raceId'])]\n",
    "    # Pour l'information concernant la course c'est dans la colonne 'raceId' \n",
    "    # Pour la première ligne, raceId = 1 \n",
    "    circuit = circuits[str(row['circuitId'])]\n",
    "    # Pour l'information concernant le circuit c'est dans la colonne 'circuitId'\n",
    "    # Pour la première ligne du doc csv, circuitId = 1 \n",
    "    rel.append(Relationship(course,\"Took_place_on\",circuit))\n",
    "    # Ici on lie alors par la relation \"SUR LE CIRCUIT\" \n",
    "    # le noeud de la base circuit, dont le circuitId = 1,  \n",
    "    # avec le noeud de la base races, dont le raceId = 1. "
   ]
  },
  {
   "cell_type": "code",
   "execution_count": null,
   "metadata": {},
   "outputs": [],
   "source": [
    "# Les relations suivantes suivent la même méthode/structure\n",
    "    \n",
    "# relation Pilote - Course : \"A PARTICIPE\" ### \n",
    "df = pd.read_csv(path_to_data+\"results.csv\",delimiter=\",\")\n",
    "for index,row in df.iterrows():\n",
    "    course = races[str(row['raceId'])]\n",
    "    pilote = drivers[str(row['driverId'])]\n",
    "    rel.append(Relationship(pilote,\"Participated_to\",course))\n",
    "\n",
    "    \n",
    "# Relation Résulats - Pilote ###\n",
    "df = pd.read_csv(path_to_data+\"results.csv\",delimiter=\",\")\n",
    "for index,row in df.iterrows():\n",
    "    resultat = results[row['resultId']]\n",
    "    pilote = drivers[str(row['driverId'])]\n",
    "    rel.append(Relationship(pilote,\"d_results\",resultat))\n",
    "\n",
    "# Relation Résulats - Ecurie ###\n",
    "df = pd.read_csv(path_to_data+\"results.csv\",delimiter=\",\")\n",
    "for index,row in df.iterrows():\n",
    "    resultat = results[row['resultId']]\n",
    "    constructeur = constructors[str(row['constructorId'])]\n",
    "    rel.append(Relationship(constructeur,\"c_results\",resultat))\n",
    "    \n",
    "for r in rel :\n",
    "    graph_db.create(r)\n",
    "\n",
    "end2 = tm.time()\n",
    "print(\"La création de la base de donnée avec py2neo a nécessité\" + \" \" + str(round(end - start, 2)) + \"s\")"
   ]
  },
  {
   "cell_type": "code",
   "execution_count": null,
   "metadata": {},
   "outputs": [],
   "source": [
    "# Check if databse well created \n",
    "from py2neo import Graph\n",
    "graph = Graph(\"bolt://localhost:7687\", auth=(\"neo4j\", \"merlin\"))\n",
    "try:\n",
    "    graph.run(\"Match () Return 1 Limit 1\")\n",
    "    print('ok')\n",
    "except Exception:\n",
    "    print('not ok')"
   ]
  },
  {
   "cell_type": "code",
   "execution_count": null,
   "metadata": {},
   "outputs": [],
   "source": []
  },
  {
   "cell_type": "markdown",
   "metadata": {},
   "source": [
    "> #### c. Requêtes"
   ]
  },
  {
   "cell_type": "markdown",
   "metadata": {},
   "source": [
    "  > ###### Récupération de quantité limitée de données pour vérifier la bonne mise en place de la base de donnée"
   ]
  },
  {
   "cell_type": "code",
   "execution_count": null,
   "metadata": {},
   "outputs": [],
   "source": [
    "client.command(\"SELECT * FROM took_place_on LIMIT 25\")"
   ]
  },
  {
   "cell_type": "code",
   "execution_count": null,
   "metadata": {},
   "outputs": [],
   "source": [
    "# 1) Get some data # ok\n",
    "print(tabulate(list(graph_db.run(\"MATCH (n1)-[r]->(n2) RETURN r, n1, n2 LIMIT 20\"))))  "
   ]
  },
  {
   "cell_type": "markdown",
   "metadata": {},
   "source": [
    "  > ###### List of German pilots "
   ]
  },
  {
   "cell_type": "code",
   "execution_count": 36,
   "metadata": {
    "collapsed": true,
    "jupyter": {
     "outputs_hidden": true
    }
   },
   "outputs": [
    {
     "ename": "PyOrientCommandException",
     "evalue": " - ",
     "output_type": "error",
     "traceback": [
      "\u001b[0;31m---------------------------------------------------------------------------\u001b[0m",
      "\u001b[0;31mPyOrientCommandException\u001b[0m                  Traceback (most recent call last)",
      "\u001b[0;32m<ipython-input-36-c4ec60bd08cd>\u001b[0m in \u001b[0;36m<module>\u001b[0;34m\u001b[0m\n\u001b[1;32m      1\u001b[0m \u001b[0mstart2\u001b[0m \u001b[0;34m=\u001b[0m \u001b[0mtm\u001b[0m\u001b[0;34m.\u001b[0m\u001b[0mtime\u001b[0m\u001b[0;34m(\u001b[0m\u001b[0;34m)\u001b[0m\u001b[0;34m\u001b[0m\u001b[0;34m\u001b[0m\u001b[0m\n\u001b[1;32m      2\u001b[0m \u001b[0;34m\u001b[0m\u001b[0m\n\u001b[0;32m----> 3\u001b[0;31m \u001b[0mgerman_pilots\u001b[0m \u001b[0;34m=\u001b[0m \u001b[0mclient\u001b[0m\u001b[0;34m.\u001b[0m\u001b[0mcommand\u001b[0m\u001b[0;34m(\u001b[0m\u001b[0;34m\"SELECT forename, surname, nationality FROM Drivers2 WHERE nationality='German'\"\u001b[0m\u001b[0;34m)\u001b[0m\u001b[0;34m\u001b[0m\u001b[0;34m\u001b[0m\u001b[0m\n\u001b[0m\u001b[1;32m      4\u001b[0m \u001b[0mpilots_list\u001b[0m \u001b[0;34m=\u001b[0m \u001b[0;34m[\u001b[0m\u001b[0;34m]\u001b[0m\u001b[0;34m\u001b[0m\u001b[0;34m\u001b[0m\u001b[0m\n\u001b[1;32m      5\u001b[0m \u001b[0mvalues_dict\u001b[0m \u001b[0;34m=\u001b[0m \u001b[0;34m[\u001b[0m\u001b[0;34m]\u001b[0m\u001b[0;34m\u001b[0m\u001b[0;34m\u001b[0m\u001b[0m\n",
      "\u001b[0;32m~/.local/lib/python3.7/site-packages/pyorient-1.5.5-py3.7.egg/pyorient/orient.py\u001b[0m in \u001b[0;36mcommand\u001b[0;34m(self, *args)\u001b[0m\n\u001b[1;32m    461\u001b[0m     \u001b[0;32mdef\u001b[0m \u001b[0mcommand\u001b[0m\u001b[0;34m(\u001b[0m\u001b[0mself\u001b[0m\u001b[0;34m,\u001b[0m \u001b[0;34m*\u001b[0m\u001b[0margs\u001b[0m\u001b[0;34m)\u001b[0m\u001b[0;34m:\u001b[0m\u001b[0;34m\u001b[0m\u001b[0;34m\u001b[0m\u001b[0m\n\u001b[1;32m    462\u001b[0m         \u001b[0;32mreturn\u001b[0m \u001b[0mself\u001b[0m\u001b[0;34m.\u001b[0m\u001b[0mget_message\u001b[0m\u001b[0;34m(\u001b[0m\u001b[0;34m\"CommandMessage\"\u001b[0m\u001b[0;34m)\u001b[0m\u001b[0;31m \u001b[0m\u001b[0;31m\\\u001b[0m\u001b[0;34m\u001b[0m\u001b[0;34m\u001b[0m\u001b[0m\n\u001b[0;32m--> 463\u001b[0;31m             \u001b[0;34m.\u001b[0m\u001b[0mprepare\u001b[0m\u001b[0;34m(\u001b[0m\u001b[0;34m(\u001b[0m \u001b[0mQUERY_CMD\u001b[0m\u001b[0;34m,\u001b[0m \u001b[0;34m)\u001b[0m \u001b[0;34m+\u001b[0m \u001b[0margs\u001b[0m\u001b[0;34m)\u001b[0m\u001b[0;34m.\u001b[0m\u001b[0msend\u001b[0m\u001b[0;34m(\u001b[0m\u001b[0;34m)\u001b[0m\u001b[0;34m.\u001b[0m\u001b[0mfetch_response\u001b[0m\u001b[0;34m(\u001b[0m\u001b[0;34m)\u001b[0m\u001b[0;34m\u001b[0m\u001b[0;34m\u001b[0m\u001b[0m\n\u001b[0m\u001b[1;32m    464\u001b[0m \u001b[0;34m\u001b[0m\u001b[0m\n\u001b[1;32m    465\u001b[0m     \u001b[0;32mdef\u001b[0m \u001b[0mbatch\u001b[0m\u001b[0;34m(\u001b[0m\u001b[0mself\u001b[0m\u001b[0;34m,\u001b[0m \u001b[0;34m*\u001b[0m\u001b[0margs\u001b[0m\u001b[0;34m)\u001b[0m\u001b[0;34m:\u001b[0m\u001b[0;34m\u001b[0m\u001b[0;34m\u001b[0m\u001b[0m\n",
      "\u001b[0;32m~/.local/lib/python3.7/site-packages/pyorient-1.5.5-py3.7.egg/pyorient/messages/commands.py\u001b[0m in \u001b[0;36mfetch_response\u001b[0;34m(self)\u001b[0m\n\u001b[1;32m    142\u001b[0m \u001b[0;34m\u001b[0m\u001b[0m\n\u001b[1;32m    143\u001b[0m         \u001b[0;31m# decode header only\u001b[0m\u001b[0;34m\u001b[0m\u001b[0;34m\u001b[0m\u001b[0;34m\u001b[0m\u001b[0m\n\u001b[0;32m--> 144\u001b[0;31m         \u001b[0msuper\u001b[0m\u001b[0;34m(\u001b[0m \u001b[0mCommandMessage\u001b[0m\u001b[0;34m,\u001b[0m \u001b[0mself\u001b[0m \u001b[0;34m)\u001b[0m\u001b[0;34m.\u001b[0m\u001b[0mfetch_response\u001b[0m\u001b[0;34m(\u001b[0m\u001b[0;34m)\u001b[0m\u001b[0;34m\u001b[0m\u001b[0;34m\u001b[0m\u001b[0m\n\u001b[0m\u001b[1;32m    145\u001b[0m \u001b[0;34m\u001b[0m\u001b[0m\n\u001b[1;32m    146\u001b[0m         \u001b[0;32mif\u001b[0m \u001b[0mself\u001b[0m\u001b[0;34m.\u001b[0m\u001b[0m_command_type\u001b[0m \u001b[0;34m==\u001b[0m \u001b[0mQUERY_ASYNC\u001b[0m\u001b[0;34m:\u001b[0m\u001b[0;34m\u001b[0m\u001b[0;34m\u001b[0m\u001b[0m\n",
      "\u001b[0;32m~/.local/lib/python3.7/site-packages/pyorient-1.5.5-py3.7.egg/pyorient/messages/base.py\u001b[0m in \u001b[0;36mfetch_response\u001b[0;34m(self, *_continue)\u001b[0m\n\u001b[1;32m    263\u001b[0m         \u001b[0;31m# already fetched, get last results as cache info\u001b[0m\u001b[0;34m\u001b[0m\u001b[0;34m\u001b[0m\u001b[0;34m\u001b[0m\u001b[0m\n\u001b[1;32m    264\u001b[0m         \u001b[0;32melif\u001b[0m \u001b[0mlen\u001b[0m\u001b[0;34m(\u001b[0m\u001b[0mself\u001b[0m\u001b[0;34m.\u001b[0m\u001b[0m_body\u001b[0m\u001b[0;34m)\u001b[0m \u001b[0;32mis\u001b[0m \u001b[0;36m0\u001b[0m\u001b[0;34m:\u001b[0m\u001b[0;34m\u001b[0m\u001b[0;34m\u001b[0m\u001b[0m\n\u001b[0;32m--> 265\u001b[0;31m             \u001b[0mself\u001b[0m\u001b[0;34m.\u001b[0m\u001b[0m_decode_all\u001b[0m\u001b[0;34m(\u001b[0m\u001b[0;34m)\u001b[0m\u001b[0;34m\u001b[0m\u001b[0;34m\u001b[0m\u001b[0m\n\u001b[0m\u001b[1;32m    266\u001b[0m             \u001b[0mself\u001b[0m\u001b[0;34m.\u001b[0m\u001b[0mdump_streams\u001b[0m\u001b[0;34m(\u001b[0m\u001b[0;34m)\u001b[0m\u001b[0;34m\u001b[0m\u001b[0;34m\u001b[0m\u001b[0m\n\u001b[1;32m    267\u001b[0m         \u001b[0;32mreturn\u001b[0m \u001b[0mself\u001b[0m\u001b[0;34m.\u001b[0m\u001b[0m_body\u001b[0m\u001b[0;34m\u001b[0m\u001b[0;34m\u001b[0m\u001b[0m\n",
      "\u001b[0;32m~/.local/lib/python3.7/site-packages/pyorient-1.5.5-py3.7.egg/pyorient/messages/base.py\u001b[0m in \u001b[0;36m_decode_all\u001b[0;34m(self)\u001b[0m\n\u001b[1;32m    247\u001b[0m \u001b[0;34m\u001b[0m\u001b[0m\n\u001b[1;32m    248\u001b[0m     \u001b[0;32mdef\u001b[0m \u001b[0m_decode_all\u001b[0m\u001b[0;34m(\u001b[0m\u001b[0mself\u001b[0m\u001b[0;34m)\u001b[0m\u001b[0;34m:\u001b[0m\u001b[0;34m\u001b[0m\u001b[0;34m\u001b[0m\u001b[0m\n\u001b[0;32m--> 249\u001b[0;31m         \u001b[0mself\u001b[0m\u001b[0;34m.\u001b[0m\u001b[0m_decode_header\u001b[0m\u001b[0;34m(\u001b[0m\u001b[0;34m)\u001b[0m\u001b[0;34m\u001b[0m\u001b[0;34m\u001b[0m\u001b[0m\n\u001b[0m\u001b[1;32m    250\u001b[0m         \u001b[0mself\u001b[0m\u001b[0;34m.\u001b[0m\u001b[0m_decode_body\u001b[0m\u001b[0;34m(\u001b[0m\u001b[0;34m)\u001b[0m\u001b[0;34m\u001b[0m\u001b[0;34m\u001b[0m\u001b[0m\n\u001b[1;32m    251\u001b[0m \u001b[0;34m\u001b[0m\u001b[0m\n",
      "\u001b[0;32m~/.local/lib/python3.7/site-packages/pyorient-1.5.5-py3.7.egg/pyorient/messages/base.py\u001b[0m in \u001b[0;36m_decode_header\u001b[0;34m(self)\u001b[0m\n\u001b[1;32m    180\u001b[0m             raise PyOrientCommandException(\n\u001b[1;32m    181\u001b[0m                 \u001b[0mexception_class\u001b[0m\u001b[0;34m.\u001b[0m\u001b[0mdecode\u001b[0m\u001b[0;34m(\u001b[0m \u001b[0;34m'utf8'\u001b[0m \u001b[0;34m)\u001b[0m\u001b[0;34m,\u001b[0m\u001b[0;34m\u001b[0m\u001b[0;34m\u001b[0m\u001b[0m\n\u001b[0;32m--> 182\u001b[0;31m                 \u001b[0;34m[\u001b[0m \u001b[0mexception_message\u001b[0m\u001b[0;34m.\u001b[0m\u001b[0mdecode\u001b[0m\u001b[0;34m(\u001b[0m \u001b[0;34m'utf8'\u001b[0m \u001b[0;34m)\u001b[0m \u001b[0;34m]\u001b[0m\u001b[0;34m\u001b[0m\u001b[0;34m\u001b[0m\u001b[0m\n\u001b[0m\u001b[1;32m    183\u001b[0m             )\n\u001b[1;32m    184\u001b[0m \u001b[0;34m\u001b[0m\u001b[0m\n",
      "\u001b[0;31mPyOrientCommandException\u001b[0m:  - "
     ]
    }
   ],
   "source": [
    "start2 = tm.time()\n",
    "\n",
    "german_pilots = client.command(\"SELECT forename, surname, nationality FROM Drivers2 WHERE nationality='German'\")\n",
    "pilots_list = []\n",
    "values_dict = []\n",
    "keys_dict = []\n",
    "\n",
    "for i in range(len(german_pilots)):\n",
    "    pilots_list.append(german_pilots[i].__dict__)\n",
    "    values_dict.append(list(pilots_list[i][\"_OrientRecord__o_storage\"].values()))\n",
    "    df = pd.DataFrame(values_dict)\n",
    "    \n",
    "keys_dict = list(pilots_list[1][\"_OrientRecord__o_storage\"].keys())\n",
    "df.columns = keys_dict\n",
    "end2 = tm.time()\n",
    "df.head()"
   ]
  },
  {
   "cell_type": "code",
   "execution_count": 33,
   "metadata": {
    "collapsed": true,
    "jupyter": {
     "outputs_hidden": true
    }
   },
   "outputs": [
    {
     "ename": "NameError",
     "evalue": "name 'end2' is not defined",
     "output_type": "error",
     "traceback": [
      "\u001b[0;31m---------------------------------------------------------------------------\u001b[0m",
      "\u001b[0;31mNameError\u001b[0m                                 Traceback (most recent call last)",
      "\u001b[0;32m<ipython-input-33-40fd9114de38>\u001b[0m in \u001b[0;36m<module>\u001b[0;34m\u001b[0m\n\u001b[0;32m----> 1\u001b[0;31m \u001b[0mprint\u001b[0m\u001b[0;34m(\u001b[0m\u001b[0;34m\"L'affichage du résultat a nécessité\"\u001b[0m \u001b[0;34m+\u001b[0m \u001b[0;34m\" \"\u001b[0m \u001b[0;34m+\u001b[0m \u001b[0mstr\u001b[0m\u001b[0;34m(\u001b[0m\u001b[0mround\u001b[0m\u001b[0;34m(\u001b[0m\u001b[0mend2\u001b[0m \u001b[0;34m-\u001b[0m \u001b[0mstart2\u001b[0m\u001b[0;34m,\u001b[0m \u001b[0;36m2\u001b[0m\u001b[0;34m)\u001b[0m\u001b[0;34m)\u001b[0m \u001b[0;34m+\u001b[0m \u001b[0;34m\"s\"\u001b[0m\u001b[0;34m)\u001b[0m\u001b[0;34m\u001b[0m\u001b[0;34m\u001b[0m\u001b[0m\n\u001b[0m",
      "\u001b[0;31mNameError\u001b[0m: name 'end2' is not defined"
     ]
    }
   ],
   "source": [
    "print(\"L'affichage du résultat a nécessité\" + \" \" + str(round(end2 - start2, 2)) + \"s\")"
   ]
  },
  {
   "cell_type": "code",
   "execution_count": null,
   "metadata": {},
   "outputs": [],
   "source": [
    "# 3) Tous les pilotes allemands # ok\n",
    "query_res = graph_db.run(\"MATCH (d:drivers) WHERE d.nationality= '\\\"German\\\"' RETURN d.name, d.surname\").data()\n",
    "df = pd.DataFrame(query_res)\n",
    "df.columns = ('name', \"surname\")\n",
    "df.head()\n",
    "df[\"name\"] = df[\"name\"].str.replace(r\"[\\\"]\",\" \") \n",
    "df[\"surname\"] = df[\"surname\"].str.replace(r\"[\\\"]\",\" \") \n",
    "df.head()"
   ]
  },
  {
   "cell_type": "markdown",
   "metadata": {},
   "source": [
    "  > Pilote les plus titrés top 3 "
   ]
  },
  {
   "cell_type": "code",
   "execution_count": null,
   "metadata": {},
   "outputs": [],
   "source": [
    "client.command(\"\")"
   ]
  },
  {
   "cell_type": "code",
   "execution_count": null,
   "metadata": {},
   "outputs": [],
   "source": [
    "# 12) Quel est le classement des pilotes les plus titrés ? Top 3 pour l'instant # ok\n",
    "graph_db.run(\"Match (p:drivers)-[:`RESULTATS PILOTE`]-(res:Result {rank:'1.0'}) Return count(res) as nbtitre,p.name,p.surname,p.nationality ORDER BY nbtitre desc\")"
   ]
  },
  {
   "cell_type": "markdown",
   "metadata": {},
   "source": [
    "  > ###### Schéma complet de Renault au grand prix de Singapour de 2017"
   ]
  },
  {
   "cell_type": "code",
   "execution_count": null,
   "metadata": {},
   "outputs": [],
   "source": [
    "client.command(\"\")"
   ]
  },
  {
   "cell_type": "code",
   "execution_count": null,
   "metadata": {},
   "outputs": [],
   "source": [
    "graph_db.run(\"MATCH (course:Race {date:'2017-09-17', name:'Singapore Grand Prix'})-[:`A LA COURSE `]-(res:Result),(res:Result)-[:`RESULTATS ECURIE`]-(ecurie:Constructor {name:'Renault'}),(res:Result)-[:`RESULTATS PILOTE`]-(pilote:drivers), (circuit:Circuit)-[:`SUR LE CIRCUIT `]-(course:Race)Return course.name,res.rank,ecurie.name,pilote.name,pilote.surname,circuit.name\")"
   ]
  },
  {
   "cell_type": "markdown",
   "metadata": {},
   "source": [
    "Shortest path\n",
    "SELECT expand(path) FROM (\n",
    "  SELECT shortestPath($from, $to) AS path \n",
    "  LET \n",
    "    $from = (SELECT FROM Profiles WHERE Name='Santo' and Surname='OrientDB'), \n",
    "    $to = (SELECT FROM Countries WHERE Name='United States') \n",
    "  UNWIND path\n",
    ")"
   ]
  },
  {
   "cell_type": "markdown",
   "metadata": {},
   "source": [
    "## 3. Comparaison "
   ]
  },
  {
   "cell_type": "raw",
   "metadata": {},
   "source": [
    "# Tableau comparatif "
   ]
  },
  {
   "cell_type": "raw",
   "metadata": {},
   "source": [
    "# Tableau comparatif "
   ]
  }
 ],
 "metadata": {
  "kernelspec": {
   "display_name": "Python 3",
   "language": "python",
   "name": "python3"
  },
  "language_info": {
   "codemirror_mode": {
    "name": "ipython",
    "version": 3
   },
   "file_extension": ".py",
   "mimetype": "text/x-python",
   "name": "python",
   "nbconvert_exporter": "python",
   "pygments_lexer": "ipython3",
   "version": "3.7.4"
  }
 },
 "nbformat": 4,
 "nbformat_minor": 4
}
